{
  "nbformat": 4,
  "nbformat_minor": 0,
  "metadata": {
    "colab": {
      "name": "DL_ass1.ipynb",
      "provenance": [],
      "collapsed_sections": []
    },
    "kernelspec": {
      "name": "python3",
      "display_name": "Python 3"
    },
    "language_info": {
      "name": "python"
    },
    "accelerator": "GPU"
  },
  "cells": [
    {
      "cell_type": "code",
      "metadata": {
        "id": "ezKI6FXzbUOq"
      },
      "source": [
        "import tensorflow as tf\n",
        "import numpy as np\n",
        "import pandas as pd\n",
        "import scipy as sc\n",
        "import math\n",
        "import matplotlib.pyplot as plt\n",
        "import seaborn as sns"
      ],
      "execution_count": 2,
      "outputs": []
    },
    {
      "cell_type": "code",
      "metadata": {
        "colab": {
          "base_uri": "https://localhost:8080/"
        },
        "id": "kqrVBQd_2ZrX",
        "outputId": "b980ddc8-31e5-4c22-e308-6807ac4ec66d"
      },
      "source": [
        "from google.colab import drive\n",
        "drive.mount('/content/drive')"
      ],
      "execution_count": 1,
      "outputs": [
        {
          "output_type": "stream",
          "name": "stdout",
          "text": [
            "Mounted at /content/drive\n"
          ]
        }
      ]
    },
    {
      "cell_type": "code",
      "metadata": {
        "id": "QhfP9Xg87kHo"
      },
      "source": [
        "# 1.Load the dataset :"
      ],
      "execution_count": 107,
      "outputs": []
    },
    {
      "cell_type": "code",
      "metadata": {
        "id": "zCCI1rzNbV58",
        "colab": {
          "base_uri": "https://localhost:8080/",
          "height": 439
        },
        "outputId": "d753229c-21a1-4042-a580-ae96f491f74f"
      },
      "source": [
        "data = pd.read_csv('/content/drive/MyDrive/Colab Notebooks/creditcard.csv')\n",
        "data"
      ],
      "execution_count": 3,
      "outputs": [
        {
          "output_type": "execute_result",
          "data": {
            "text/html": [
              "<div>\n",
              "<style scoped>\n",
              "    .dataframe tbody tr th:only-of-type {\n",
              "        vertical-align: middle;\n",
              "    }\n",
              "\n",
              "    .dataframe tbody tr th {\n",
              "        vertical-align: top;\n",
              "    }\n",
              "\n",
              "    .dataframe thead th {\n",
              "        text-align: right;\n",
              "    }\n",
              "</style>\n",
              "<table border=\"1\" class=\"dataframe\">\n",
              "  <thead>\n",
              "    <tr style=\"text-align: right;\">\n",
              "      <th></th>\n",
              "      <th>Time</th>\n",
              "      <th>V1</th>\n",
              "      <th>V2</th>\n",
              "      <th>V3</th>\n",
              "      <th>V4</th>\n",
              "      <th>V5</th>\n",
              "      <th>V6</th>\n",
              "      <th>V7</th>\n",
              "      <th>V8</th>\n",
              "      <th>V9</th>\n",
              "      <th>V10</th>\n",
              "      <th>V11</th>\n",
              "      <th>V12</th>\n",
              "      <th>V13</th>\n",
              "      <th>V14</th>\n",
              "      <th>V15</th>\n",
              "      <th>V16</th>\n",
              "      <th>V17</th>\n",
              "      <th>V18</th>\n",
              "      <th>V19</th>\n",
              "      <th>V20</th>\n",
              "      <th>V21</th>\n",
              "      <th>V22</th>\n",
              "      <th>V23</th>\n",
              "      <th>V24</th>\n",
              "      <th>V25</th>\n",
              "      <th>V26</th>\n",
              "      <th>V27</th>\n",
              "      <th>V28</th>\n",
              "      <th>Amount</th>\n",
              "      <th>Class</th>\n",
              "    </tr>\n",
              "  </thead>\n",
              "  <tbody>\n",
              "    <tr>\n",
              "      <th>0</th>\n",
              "      <td>0.0</td>\n",
              "      <td>-1.359807</td>\n",
              "      <td>-0.072781</td>\n",
              "      <td>2.536347</td>\n",
              "      <td>1.378155</td>\n",
              "      <td>-0.338321</td>\n",
              "      <td>0.462388</td>\n",
              "      <td>0.239599</td>\n",
              "      <td>0.098698</td>\n",
              "      <td>0.363787</td>\n",
              "      <td>0.090794</td>\n",
              "      <td>-0.551600</td>\n",
              "      <td>-0.617801</td>\n",
              "      <td>-0.991390</td>\n",
              "      <td>-0.311169</td>\n",
              "      <td>1.468177</td>\n",
              "      <td>-0.470401</td>\n",
              "      <td>0.207971</td>\n",
              "      <td>0.025791</td>\n",
              "      <td>0.403993</td>\n",
              "      <td>0.251412</td>\n",
              "      <td>-0.018307</td>\n",
              "      <td>0.277838</td>\n",
              "      <td>-0.110474</td>\n",
              "      <td>0.066928</td>\n",
              "      <td>0.128539</td>\n",
              "      <td>-0.189115</td>\n",
              "      <td>0.133558</td>\n",
              "      <td>-0.021053</td>\n",
              "      <td>149.62</td>\n",
              "      <td>0.0</td>\n",
              "    </tr>\n",
              "    <tr>\n",
              "      <th>1</th>\n",
              "      <td>0.0</td>\n",
              "      <td>1.191857</td>\n",
              "      <td>0.266151</td>\n",
              "      <td>0.166480</td>\n",
              "      <td>0.448154</td>\n",
              "      <td>0.060018</td>\n",
              "      <td>-0.082361</td>\n",
              "      <td>-0.078803</td>\n",
              "      <td>0.085102</td>\n",
              "      <td>-0.255425</td>\n",
              "      <td>-0.166974</td>\n",
              "      <td>1.612727</td>\n",
              "      <td>1.065235</td>\n",
              "      <td>0.489095</td>\n",
              "      <td>-0.143772</td>\n",
              "      <td>0.635558</td>\n",
              "      <td>0.463917</td>\n",
              "      <td>-0.114805</td>\n",
              "      <td>-0.183361</td>\n",
              "      <td>-0.145783</td>\n",
              "      <td>-0.069083</td>\n",
              "      <td>-0.225775</td>\n",
              "      <td>-0.638672</td>\n",
              "      <td>0.101288</td>\n",
              "      <td>-0.339846</td>\n",
              "      <td>0.167170</td>\n",
              "      <td>0.125895</td>\n",
              "      <td>-0.008983</td>\n",
              "      <td>0.014724</td>\n",
              "      <td>2.69</td>\n",
              "      <td>0.0</td>\n",
              "    </tr>\n",
              "    <tr>\n",
              "      <th>2</th>\n",
              "      <td>1.0</td>\n",
              "      <td>-1.358354</td>\n",
              "      <td>-1.340163</td>\n",
              "      <td>1.773209</td>\n",
              "      <td>0.379780</td>\n",
              "      <td>-0.503198</td>\n",
              "      <td>1.800499</td>\n",
              "      <td>0.791461</td>\n",
              "      <td>0.247676</td>\n",
              "      <td>-1.514654</td>\n",
              "      <td>0.207643</td>\n",
              "      <td>0.624501</td>\n",
              "      <td>0.066084</td>\n",
              "      <td>0.717293</td>\n",
              "      <td>-0.165946</td>\n",
              "      <td>2.345865</td>\n",
              "      <td>-2.890083</td>\n",
              "      <td>1.109969</td>\n",
              "      <td>-0.121359</td>\n",
              "      <td>-2.261857</td>\n",
              "      <td>0.524980</td>\n",
              "      <td>0.247998</td>\n",
              "      <td>0.771679</td>\n",
              "      <td>0.909412</td>\n",
              "      <td>-0.689281</td>\n",
              "      <td>-0.327642</td>\n",
              "      <td>-0.139097</td>\n",
              "      <td>-0.055353</td>\n",
              "      <td>-0.059752</td>\n",
              "      <td>378.66</td>\n",
              "      <td>0.0</td>\n",
              "    </tr>\n",
              "    <tr>\n",
              "      <th>3</th>\n",
              "      <td>1.0</td>\n",
              "      <td>-0.966272</td>\n",
              "      <td>-0.185226</td>\n",
              "      <td>1.792993</td>\n",
              "      <td>-0.863291</td>\n",
              "      <td>-0.010309</td>\n",
              "      <td>1.247203</td>\n",
              "      <td>0.237609</td>\n",
              "      <td>0.377436</td>\n",
              "      <td>-1.387024</td>\n",
              "      <td>-0.054952</td>\n",
              "      <td>-0.226487</td>\n",
              "      <td>0.178228</td>\n",
              "      <td>0.507757</td>\n",
              "      <td>-0.287924</td>\n",
              "      <td>-0.631418</td>\n",
              "      <td>-1.059647</td>\n",
              "      <td>-0.684093</td>\n",
              "      <td>1.965775</td>\n",
              "      <td>-1.232622</td>\n",
              "      <td>-0.208038</td>\n",
              "      <td>-0.108300</td>\n",
              "      <td>0.005274</td>\n",
              "      <td>-0.190321</td>\n",
              "      <td>-1.175575</td>\n",
              "      <td>0.647376</td>\n",
              "      <td>-0.221929</td>\n",
              "      <td>0.062723</td>\n",
              "      <td>0.061458</td>\n",
              "      <td>123.50</td>\n",
              "      <td>0.0</td>\n",
              "    </tr>\n",
              "    <tr>\n",
              "      <th>4</th>\n",
              "      <td>2.0</td>\n",
              "      <td>-1.158233</td>\n",
              "      <td>0.877737</td>\n",
              "      <td>1.548718</td>\n",
              "      <td>0.403034</td>\n",
              "      <td>-0.407193</td>\n",
              "      <td>0.095921</td>\n",
              "      <td>0.592941</td>\n",
              "      <td>-0.270533</td>\n",
              "      <td>0.817739</td>\n",
              "      <td>0.753074</td>\n",
              "      <td>-0.822843</td>\n",
              "      <td>0.538196</td>\n",
              "      <td>1.345852</td>\n",
              "      <td>-1.119670</td>\n",
              "      <td>0.175121</td>\n",
              "      <td>-0.451449</td>\n",
              "      <td>-0.237033</td>\n",
              "      <td>-0.038195</td>\n",
              "      <td>0.803487</td>\n",
              "      <td>0.408542</td>\n",
              "      <td>-0.009431</td>\n",
              "      <td>0.798278</td>\n",
              "      <td>-0.137458</td>\n",
              "      <td>0.141267</td>\n",
              "      <td>-0.206010</td>\n",
              "      <td>0.502292</td>\n",
              "      <td>0.219422</td>\n",
              "      <td>0.215153</td>\n",
              "      <td>69.99</td>\n",
              "      <td>0.0</td>\n",
              "    </tr>\n",
              "    <tr>\n",
              "      <th>...</th>\n",
              "      <td>...</td>\n",
              "      <td>...</td>\n",
              "      <td>...</td>\n",
              "      <td>...</td>\n",
              "      <td>...</td>\n",
              "      <td>...</td>\n",
              "      <td>...</td>\n",
              "      <td>...</td>\n",
              "      <td>...</td>\n",
              "      <td>...</td>\n",
              "      <td>...</td>\n",
              "      <td>...</td>\n",
              "      <td>...</td>\n",
              "      <td>...</td>\n",
              "      <td>...</td>\n",
              "      <td>...</td>\n",
              "      <td>...</td>\n",
              "      <td>...</td>\n",
              "      <td>...</td>\n",
              "      <td>...</td>\n",
              "      <td>...</td>\n",
              "      <td>...</td>\n",
              "      <td>...</td>\n",
              "      <td>...</td>\n",
              "      <td>...</td>\n",
              "      <td>...</td>\n",
              "      <td>...</td>\n",
              "      <td>...</td>\n",
              "      <td>...</td>\n",
              "      <td>...</td>\n",
              "      <td>...</td>\n",
              "    </tr>\n",
              "    <tr>\n",
              "      <th>221875</th>\n",
              "      <td>142733.0</td>\n",
              "      <td>-0.546587</td>\n",
              "      <td>-0.780787</td>\n",
              "      <td>0.330652</td>\n",
              "      <td>-2.762632</td>\n",
              "      <td>-0.803491</td>\n",
              "      <td>-0.930944</td>\n",
              "      <td>-0.752935</td>\n",
              "      <td>0.445075</td>\n",
              "      <td>-2.145843</td>\n",
              "      <td>0.676511</td>\n",
              "      <td>0.192335</td>\n",
              "      <td>-0.597231</td>\n",
              "      <td>-0.573155</td>\n",
              "      <td>0.156563</td>\n",
              "      <td>-1.643004</td>\n",
              "      <td>-0.103357</td>\n",
              "      <td>0.216691</td>\n",
              "      <td>0.499693</td>\n",
              "      <td>-0.689119</td>\n",
              "      <td>-0.502079</td>\n",
              "      <td>0.084578</td>\n",
              "      <td>0.339543</td>\n",
              "      <td>0.143556</td>\n",
              "      <td>-0.033817</td>\n",
              "      <td>-1.002573</td>\n",
              "      <td>-0.466493</td>\n",
              "      <td>0.106997</td>\n",
              "      <td>0.088778</td>\n",
              "      <td>21.56</td>\n",
              "      <td>0.0</td>\n",
              "    </tr>\n",
              "    <tr>\n",
              "      <th>221876</th>\n",
              "      <td>142733.0</td>\n",
              "      <td>-0.597571</td>\n",
              "      <td>1.068927</td>\n",
              "      <td>-0.152701</td>\n",
              "      <td>-0.665124</td>\n",
              "      <td>-0.070571</td>\n",
              "      <td>-0.995440</td>\n",
              "      <td>0.386394</td>\n",
              "      <td>0.480148</td>\n",
              "      <td>-0.002532</td>\n",
              "      <td>-0.098274</td>\n",
              "      <td>0.413469</td>\n",
              "      <td>0.042777</td>\n",
              "      <td>-1.885514</td>\n",
              "      <td>0.931703</td>\n",
              "      <td>-0.928689</td>\n",
              "      <td>0.264155</td>\n",
              "      <td>-0.358804</td>\n",
              "      <td>-0.034014</td>\n",
              "      <td>0.148396</td>\n",
              "      <td>-0.128332</td>\n",
              "      <td>-0.210893</td>\n",
              "      <td>-0.630909</td>\n",
              "      <td>0.146927</td>\n",
              "      <td>0.015893</td>\n",
              "      <td>-0.521202</td>\n",
              "      <td>0.127886</td>\n",
              "      <td>0.212734</td>\n",
              "      <td>0.078965</td>\n",
              "      <td>1.29</td>\n",
              "      <td>0.0</td>\n",
              "    </tr>\n",
              "    <tr>\n",
              "      <th>221877</th>\n",
              "      <td>142733.0</td>\n",
              "      <td>-0.344935</td>\n",
              "      <td>1.385742</td>\n",
              "      <td>0.686680</td>\n",
              "      <td>1.035083</td>\n",
              "      <td>0.256868</td>\n",
              "      <td>-0.460239</td>\n",
              "      <td>0.963755</td>\n",
              "      <td>-0.294085</td>\n",
              "      <td>-0.565671</td>\n",
              "      <td>-1.034799</td>\n",
              "      <td>-0.069801</td>\n",
              "      <td>0.318885</td>\n",
              "      <td>1.207708</td>\n",
              "      <td>-1.796288</td>\n",
              "      <td>1.148042</td>\n",
              "      <td>-1.171029</td>\n",
              "      <td>2.175283</td>\n",
              "      <td>0.414696</td>\n",
              "      <td>2.943103</td>\n",
              "      <td>0.385026</td>\n",
              "      <td>-0.211719</td>\n",
              "      <td>-0.288454</td>\n",
              "      <td>-0.367644</td>\n",
              "      <td>-0.007358</td>\n",
              "      <td>0.396272</td>\n",
              "      <td>0.465707</td>\n",
              "      <td>-0.002034</td>\n",
              "      <td>0.097146</td>\n",
              "      <td>40.78</td>\n",
              "      <td>0.0</td>\n",
              "    </tr>\n",
              "    <tr>\n",
              "      <th>221878</th>\n",
              "      <td>142734.0</td>\n",
              "      <td>0.775498</td>\n",
              "      <td>-1.572136</td>\n",
              "      <td>-2.926213</td>\n",
              "      <td>3.073629</td>\n",
              "      <td>2.369151</td>\n",
              "      <td>4.231861</td>\n",
              "      <td>0.483197</td>\n",
              "      <td>0.728411</td>\n",
              "      <td>-1.356134</td>\n",
              "      <td>1.285978</td>\n",
              "      <td>-0.331213</td>\n",
              "      <td>-0.345107</td>\n",
              "      <td>-0.027789</td>\n",
              "      <td>0.752094</td>\n",
              "      <td>0.179450</td>\n",
              "      <td>0.913752</td>\n",
              "      <td>-0.988710</td>\n",
              "      <td>-0.220580</td>\n",
              "      <td>-2.058627</td>\n",
              "      <td>1.009984</td>\n",
              "      <td>0.590114</td>\n",
              "      <td>0.226195</td>\n",
              "      <td>-0.428105</td>\n",
              "      <td>0.720941</td>\n",
              "      <td>-0.058027</td>\n",
              "      <td>0.089077</td>\n",
              "      <td>-0.140563</td>\n",
              "      <td>0.046027</td>\n",
              "      <td>605.50</td>\n",
              "      <td>0.0</td>\n",
              "    </tr>\n",
              "    <tr>\n",
              "      <th>221879</th>\n",
              "      <td>142734.0</td>\n",
              "      <td>2.092177</td>\n",
              "      <td>-0.831999</td>\n",
              "      <td>-2.268587</td>\n",
              "      <td>-1.045876</td>\n",
              "      <td>0.065359</td>\n",
              "      <td>-1.032196</td>\n",
              "      <td>0.131593</td>\n",
              "      <td>-0.329721</td>\n",
              "      <td>-1.092354</td>\n",
              "      <td>1.085452</td>\n",
              "      <td>0.983275</td>\n",
              "      <td>-0.554958</td>\n",
              "      <td>-1.128499</td>\n",
              "      <td>0.800712</td>\n",
              "      <td>-0.554977</td>\n",
              "      <td>0.648116</td>\n",
              "      <td>0.214754</td>\n",
              "      <td>-1.128174</td>\n",
              "      <td>0.856837</td>\n",
              "      <td>0.050000</td>\n",
              "      <td>NaN</td>\n",
              "      <td>NaN</td>\n",
              "      <td>NaN</td>\n",
              "      <td>NaN</td>\n",
              "      <td>NaN</td>\n",
              "      <td>NaN</td>\n",
              "      <td>NaN</td>\n",
              "      <td>NaN</td>\n",
              "      <td>NaN</td>\n",
              "      <td>NaN</td>\n",
              "    </tr>\n",
              "  </tbody>\n",
              "</table>\n",
              "<p>221880 rows × 31 columns</p>\n",
              "</div>"
            ],
            "text/plain": [
              "            Time        V1        V2  ...       V28  Amount  Class\n",
              "0            0.0 -1.359807 -0.072781  ... -0.021053  149.62    0.0\n",
              "1            0.0  1.191857  0.266151  ...  0.014724    2.69    0.0\n",
              "2            1.0 -1.358354 -1.340163  ... -0.059752  378.66    0.0\n",
              "3            1.0 -0.966272 -0.185226  ...  0.061458  123.50    0.0\n",
              "4            2.0 -1.158233  0.877737  ...  0.215153   69.99    0.0\n",
              "...          ...       ...       ...  ...       ...     ...    ...\n",
              "221875  142733.0 -0.546587 -0.780787  ...  0.088778   21.56    0.0\n",
              "221876  142733.0 -0.597571  1.068927  ...  0.078965    1.29    0.0\n",
              "221877  142733.0 -0.344935  1.385742  ...  0.097146   40.78    0.0\n",
              "221878  142734.0  0.775498 -1.572136  ...  0.046027  605.50    0.0\n",
              "221879  142734.0  2.092177 -0.831999  ...       NaN     NaN    NaN\n",
              "\n",
              "[221880 rows x 31 columns]"
            ]
          },
          "metadata": {},
          "execution_count": 3
        }
      ]
    },
    {
      "cell_type": "markdown",
      "metadata": {
        "id": "OVWOfAbz8Glv"
      },
      "source": [
        "# 2.Preprocessing.\n",
        "    a) Print the first 5 rows of the dataset\n",
        "    b) Check the features in the dataset\n",
        "    c)Check the missing values\n",
        "    d)Check the numerical features in the dataset \n",
        "    e) Check the distribution of categorical columns"
      ]
    },
    {
      "cell_type": "code",
      "metadata": {
        "colab": {
          "base_uri": "https://localhost:8080/",
          "height": 224
        },
        "id": "TxHmWzDz7ski",
        "outputId": "06213f92-48d4-4404-e2b1-3c3ffd1d84bb"
      },
      "source": [
        "data.head()"
      ],
      "execution_count": 4,
      "outputs": [
        {
          "output_type": "execute_result",
          "data": {
            "text/html": [
              "<div>\n",
              "<style scoped>\n",
              "    .dataframe tbody tr th:only-of-type {\n",
              "        vertical-align: middle;\n",
              "    }\n",
              "\n",
              "    .dataframe tbody tr th {\n",
              "        vertical-align: top;\n",
              "    }\n",
              "\n",
              "    .dataframe thead th {\n",
              "        text-align: right;\n",
              "    }\n",
              "</style>\n",
              "<table border=\"1\" class=\"dataframe\">\n",
              "  <thead>\n",
              "    <tr style=\"text-align: right;\">\n",
              "      <th></th>\n",
              "      <th>Time</th>\n",
              "      <th>V1</th>\n",
              "      <th>V2</th>\n",
              "      <th>V3</th>\n",
              "      <th>V4</th>\n",
              "      <th>V5</th>\n",
              "      <th>V6</th>\n",
              "      <th>V7</th>\n",
              "      <th>V8</th>\n",
              "      <th>V9</th>\n",
              "      <th>V10</th>\n",
              "      <th>V11</th>\n",
              "      <th>V12</th>\n",
              "      <th>V13</th>\n",
              "      <th>V14</th>\n",
              "      <th>V15</th>\n",
              "      <th>V16</th>\n",
              "      <th>V17</th>\n",
              "      <th>V18</th>\n",
              "      <th>V19</th>\n",
              "      <th>V20</th>\n",
              "      <th>V21</th>\n",
              "      <th>V22</th>\n",
              "      <th>V23</th>\n",
              "      <th>V24</th>\n",
              "      <th>V25</th>\n",
              "      <th>V26</th>\n",
              "      <th>V27</th>\n",
              "      <th>V28</th>\n",
              "      <th>Amount</th>\n",
              "      <th>Class</th>\n",
              "    </tr>\n",
              "  </thead>\n",
              "  <tbody>\n",
              "    <tr>\n",
              "      <th>0</th>\n",
              "      <td>0.0</td>\n",
              "      <td>-1.359807</td>\n",
              "      <td>-0.072781</td>\n",
              "      <td>2.536347</td>\n",
              "      <td>1.378155</td>\n",
              "      <td>-0.338321</td>\n",
              "      <td>0.462388</td>\n",
              "      <td>0.239599</td>\n",
              "      <td>0.098698</td>\n",
              "      <td>0.363787</td>\n",
              "      <td>0.090794</td>\n",
              "      <td>-0.551600</td>\n",
              "      <td>-0.617801</td>\n",
              "      <td>-0.991390</td>\n",
              "      <td>-0.311169</td>\n",
              "      <td>1.468177</td>\n",
              "      <td>-0.470401</td>\n",
              "      <td>0.207971</td>\n",
              "      <td>0.025791</td>\n",
              "      <td>0.403993</td>\n",
              "      <td>0.251412</td>\n",
              "      <td>-0.018307</td>\n",
              "      <td>0.277838</td>\n",
              "      <td>-0.110474</td>\n",
              "      <td>0.066928</td>\n",
              "      <td>0.128539</td>\n",
              "      <td>-0.189115</td>\n",
              "      <td>0.133558</td>\n",
              "      <td>-0.021053</td>\n",
              "      <td>149.62</td>\n",
              "      <td>0.0</td>\n",
              "    </tr>\n",
              "    <tr>\n",
              "      <th>1</th>\n",
              "      <td>0.0</td>\n",
              "      <td>1.191857</td>\n",
              "      <td>0.266151</td>\n",
              "      <td>0.166480</td>\n",
              "      <td>0.448154</td>\n",
              "      <td>0.060018</td>\n",
              "      <td>-0.082361</td>\n",
              "      <td>-0.078803</td>\n",
              "      <td>0.085102</td>\n",
              "      <td>-0.255425</td>\n",
              "      <td>-0.166974</td>\n",
              "      <td>1.612727</td>\n",
              "      <td>1.065235</td>\n",
              "      <td>0.489095</td>\n",
              "      <td>-0.143772</td>\n",
              "      <td>0.635558</td>\n",
              "      <td>0.463917</td>\n",
              "      <td>-0.114805</td>\n",
              "      <td>-0.183361</td>\n",
              "      <td>-0.145783</td>\n",
              "      <td>-0.069083</td>\n",
              "      <td>-0.225775</td>\n",
              "      <td>-0.638672</td>\n",
              "      <td>0.101288</td>\n",
              "      <td>-0.339846</td>\n",
              "      <td>0.167170</td>\n",
              "      <td>0.125895</td>\n",
              "      <td>-0.008983</td>\n",
              "      <td>0.014724</td>\n",
              "      <td>2.69</td>\n",
              "      <td>0.0</td>\n",
              "    </tr>\n",
              "    <tr>\n",
              "      <th>2</th>\n",
              "      <td>1.0</td>\n",
              "      <td>-1.358354</td>\n",
              "      <td>-1.340163</td>\n",
              "      <td>1.773209</td>\n",
              "      <td>0.379780</td>\n",
              "      <td>-0.503198</td>\n",
              "      <td>1.800499</td>\n",
              "      <td>0.791461</td>\n",
              "      <td>0.247676</td>\n",
              "      <td>-1.514654</td>\n",
              "      <td>0.207643</td>\n",
              "      <td>0.624501</td>\n",
              "      <td>0.066084</td>\n",
              "      <td>0.717293</td>\n",
              "      <td>-0.165946</td>\n",
              "      <td>2.345865</td>\n",
              "      <td>-2.890083</td>\n",
              "      <td>1.109969</td>\n",
              "      <td>-0.121359</td>\n",
              "      <td>-2.261857</td>\n",
              "      <td>0.524980</td>\n",
              "      <td>0.247998</td>\n",
              "      <td>0.771679</td>\n",
              "      <td>0.909412</td>\n",
              "      <td>-0.689281</td>\n",
              "      <td>-0.327642</td>\n",
              "      <td>-0.139097</td>\n",
              "      <td>-0.055353</td>\n",
              "      <td>-0.059752</td>\n",
              "      <td>378.66</td>\n",
              "      <td>0.0</td>\n",
              "    </tr>\n",
              "    <tr>\n",
              "      <th>3</th>\n",
              "      <td>1.0</td>\n",
              "      <td>-0.966272</td>\n",
              "      <td>-0.185226</td>\n",
              "      <td>1.792993</td>\n",
              "      <td>-0.863291</td>\n",
              "      <td>-0.010309</td>\n",
              "      <td>1.247203</td>\n",
              "      <td>0.237609</td>\n",
              "      <td>0.377436</td>\n",
              "      <td>-1.387024</td>\n",
              "      <td>-0.054952</td>\n",
              "      <td>-0.226487</td>\n",
              "      <td>0.178228</td>\n",
              "      <td>0.507757</td>\n",
              "      <td>-0.287924</td>\n",
              "      <td>-0.631418</td>\n",
              "      <td>-1.059647</td>\n",
              "      <td>-0.684093</td>\n",
              "      <td>1.965775</td>\n",
              "      <td>-1.232622</td>\n",
              "      <td>-0.208038</td>\n",
              "      <td>-0.108300</td>\n",
              "      <td>0.005274</td>\n",
              "      <td>-0.190321</td>\n",
              "      <td>-1.175575</td>\n",
              "      <td>0.647376</td>\n",
              "      <td>-0.221929</td>\n",
              "      <td>0.062723</td>\n",
              "      <td>0.061458</td>\n",
              "      <td>123.50</td>\n",
              "      <td>0.0</td>\n",
              "    </tr>\n",
              "    <tr>\n",
              "      <th>4</th>\n",
              "      <td>2.0</td>\n",
              "      <td>-1.158233</td>\n",
              "      <td>0.877737</td>\n",
              "      <td>1.548718</td>\n",
              "      <td>0.403034</td>\n",
              "      <td>-0.407193</td>\n",
              "      <td>0.095921</td>\n",
              "      <td>0.592941</td>\n",
              "      <td>-0.270533</td>\n",
              "      <td>0.817739</td>\n",
              "      <td>0.753074</td>\n",
              "      <td>-0.822843</td>\n",
              "      <td>0.538196</td>\n",
              "      <td>1.345852</td>\n",
              "      <td>-1.119670</td>\n",
              "      <td>0.175121</td>\n",
              "      <td>-0.451449</td>\n",
              "      <td>-0.237033</td>\n",
              "      <td>-0.038195</td>\n",
              "      <td>0.803487</td>\n",
              "      <td>0.408542</td>\n",
              "      <td>-0.009431</td>\n",
              "      <td>0.798278</td>\n",
              "      <td>-0.137458</td>\n",
              "      <td>0.141267</td>\n",
              "      <td>-0.206010</td>\n",
              "      <td>0.502292</td>\n",
              "      <td>0.219422</td>\n",
              "      <td>0.215153</td>\n",
              "      <td>69.99</td>\n",
              "      <td>0.0</td>\n",
              "    </tr>\n",
              "  </tbody>\n",
              "</table>\n",
              "</div>"
            ],
            "text/plain": [
              "   Time        V1        V2        V3  ...       V27       V28  Amount  Class\n",
              "0   0.0 -1.359807 -0.072781  2.536347  ...  0.133558 -0.021053  149.62    0.0\n",
              "1   0.0  1.191857  0.266151  0.166480  ... -0.008983  0.014724    2.69    0.0\n",
              "2   1.0 -1.358354 -1.340163  1.773209  ... -0.055353 -0.059752  378.66    0.0\n",
              "3   1.0 -0.966272 -0.185226  1.792993  ...  0.062723  0.061458  123.50    0.0\n",
              "4   2.0 -1.158233  0.877737  1.548718  ...  0.219422  0.215153   69.99    0.0\n",
              "\n",
              "[5 rows x 31 columns]"
            ]
          },
          "metadata": {},
          "execution_count": 4
        }
      ]
    },
    {
      "cell_type": "code",
      "metadata": {
        "colab": {
          "base_uri": "https://localhost:8080/"
        },
        "id": "746HaK5m7sZf",
        "outputId": "10e6456d-0ae6-4d03-9020-8d8a40665180"
      },
      "source": [
        "data.info()"
      ],
      "execution_count": 5,
      "outputs": [
        {
          "output_type": "stream",
          "name": "stdout",
          "text": [
            "<class 'pandas.core.frame.DataFrame'>\n",
            "RangeIndex: 221880 entries, 0 to 221879\n",
            "Data columns (total 31 columns):\n",
            " #   Column  Non-Null Count   Dtype  \n",
            "---  ------  --------------   -----  \n",
            " 0   Time    221880 non-null  float64\n",
            " 1   V1      221880 non-null  float64\n",
            " 2   V2      221880 non-null  float64\n",
            " 3   V3      221880 non-null  float64\n",
            " 4   V4      221880 non-null  float64\n",
            " 5   V5      221880 non-null  float64\n",
            " 6   V6      221880 non-null  float64\n",
            " 7   V7      221880 non-null  float64\n",
            " 8   V8      221880 non-null  float64\n",
            " 9   V9      221880 non-null  float64\n",
            " 10  V10     221880 non-null  float64\n",
            " 11  V11     221880 non-null  float64\n",
            " 12  V12     221880 non-null  float64\n",
            " 13  V13     221880 non-null  float64\n",
            " 14  V14     221880 non-null  float64\n",
            " 15  V15     221880 non-null  float64\n",
            " 16  V16     221880 non-null  float64\n",
            " 17  V17     221880 non-null  float64\n",
            " 18  V18     221880 non-null  float64\n",
            " 19  V19     221880 non-null  float64\n",
            " 20  V20     221880 non-null  float64\n",
            " 21  V21     221879 non-null  float64\n",
            " 22  V22     221879 non-null  float64\n",
            " 23  V23     221879 non-null  float64\n",
            " 24  V24     221879 non-null  float64\n",
            " 25  V25     221879 non-null  float64\n",
            " 26  V26     221879 non-null  float64\n",
            " 27  V27     221879 non-null  float64\n",
            " 28  V28     221879 non-null  float64\n",
            " 29  Amount  221879 non-null  float64\n",
            " 30  Class   221879 non-null  float64\n",
            "dtypes: float64(31)\n",
            "memory usage: 52.5 MB\n"
          ]
        }
      ]
    },
    {
      "cell_type": "code",
      "metadata": {
        "colab": {
          "base_uri": "https://localhost:8080/"
        },
        "id": "-cJxbQSB7rWx",
        "outputId": "4ab49110-e776-478f-ad06-7d57c8e12095"
      },
      "source": [
        "data.isnull().sum()"
      ],
      "execution_count": 6,
      "outputs": [
        {
          "output_type": "execute_result",
          "data": {
            "text/plain": [
              "Time      0\n",
              "V1        0\n",
              "V2        0\n",
              "V3        0\n",
              "V4        0\n",
              "V5        0\n",
              "V6        0\n",
              "V7        0\n",
              "V8        0\n",
              "V9        0\n",
              "V10       0\n",
              "V11       0\n",
              "V12       0\n",
              "V13       0\n",
              "V14       0\n",
              "V15       0\n",
              "V16       0\n",
              "V17       0\n",
              "V18       0\n",
              "V19       0\n",
              "V20       0\n",
              "V21       1\n",
              "V22       1\n",
              "V23       1\n",
              "V24       1\n",
              "V25       1\n",
              "V26       1\n",
              "V27       1\n",
              "V28       1\n",
              "Amount    1\n",
              "Class     1\n",
              "dtype: int64"
            ]
          },
          "metadata": {},
          "execution_count": 6
        }
      ]
    },
    {
      "cell_type": "code",
      "metadata": {
        "id": "KSOQd28OBu4S"
      },
      "source": [
        "colname = [\"V21\",\"V22\",\"V23\",\"V24\",\"V25\",\"V26\",\"V27\",\"V28\",\"Amount\",\"Class\"]\n",
        "\n"
      ],
      "execution_count": 7,
      "outputs": []
    },
    {
      "cell_type": "code",
      "metadata": {
        "id": "fdogRbeF9Gfi"
      },
      "source": [
        "#data['V11'].fillna(data['V11'].median(),inplace=True)\n",
        "#data['V12'].fillna(data['V12'].median(),inplace=True)\n",
        "\n",
        "for colname in data:\n",
        "  data[colname].fillna(data[colname].mode()[0], inplace = True)\n",
        "\n",
        "#just filling the missing value with mode in every column"
      ],
      "execution_count": 8,
      "outputs": []
    },
    {
      "cell_type": "code",
      "metadata": {
        "colab": {
          "base_uri": "https://localhost:8080/"
        },
        "id": "kqi4Bp6_CW27",
        "outputId": "b86f6ee0-d4a1-4bf1-d630-dbc300d5a16f"
      },
      "source": [
        "data.isnull().sum()"
      ],
      "execution_count": 9,
      "outputs": [
        {
          "output_type": "execute_result",
          "data": {
            "text/plain": [
              "Time      0\n",
              "V1        0\n",
              "V2        0\n",
              "V3        0\n",
              "V4        0\n",
              "V5        0\n",
              "V6        0\n",
              "V7        0\n",
              "V8        0\n",
              "V9        0\n",
              "V10       0\n",
              "V11       0\n",
              "V12       0\n",
              "V13       0\n",
              "V14       0\n",
              "V15       0\n",
              "V16       0\n",
              "V17       0\n",
              "V18       0\n",
              "V19       0\n",
              "V20       0\n",
              "V21       0\n",
              "V22       0\n",
              "V23       0\n",
              "V24       0\n",
              "V25       0\n",
              "V26       0\n",
              "V27       0\n",
              "V28       0\n",
              "Amount    0\n",
              "Class     0\n",
              "dtype: int64"
            ]
          },
          "metadata": {},
          "execution_count": 9
        }
      ]
    },
    {
      "cell_type": "code",
      "metadata": {
        "colab": {
          "base_uri": "https://localhost:8080/",
          "height": 317
        },
        "id": "pnamSPEu7q5-",
        "outputId": "139455df-f43d-4dd0-c9a6-1f924918dcc0"
      },
      "source": [
        "data.describe()"
      ],
      "execution_count": 10,
      "outputs": [
        {
          "output_type": "execute_result",
          "data": {
            "text/html": [
              "<div>\n",
              "<style scoped>\n",
              "    .dataframe tbody tr th:only-of-type {\n",
              "        vertical-align: middle;\n",
              "    }\n",
              "\n",
              "    .dataframe tbody tr th {\n",
              "        vertical-align: top;\n",
              "    }\n",
              "\n",
              "    .dataframe thead th {\n",
              "        text-align: right;\n",
              "    }\n",
              "</style>\n",
              "<table border=\"1\" class=\"dataframe\">\n",
              "  <thead>\n",
              "    <tr style=\"text-align: right;\">\n",
              "      <th></th>\n",
              "      <th>Time</th>\n",
              "      <th>V1</th>\n",
              "      <th>V2</th>\n",
              "      <th>V3</th>\n",
              "      <th>V4</th>\n",
              "      <th>V5</th>\n",
              "      <th>V6</th>\n",
              "      <th>V7</th>\n",
              "      <th>V8</th>\n",
              "      <th>V9</th>\n",
              "      <th>V10</th>\n",
              "      <th>V11</th>\n",
              "      <th>V12</th>\n",
              "      <th>V13</th>\n",
              "      <th>V14</th>\n",
              "      <th>V15</th>\n",
              "      <th>V16</th>\n",
              "      <th>V17</th>\n",
              "      <th>V18</th>\n",
              "      <th>V19</th>\n",
              "      <th>V20</th>\n",
              "      <th>V21</th>\n",
              "      <th>V22</th>\n",
              "      <th>V23</th>\n",
              "      <th>V24</th>\n",
              "      <th>V25</th>\n",
              "      <th>V26</th>\n",
              "      <th>V27</th>\n",
              "      <th>V28</th>\n",
              "      <th>Amount</th>\n",
              "      <th>Class</th>\n",
              "    </tr>\n",
              "  </thead>\n",
              "  <tbody>\n",
              "    <tr>\n",
              "      <th>count</th>\n",
              "      <td>221880.000000</td>\n",
              "      <td>221880.000000</td>\n",
              "      <td>221880.000000</td>\n",
              "      <td>221880.000000</td>\n",
              "      <td>221880.000000</td>\n",
              "      <td>221880.000000</td>\n",
              "      <td>221880.000000</td>\n",
              "      <td>221880.000000</td>\n",
              "      <td>221880.000000</td>\n",
              "      <td>221880.000000</td>\n",
              "      <td>221880.000000</td>\n",
              "      <td>221880.000000</td>\n",
              "      <td>221880.000000</td>\n",
              "      <td>221880.000000</td>\n",
              "      <td>221880.000000</td>\n",
              "      <td>221880.000000</td>\n",
              "      <td>221880.000000</td>\n",
              "      <td>221880.000000</td>\n",
              "      <td>221880.000000</td>\n",
              "      <td>221880.000000</td>\n",
              "      <td>221880.000000</td>\n",
              "      <td>221880.000000</td>\n",
              "      <td>221880.000000</td>\n",
              "      <td>221880.000000</td>\n",
              "      <td>221880.000000</td>\n",
              "      <td>221880.000000</td>\n",
              "      <td>221880.000000</td>\n",
              "      <td>221880.000000</td>\n",
              "      <td>221880.000000</td>\n",
              "      <td>221880.000000</td>\n",
              "      <td>221880.000000</td>\n",
              "    </tr>\n",
              "    <tr>\n",
              "      <th>mean</th>\n",
              "      <td>77296.823130</td>\n",
              "      <td>-0.074109</td>\n",
              "      <td>-0.011176</td>\n",
              "      <td>0.208921</td>\n",
              "      <td>0.049926</td>\n",
              "      <td>-0.071338</td>\n",
              "      <td>0.033659</td>\n",
              "      <td>-0.029730</td>\n",
              "      <td>0.005548</td>\n",
              "      <td>0.003582</td>\n",
              "      <td>-0.002836</td>\n",
              "      <td>0.086267</td>\n",
              "      <td>-0.049880</td>\n",
              "      <td>0.020626</td>\n",
              "      <td>0.036017</td>\n",
              "      <td>0.056036</td>\n",
              "      <td>-0.006262</td>\n",
              "      <td>0.016589</td>\n",
              "      <td>-0.024977</td>\n",
              "      <td>-0.008732</td>\n",
              "      <td>0.011994</td>\n",
              "      <td>-0.007653</td>\n",
              "      <td>-0.027229</td>\n",
              "      <td>-0.011341</td>\n",
              "      <td>0.001334</td>\n",
              "      <td>0.042575</td>\n",
              "      <td>0.003379</td>\n",
              "      <td>0.000520</td>\n",
              "      <td>0.002201</td>\n",
              "      <td>90.758359</td>\n",
              "      <td>0.001843</td>\n",
              "    </tr>\n",
              "    <tr>\n",
              "      <th>std</th>\n",
              "      <td>38551.561084</td>\n",
              "      <td>1.934175</td>\n",
              "      <td>1.652458</td>\n",
              "      <td>1.483561</td>\n",
              "      <td>1.409439</td>\n",
              "      <td>1.372209</td>\n",
              "      <td>1.320398</td>\n",
              "      <td>1.227869</td>\n",
              "      <td>1.207401</td>\n",
              "      <td>1.125991</td>\n",
              "      <td>1.094493</td>\n",
              "      <td>1.034566</td>\n",
              "      <td>1.062885</td>\n",
              "      <td>1.021849</td>\n",
              "      <td>0.966104</td>\n",
              "      <td>0.936045</td>\n",
              "      <td>0.885605</td>\n",
              "      <td>0.877174</td>\n",
              "      <td>0.842441</td>\n",
              "      <td>0.819900</td>\n",
              "      <td>0.777128</td>\n",
              "      <td>0.743653</td>\n",
              "      <td>0.705782</td>\n",
              "      <td>0.624759</td>\n",
              "      <td>0.605509</td>\n",
              "      <td>0.504728</td>\n",
              "      <td>0.486968</td>\n",
              "      <td>0.399715</td>\n",
              "      <td>0.333098</td>\n",
              "      <td>250.911878</td>\n",
              "      <td>0.042895</td>\n",
              "    </tr>\n",
              "    <tr>\n",
              "      <th>min</th>\n",
              "      <td>0.000000</td>\n",
              "      <td>-56.407510</td>\n",
              "      <td>-72.715728</td>\n",
              "      <td>-33.680984</td>\n",
              "      <td>-5.683171</td>\n",
              "      <td>-42.147898</td>\n",
              "      <td>-26.160506</td>\n",
              "      <td>-43.557242</td>\n",
              "      <td>-73.216718</td>\n",
              "      <td>-13.434066</td>\n",
              "      <td>-24.588262</td>\n",
              "      <td>-4.797473</td>\n",
              "      <td>-18.683715</td>\n",
              "      <td>-5.791881</td>\n",
              "      <td>-19.214325</td>\n",
              "      <td>-4.498945</td>\n",
              "      <td>-14.129855</td>\n",
              "      <td>-25.162799</td>\n",
              "      <td>-9.498746</td>\n",
              "      <td>-7.213527</td>\n",
              "      <td>-28.009635</td>\n",
              "      <td>-34.830382</td>\n",
              "      <td>-10.933144</td>\n",
              "      <td>-44.807735</td>\n",
              "      <td>-2.836627</td>\n",
              "      <td>-10.295397</td>\n",
              "      <td>-2.604551</td>\n",
              "      <td>-22.565679</td>\n",
              "      <td>-11.710896</td>\n",
              "      <td>0.000000</td>\n",
              "      <td>0.000000</td>\n",
              "    </tr>\n",
              "    <tr>\n",
              "      <th>25%</th>\n",
              "      <td>46954.750000</td>\n",
              "      <td>-0.951293</td>\n",
              "      <td>-0.597021</td>\n",
              "      <td>-0.523647</td>\n",
              "      <td>-0.820037</td>\n",
              "      <td>-0.754982</td>\n",
              "      <td>-0.727724</td>\n",
              "      <td>-0.569129</td>\n",
              "      <td>-0.193147</td>\n",
              "      <td>-0.662272</td>\n",
              "      <td>-0.521731</td>\n",
              "      <td>-0.672134</td>\n",
              "      <td>-0.457519</td>\n",
              "      <td>-0.649012</td>\n",
              "      <td>-0.382240</td>\n",
              "      <td>-0.537128</td>\n",
              "      <td>-0.479012</td>\n",
              "      <td>-0.455131</td>\n",
              "      <td>-0.515813</td>\n",
              "      <td>-0.480676</td>\n",
              "      <td>-0.201214</td>\n",
              "      <td>-0.225793</td>\n",
              "      <td>-0.533722</td>\n",
              "      <td>-0.167703</td>\n",
              "      <td>-0.347893</td>\n",
              "      <td>-0.266359</td>\n",
              "      <td>-0.331146</td>\n",
              "      <td>-0.069203</td>\n",
              "      <td>-0.046772</td>\n",
              "      <td>6.000000</td>\n",
              "      <td>0.000000</td>\n",
              "    </tr>\n",
              "    <tr>\n",
              "      <th>50%</th>\n",
              "      <td>72033.500000</td>\n",
              "      <td>-0.045141</td>\n",
              "      <td>0.070330</td>\n",
              "      <td>0.396626</td>\n",
              "      <td>0.048560</td>\n",
              "      <td>-0.130884</td>\n",
              "      <td>-0.233958</td>\n",
              "      <td>0.006476</td>\n",
              "      <td>0.034901</td>\n",
              "      <td>-0.069095</td>\n",
              "      <td>-0.093914</td>\n",
              "      <td>0.038123</td>\n",
              "      <td>0.117038</td>\n",
              "      <td>0.001580</td>\n",
              "      <td>0.069167</td>\n",
              "      <td>0.131576</td>\n",
              "      <td>0.059412</td>\n",
              "      <td>-0.044062</td>\n",
              "      <td>-0.028094</td>\n",
              "      <td>-0.007497</td>\n",
              "      <td>-0.049531</td>\n",
              "      <td>-0.036415</td>\n",
              "      <td>-0.015742</td>\n",
              "      <td>-0.024323</td>\n",
              "      <td>0.048482</td>\n",
              "      <td>0.081492</td>\n",
              "      <td>-0.060304</td>\n",
              "      <td>0.004004</td>\n",
              "      <td>0.016465</td>\n",
              "      <td>23.390000</td>\n",
              "      <td>0.000000</td>\n",
              "    </tr>\n",
              "    <tr>\n",
              "      <th>75%</th>\n",
              "      <td>118063.250000</td>\n",
              "      <td>1.236558</td>\n",
              "      <td>0.780964</td>\n",
              "      <td>1.167186</td>\n",
              "      <td>0.846822</td>\n",
              "      <td>0.520541</td>\n",
              "      <td>0.435703</td>\n",
              "      <td>0.527879</td>\n",
              "      <td>0.332762</td>\n",
              "      <td>0.615891</td>\n",
              "      <td>0.454406</td>\n",
              "      <td>0.849398</td>\n",
              "      <td>0.611310</td>\n",
              "      <td>0.690538</td>\n",
              "      <td>0.509103</td>\n",
              "      <td>0.734689</td>\n",
              "      <td>0.528445</td>\n",
              "      <td>0.411758</td>\n",
              "      <td>0.473484</td>\n",
              "      <td>0.468569</td>\n",
              "      <td>0.146317</td>\n",
              "      <td>0.165604</td>\n",
              "      <td>0.463017</td>\n",
              "      <td>0.124381</td>\n",
              "      <td>0.425904</td>\n",
              "      <td>0.376222</td>\n",
              "      <td>0.254160</td>\n",
              "      <td>0.089146</td>\n",
              "      <td>0.078156</td>\n",
              "      <td>79.950000</td>\n",
              "      <td>0.000000</td>\n",
              "    </tr>\n",
              "    <tr>\n",
              "      <th>max</th>\n",
              "      <td>142734.000000</td>\n",
              "      <td>2.454930</td>\n",
              "      <td>22.057729</td>\n",
              "      <td>9.382558</td>\n",
              "      <td>16.875344</td>\n",
              "      <td>34.801666</td>\n",
              "      <td>22.529298</td>\n",
              "      <td>36.877368</td>\n",
              "      <td>20.007208</td>\n",
              "      <td>15.594995</td>\n",
              "      <td>23.745136</td>\n",
              "      <td>12.018913</td>\n",
              "      <td>7.848392</td>\n",
              "      <td>4.569009</td>\n",
              "      <td>10.526766</td>\n",
              "      <td>5.825654</td>\n",
              "      <td>8.289890</td>\n",
              "      <td>9.253526</td>\n",
              "      <td>5.041069</td>\n",
              "      <td>5.591971</td>\n",
              "      <td>39.420904</td>\n",
              "      <td>27.202839</td>\n",
              "      <td>10.503090</td>\n",
              "      <td>19.002942</td>\n",
              "      <td>4.022866</td>\n",
              "      <td>7.519589</td>\n",
              "      <td>3.517346</td>\n",
              "      <td>12.152401</td>\n",
              "      <td>33.847808</td>\n",
              "      <td>19656.530000</td>\n",
              "      <td>1.000000</td>\n",
              "    </tr>\n",
              "  </tbody>\n",
              "</table>\n",
              "</div>"
            ],
            "text/plain": [
              "                Time             V1  ...         Amount          Class\n",
              "count  221880.000000  221880.000000  ...  221880.000000  221880.000000\n",
              "mean    77296.823130      -0.074109  ...      90.758359       0.001843\n",
              "std     38551.561084       1.934175  ...     250.911878       0.042895\n",
              "min         0.000000     -56.407510  ...       0.000000       0.000000\n",
              "25%     46954.750000      -0.951293  ...       6.000000       0.000000\n",
              "50%     72033.500000      -0.045141  ...      23.390000       0.000000\n",
              "75%    118063.250000       1.236558  ...      79.950000       0.000000\n",
              "max    142734.000000       2.454930  ...   19656.530000       1.000000\n",
              "\n",
              "[8 rows x 31 columns]"
            ]
          },
          "metadata": {},
          "execution_count": 10
        }
      ]
    },
    {
      "cell_type": "code",
      "metadata": {
        "colab": {
          "base_uri": "https://localhost:8080/"
        },
        "id": "FthPDHH07p5z",
        "outputId": "dbaf4752-e567-436f-949d-7c663c1be8ee"
      },
      "source": [
        "for i in data.columns:\n",
        "    print(\"\"+str(i)+\" - \",data[''+str(i)+''].unique())"
      ],
      "execution_count": 11,
      "outputs": [
        {
          "output_type": "stream",
          "name": "stdout",
          "text": [
            "Time -  [0.00000e+00 1.00000e+00 2.00000e+00 ... 1.42732e+05 1.42733e+05\n",
            " 1.42734e+05]\n",
            "V1 -  [-1.35980713  1.19185711 -1.35835406 ... -0.34493496  0.77549774\n",
            "  2.09217713]\n",
            "V2 -  [-0.07278117  0.26615071 -1.34016307 ...  1.38574155 -1.57213563\n",
            " -0.83199927]\n",
            "V3 -  [ 2.53634674  0.16648011  1.77320934 ...  0.68668008 -2.92621316\n",
            " -2.2685867 ]\n",
            "V4 -  [ 1.37815522  0.44815408  0.37977959 ...  1.03508269  3.07362917\n",
            " -1.04587622]\n",
            "V5 -  [-0.33832077  0.06001765 -0.50319813 ...  0.25686792  2.36915084\n",
            "  0.06535919]\n",
            "V6 -  [ 0.46238778 -0.08236081  1.80049938 ... -0.46023924  4.23186077\n",
            " -1.03219562]\n",
            "V7 -  [ 0.23959855 -0.07880298  0.79146096 ...  0.96375455  0.48319712\n",
            "  0.13159278]\n",
            "V8 -  [ 0.0986979   0.08510165  0.24767579 ... -0.29408488  0.72841101\n",
            " -0.32972144]\n",
            "V9 -  [ 0.36378697 -0.25542513 -1.51465432 ... -0.5656713  -1.3561338\n",
            " -1.09235446]\n",
            "V10 -  [ 0.09079417 -0.16697441  0.20764287 ... -1.03479866  1.28597758\n",
            "  1.08545235]\n",
            "V11 -  [-0.55159953  1.61272666  0.62450146 ... -0.06980105 -0.33121307\n",
            "  0.98327498]\n",
            "V12 -  [-0.61780086  1.06523531  0.06608369 ...  0.31888498 -0.3451066\n",
            " -0.55495806]\n",
            "V13 -  [-0.99138985  0.48909502  0.71729273 ...  1.20770795 -0.02778924\n",
            " -1.12849934]\n",
            "V14 -  [-0.31116935 -0.1437723  -0.16594592 ... -1.79628843  0.75209445\n",
            "  0.80071167]\n",
            "V15 -  [ 1.46817697  0.63555809  2.34586495 ...  1.14804235  0.17944969\n",
            " -0.5549772 ]\n",
            "V16 -  [-0.47040053  0.46391704 -2.89008319 ... -1.17102905  0.91375197\n",
            "  0.64811643]\n",
            "V17 -  [ 0.20797124 -0.11480466  1.10996938 ...  2.17528298 -0.98870993\n",
            "  0.21475415]\n",
            "V18 -  [ 0.02579058 -0.18336127 -0.12135931 ...  0.41469596 -0.22057998\n",
            " -1.12817375]\n",
            "V19 -  [ 0.40399296 -0.14578304 -2.2618571  ...  2.94310325 -2.0586271\n",
            "  0.85683726]\n",
            "V20 -  [ 0.2514121  -0.06908314  0.52497973 ...  0.38502553  1.00998441\n",
            "  0.05      ]\n",
            "V21 -  [-0.01830678 -0.22577525  0.24799815 ... -0.2108932  -0.21171856\n",
            "  0.59011448]\n",
            "V22 -  [ 0.27783758 -0.63867195  0.7716794  ... -0.6309091  -0.28845397\n",
            "  0.22619547]\n",
            "V23 -  [-0.11047391  0.10128802  0.90941226 ...  0.14692725 -0.36764449\n",
            " -0.42810509]\n",
            "V24 -  [ 0.06692807 -0.33984648 -0.68928096 ...  0.01589284 -0.00735825\n",
            "  0.72094065]\n",
            "V25 -  [ 0.12853936  0.1671704  -0.32764183 ... -0.5212016   0.3962721\n",
            " -0.05802749]\n",
            "V26 -  [-0.18911484  0.12589453 -0.13909657 ...  0.12788635  0.46570697\n",
            "  0.08907693]\n",
            "V27 -  [ 0.13355838 -0.0089831  -0.05535279 ...  0.21273417 -0.00203398\n",
            " -0.14056269]\n",
            "V28 -  [-0.02105305  0.01472417 -0.05975184 ...  0.07896538  0.09714553\n",
            "  0.046027  ]\n",
            "Amount -  [149.62   2.69 378.66 ... 359.28  33.66 123.7 ]\n",
            "Class -  [0. 1.]\n"
          ]
        }
      ]
    },
    {
      "cell_type": "code",
      "metadata": {
        "id": "TulDnB-zcCai",
        "colab": {
          "base_uri": "https://localhost:8080/"
        },
        "outputId": "f4042bda-107a-4dab-b4b9-1a03f3db1154"
      },
      "source": [
        "data.Class.value_counts()"
      ],
      "execution_count": 12,
      "outputs": [
        {
          "output_type": "execute_result",
          "data": {
            "text/plain": [
              "0.0    221471\n",
              "1.0       409\n",
              "Name: Class, dtype: int64"
            ]
          },
          "metadata": {},
          "execution_count": 12
        }
      ]
    },
    {
      "cell_type": "markdown",
      "metadata": {
        "id": "HV5mP0ckFb68"
      },
      "source": [
        "here  \n",
        "\n",
        "    0-currect ;\n",
        "    1- fraud"
      ]
    },
    {
      "cell_type": "code",
      "metadata": {
        "id": "4fHToRyu8Dx-"
      },
      "source": [
        "from sklearn.model_selection import train_test_split\n",
        "\n",
        "import warnings\n",
        "warnings.filterwarnings('ignore')\n",
        "\n"
      ],
      "execution_count": 13,
      "outputs": []
    },
    {
      "cell_type": "code",
      "metadata": {
        "id": "ZN4C-VzT8DhS"
      },
      "source": [
        "# Features selection \n",
        "X = data.iloc[:,:-1]\n",
        "y = data.iloc[:,-1]\n",
        "\n",
        "# Split and Fit model\n",
        "X_train,X_test,y_train,y_test = train_test_split(X,y,test_size=0.20,random_state=44)"
      ],
      "execution_count": 14,
      "outputs": []
    },
    {
      "cell_type": "code",
      "metadata": {
        "colab": {
          "base_uri": "https://localhost:8080/"
        },
        "id": "LOulZgXJ8DR8",
        "outputId": "7e1842b0-5db3-4ab2-f59a-5335c67b683f"
      },
      "source": [
        "print(\"data_columns: \",len(data.columns))\n",
        "print(\"len_data:\",len(data))\n",
        "\n",
        "print('X: ', len(X))\n",
        "print(\"X.shape :\", X.shape)\n",
        "\n",
        "print('y: ', len(y))\n",
        "print(\"y.shape :\", y.shape)\n",
        "                \n",
        "print('')\n",
        "\n",
        "print('X_TRAIN : ',X_train.shape)\n",
        "print('y_TRAIN : ',y_train.shape)\n",
        "print('X_test : ',X_test.shape)\n",
        "print('y_test : ',y_test.shape)"
      ],
      "execution_count": 15,
      "outputs": [
        {
          "output_type": "stream",
          "name": "stdout",
          "text": [
            "data_columns:  31\n",
            "len_data: 221880\n",
            "X:  221880\n",
            "X.shape : (221880, 30)\n",
            "y:  221880\n",
            "y.shape : (221880,)\n",
            "\n",
            "X_TRAIN :  (177504, 30)\n",
            "y_TRAIN :  (177504,)\n",
            "X_test :  (44376, 30)\n",
            "y_test :  (44376,)\n"
          ]
        }
      ]
    },
    {
      "cell_type": "code",
      "metadata": {
        "id": "PRXlPDJG8DBj"
      },
      "source": [
        "# 5.Do normalisation if required"
      ],
      "execution_count": 16,
      "outputs": []
    },
    {
      "cell_type": "code",
      "metadata": {
        "id": "GnBm568-8CxA"
      },
      "source": [
        "from sklearn import preprocessing\n",
        "train_X = preprocessing.normalize(X_train)\n",
        "test_X = preprocessing.normalize(X_test)"
      ],
      "execution_count": 17,
      "outputs": []
    },
    {
      "cell_type": "code",
      "metadata": {
        "colab": {
          "base_uri": "https://localhost:8080/"
        },
        "id": "XW5RWCYp8r7J",
        "outputId": "51b4281e-767c-41bf-c8af-373f9ad2a767"
      },
      "source": [
        "test_X.shape\n",
        "#train_X.shape"
      ],
      "execution_count": 18,
      "outputs": [
        {
          "output_type": "execute_result",
          "data": {
            "text/plain": [
              "(44376, 30)"
            ]
          },
          "metadata": {},
          "execution_count": 18
        }
      ]
    },
    {
      "cell_type": "code",
      "metadata": {
        "id": "TtLykdAOcEgQ",
        "colab": {
          "base_uri": "https://localhost:8080/"
        },
        "outputId": "1a9b937b-8ea1-46a4-c57e-209a0bd5fc4d"
      },
      "source": [
        "train_X[0:5]"
      ],
      "execution_count": 19,
      "outputs": [
        {
          "output_type": "execute_result",
          "data": {
            "text/plain": [
              "array([[ 9.99999975e-01, -1.11805552e-05,  1.58276586e-05,\n",
              "         2.37045561e-06, -2.28471608e-05,  1.40482844e-06,\n",
              "        -1.71885777e-06, -3.92211701e-07, -6.50061665e-06,\n",
              "         1.67192712e-06, -1.81657969e-05,  4.73772115e-06,\n",
              "         1.77297820e-05,  1.28645148e-05,  1.07388955e-05,\n",
              "         1.53255027e-05, -5.29937677e-06, -6.98198810e-06,\n",
              "         1.83796027e-05,  3.08363610e-05, -2.75490032e-06,\n",
              "         1.54788482e-05,  7.14529401e-06, -3.87910229e-06,\n",
              "        -1.23846017e-05,  6.07149018e-07, -8.33225395e-06,\n",
              "         2.06359157e-06,  1.06938426e-06,  2.12038722e-04],\n",
              "       [ 9.99999977e-01,  1.61696560e-05,  5.87603513e-07,\n",
              "        -1.32191559e-05,  1.15525830e-05,  1.90003472e-06,\n",
              "        -1.02604117e-05,  4.66657941e-06, -2.93182243e-06,\n",
              "         3.50917856e-06,  2.45355062e-06, -1.03217460e-05,\n",
              "        -4.14547730e-06, -1.45538801e-05,  6.78473148e-06,\n",
              "        -3.19130339e-06, -4.91673953e-06, -7.35085603e-07,\n",
              "        -3.08190459e-06, -1.21417305e-06, -2.89968702e-06,\n",
              "         3.03250698e-07,  1.74936839e-06, -3.55627791e-08,\n",
              "         8.47345937e-08,  3.33790674e-06, -3.97288349e-06,\n",
              "        -2.52275276e-07, -4.97796038e-07,  2.11385918e-04],\n",
              "       [ 9.99999999e-01, -6.31402180e-06,  1.59054614e-05,\n",
              "         2.51925143e-05,  6.01967944e-07, -3.23751943e-06,\n",
              "        -1.59438324e-05,  1.06165850e-05, -1.40632769e-06,\n",
              "        -6.47105255e-06, -4.65318242e-06, -1.22678899e-06,\n",
              "         1.95036305e-06,  1.66076814e-06,  1.97018169e-06,\n",
              "         1.19261041e-05,  1.42092566e-06, -4.16416433e-06,\n",
              "        -7.03791823e-06, -1.62049758e-06,  1.31694708e-06,\n",
              "        -3.04738397e-06, -7.70840340e-06,  1.61078137e-07,\n",
              "         1.02744233e-05, -3.45269389e-06,  7.45852782e-07,\n",
              "         3.94688366e-06,  1.83412052e-06,  1.31289737e-05],\n",
              "       [ 9.99999942e-01,  2.23747244e-05,  3.30026810e-06,\n",
              "        -6.25446855e-06,  2.47189687e-07,  1.37505345e-07,\n",
              "        -2.01993614e-05,  8.01333291e-06, -6.79284671e-06,\n",
              "        -3.21793031e-06, -1.68355891e-06, -8.21248711e-06,\n",
              "         4.61892904e-06,  8.76731125e-06,  6.30251468e-06,\n",
              "         1.24925615e-05, -1.10126845e-07, -5.30521975e-06,\n",
              "        -1.05734494e-05,  4.18679361e-06, -1.92080504e-07,\n",
              "        -9.98744082e-07, -2.55249179e-06, -2.46855666e-06,\n",
              "         2.24587537e-06,  1.02906546e-05,  1.84167887e-05,\n",
              "        -1.92142348e-06, -1.60076282e-07,  3.37215376e-04],\n",
              "       [ 9.99998487e-01,  5.05928866e-05,  2.90628871e-05,\n",
              "        -5.72498494e-06,  1.05098740e-04,  2.57185713e-05,\n",
              "        -1.30883758e-05,  2.02280816e-05, -1.26073271e-05,\n",
              "         1.37300869e-05,  1.49310749e-05, -1.60892835e-05,\n",
              "        -1.27547157e-04,  6.00738334e-05,  8.21121444e-05,\n",
              "        -1.79482649e-05,  2.34267046e-05, -1.24443202e-06,\n",
              "         3.78381181e-06, -3.26288451e-05, -5.15262855e-06,\n",
              "        -8.35302405e-06, -1.86566650e-05, -9.42579707e-06,\n",
              "        -2.17842227e-05,  3.30094282e-05,  3.28977785e-06,\n",
              "        -3.19382389e-06,  4.74464183e-08,  1.72598491e-03]])"
            ]
          },
          "metadata": {},
          "execution_count": 19
        }
      ]
    },
    {
      "cell_type": "code",
      "metadata": {
        "id": "-hGI3O0f8WBc"
      },
      "source": [
        "# 6.Model Building (ANN)"
      ],
      "execution_count": 20,
      "outputs": []
    },
    {
      "cell_type": "code",
      "metadata": {
        "id": "nIfRlHjU8WQL"
      },
      "source": [
        "from numpy import loadtxt\n",
        "from tensorflow.keras.models import Sequential\n",
        "from tensorflow.keras import layers\n",
        "from tensorflow.keras.layers import Dense, Dropout"
      ],
      "execution_count": 21,
      "outputs": []
    },
    {
      "cell_type": "markdown",
      "metadata": {
        "id": "N3Kd6PxEF06N"
      },
      "source": [
        "--> 1. model = relu with sigmoid"
      ]
    },
    {
      "cell_type": "code",
      "metadata": {
        "id": "GYj0XnmD8XAt"
      },
      "source": [
        "model = Sequential()\n",
        "# 128(col)(i/p layer) - 64(inner layer) - 32(inner layer) - 16(inner alyer) - 8(inner layer- 1(o/p)\n",
        "model.add(Dense(128, input_shape = (30, ), activation = \"relu\"))\n",
        "model.add(Dense(64, activation = \"relu\"))\n",
        "model.add(Dense(32, activation = \"relu\"))\n",
        "model.add(Dense(16, activation = \"relu\"))\n",
        "model.add(Dense(8, activation = \"relu\"))\n",
        "model.add(Dense(1, activation = \"sigmoid\"))\n",
        "\n"
      ],
      "execution_count": 22,
      "outputs": []
    },
    {
      "cell_type": "code",
      "metadata": {
        "colab": {
          "base_uri": "https://localhost:8080/"
        },
        "id": "dprYrEmK8XRg",
        "outputId": "ad1f6f92-0b7e-4846-cc9e-8f40741feb6e"
      },
      "source": [
        "print(model.summary())"
      ],
      "execution_count": 23,
      "outputs": [
        {
          "output_type": "stream",
          "name": "stdout",
          "text": [
            "Model: \"sequential\"\n",
            "_________________________________________________________________\n",
            "Layer (type)                 Output Shape              Param #   \n",
            "=================================================================\n",
            "dense (Dense)                (None, 128)               3968      \n",
            "_________________________________________________________________\n",
            "dense_1 (Dense)              (None, 64)                8256      \n",
            "_________________________________________________________________\n",
            "dense_2 (Dense)              (None, 32)                2080      \n",
            "_________________________________________________________________\n",
            "dense_3 (Dense)              (None, 16)                528       \n",
            "_________________________________________________________________\n",
            "dense_4 (Dense)              (None, 8)                 136       \n",
            "_________________________________________________________________\n",
            "dense_5 (Dense)              (None, 1)                 9         \n",
            "=================================================================\n",
            "Total params: 14,977\n",
            "Trainable params: 14,977\n",
            "Non-trainable params: 0\n",
            "_________________________________________________________________\n",
            "None\n"
          ]
        }
      ]
    },
    {
      "cell_type": "code",
      "metadata": {
        "colab": {
          "base_uri": "https://localhost:8080/"
        },
        "id": "LOuJjfuM8X2Z",
        "outputId": "8db80399-0799-4d41-ac37-e2597d3a0cef"
      },
      "source": [
        "model.compile(loss = \"binary_crossentropy\", optimizer = \"adam\", metrics = ['accuracy'])\n",
        "result_1 = model.fit(train_X,y_train, epochs = 5, batch_size = 100, validation_data = (test_X, y_test))\n"
      ],
      "execution_count": 25,
      "outputs": [
        {
          "output_type": "stream",
          "name": "stdout",
          "text": [
            "Epoch 1/5\n",
            "1776/1776 [==============================] - 11s 4ms/step - loss: 0.0438 - accuracy: 0.9952 - val_loss: 0.0112 - val_accuracy: 0.9985\n",
            "Epoch 2/5\n",
            "1776/1776 [==============================] - 14s 8ms/step - loss: 0.0142 - accuracy: 0.9981 - val_loss: 0.0111 - val_accuracy: 0.9985\n",
            "Epoch 3/5\n",
            "1776/1776 [==============================] - 10s 6ms/step - loss: 0.0142 - accuracy: 0.9981 - val_loss: 0.0113 - val_accuracy: 0.9985\n",
            "Epoch 4/5\n",
            "1776/1776 [==============================] - 8s 4ms/step - loss: 0.0141 - accuracy: 0.9981 - val_loss: 0.0128 - val_accuracy: 0.9985\n",
            "Epoch 5/5\n",
            "1776/1776 [==============================] - 8s 4ms/step - loss: 0.0142 - accuracy: 0.9981 - val_loss: 0.0112 - val_accuracy: 0.9985\n"
          ]
        }
      ]
    },
    {
      "cell_type": "code",
      "metadata": {
        "colab": {
          "base_uri": "https://localhost:8080/"
        },
        "id": "bi4fRQWilE4A",
        "outputId": "b3df3f33-12a0-4cee-ca5e-66845f899cab"
      },
      "source": [
        "result_1.history"
      ],
      "execution_count": 26,
      "outputs": [
        {
          "output_type": "execute_result",
          "data": {
            "text/plain": [
              "{'accuracy': [0.9952451586723328,\n",
              "  0.9980676770210266,\n",
              "  0.9980676770210266,\n",
              "  0.9980676770210266,\n",
              "  0.9980676770210266],\n",
              " 'loss': [0.04378245398402214,\n",
              "  0.014163883402943611,\n",
              "  0.01420876570045948,\n",
              "  0.014116878621280193,\n",
              "  0.01418723538517952],\n",
              " 'val_accuracy': [0.9985126852989197,\n",
              "  0.9985126852989197,\n",
              "  0.9985126852989197,\n",
              "  0.9985126852989197,\n",
              "  0.9985126852989197],\n",
              " 'val_loss': [0.011190477758646011,\n",
              "  0.011145925149321556,\n",
              "  0.01127535104751587,\n",
              "  0.012758607044816017,\n",
              "  0.011179681867361069]}"
            ]
          },
          "metadata": {},
          "execution_count": 26
        }
      ]
    },
    {
      "cell_type": "code",
      "metadata": {
        "colab": {
          "base_uri": "https://localhost:8080/",
          "height": 204
        },
        "id": "JITZRVt7liI6",
        "outputId": "03597001-032a-4137-d499-2adf6169aab9"
      },
      "source": [
        "res_1 = pd.DataFrame(result_1.history)\n",
        "res_1"
      ],
      "execution_count": 27,
      "outputs": [
        {
          "output_type": "execute_result",
          "data": {
            "text/html": [
              "<div>\n",
              "<style scoped>\n",
              "    .dataframe tbody tr th:only-of-type {\n",
              "        vertical-align: middle;\n",
              "    }\n",
              "\n",
              "    .dataframe tbody tr th {\n",
              "        vertical-align: top;\n",
              "    }\n",
              "\n",
              "    .dataframe thead th {\n",
              "        text-align: right;\n",
              "    }\n",
              "</style>\n",
              "<table border=\"1\" class=\"dataframe\">\n",
              "  <thead>\n",
              "    <tr style=\"text-align: right;\">\n",
              "      <th></th>\n",
              "      <th>loss</th>\n",
              "      <th>accuracy</th>\n",
              "      <th>val_loss</th>\n",
              "      <th>val_accuracy</th>\n",
              "    </tr>\n",
              "  </thead>\n",
              "  <tbody>\n",
              "    <tr>\n",
              "      <th>0</th>\n",
              "      <td>0.043782</td>\n",
              "      <td>0.995245</td>\n",
              "      <td>0.011190</td>\n",
              "      <td>0.998513</td>\n",
              "    </tr>\n",
              "    <tr>\n",
              "      <th>1</th>\n",
              "      <td>0.014164</td>\n",
              "      <td>0.998068</td>\n",
              "      <td>0.011146</td>\n",
              "      <td>0.998513</td>\n",
              "    </tr>\n",
              "    <tr>\n",
              "      <th>2</th>\n",
              "      <td>0.014209</td>\n",
              "      <td>0.998068</td>\n",
              "      <td>0.011275</td>\n",
              "      <td>0.998513</td>\n",
              "    </tr>\n",
              "    <tr>\n",
              "      <th>3</th>\n",
              "      <td>0.014117</td>\n",
              "      <td>0.998068</td>\n",
              "      <td>0.012759</td>\n",
              "      <td>0.998513</td>\n",
              "    </tr>\n",
              "    <tr>\n",
              "      <th>4</th>\n",
              "      <td>0.014187</td>\n",
              "      <td>0.998068</td>\n",
              "      <td>0.011180</td>\n",
              "      <td>0.998513</td>\n",
              "    </tr>\n",
              "  </tbody>\n",
              "</table>\n",
              "</div>"
            ],
            "text/plain": [
              "       loss  accuracy  val_loss  val_accuracy\n",
              "0  0.043782  0.995245  0.011190      0.998513\n",
              "1  0.014164  0.998068  0.011146      0.998513\n",
              "2  0.014209  0.998068  0.011275      0.998513\n",
              "3  0.014117  0.998068  0.012759      0.998513\n",
              "4  0.014187  0.998068  0.011180      0.998513"
            ]
          },
          "metadata": {},
          "execution_count": 27
        }
      ]
    },
    {
      "cell_type": "code",
      "metadata": {
        "id": "hF2ih-tkn8_H"
      },
      "source": [
        "import matplotlib.pyplot as plt"
      ],
      "execution_count": 28,
      "outputs": []
    },
    {
      "cell_type": "code",
      "metadata": {
        "colab": {
          "base_uri": "https://localhost:8080/",
          "height": 298
        },
        "id": "bp74m1BroHSs",
        "outputId": "d342ce40-9750-4400-9089-54438f547b7d"
      },
      "source": [
        "plt.plot(result_1.history['loss'],label='loss')\n",
        "plt.plot(result_1.history['val_loss'],label='val_loss')\n",
        "plt.legend()\n",
        "plt.title('Relu with Sigmoid(o/p)')"
      ],
      "execution_count": 29,
      "outputs": [
        {
          "output_type": "execute_result",
          "data": {
            "text/plain": [
              "Text(0.5, 1.0, 'Relu with Sigmoid(o/p)')"
            ]
          },
          "metadata": {},
          "execution_count": 29
        },
        {
          "output_type": "display_data",
          "data": {
            "image/png": "[encoded data removed]",
            "text/plain": [
              "<Figure size 432x288 with 1 Axes>"
            ]
          },
          "metadata": {
            "needs_background": "light"
          }
        }
      ]
    },
    {
      "cell_type": "code",
      "metadata": {
        "colab": {
          "base_uri": "https://localhost:8080/",
          "height": 298
        },
        "id": "sC2soSgksxQ0",
        "outputId": "b4a42309-ad50-4d44-bfb5-912b635c0e84"
      },
      "source": [
        "plt.plot(result_1.history['accuracy'],label='accuracy')\n",
        "plt.plot(result_1.history['val_accuracy'],label='val_accuracy')\n",
        "plt.legend()\n",
        "plt.title('Relu with Sigmoid(o/p)')"
      ],
      "execution_count": 30,
      "outputs": [
        {
          "output_type": "execute_result",
          "data": {
            "text/plain": [
              "Text(0.5, 1.0, 'Relu with Sigmoid(o/p)')"
            ]
          },
          "metadata": {},
          "execution_count": 30
        },
        {
          "output_type": "display_data",
          "data": {
            "image/png": "[encoded data removed]",
            "text/plain": [
              "<Figure size 432x288 with 1 Axes>"
            ]
          },
          "metadata": {
            "needs_background": "light"
          }
        }
      ]
    },
    {
      "cell_type": "code",
      "metadata": {
        "colab": {
          "base_uri": "https://localhost:8080/",
          "height": 296
        },
        "id": "ZvtbEGuLK-da",
        "outputId": "653b74c6-faab-4ae3-cc58-b21ad966d00c"
      },
      "source": [
        "import matplotlib.pyplot as plt \n",
        "\n",
        "y_pred = model.predict(test_X)\n",
        "fig,ax = plt.subplots()\n",
        "plt.scatter(y_test, y_pred)\n",
        "ax.plot([y.min(), y.max()], [y.min(), y.max()], 'k--', lw = 4)\n",
        "plt.xlabel('True Values')\n",
        "plt.ylabel('Predictions')"
      ],
      "execution_count": 31,
      "outputs": [
        {
          "output_type": "execute_result",
          "data": {
            "text/plain": [
              "Text(0, 0.5, 'Predictions')"
            ]
          },
          "metadata": {},
          "execution_count": 31
        },
        {
          "output_type": "display_data",
          "data": {
            "image/png": "[encoded data removed]",
            "text/plain": [
              "<Figure size 432x288 with 1 Axes>"
            ]
          },
          "metadata": {
            "needs_background": "light"
          }
        }
      ]
    },
    {
      "cell_type": "code",
      "metadata": {
        "colab": {
          "base_uri": "https://localhost:8080/"
        },
        "id": "Z1RiVWmBeXdl",
        "outputId": "52a5c662-6346-4433-a4e0-ff9f30b8b10c"
      },
      "source": [
        "from xgboost import XGBClassifier\n",
        "boost = XGBClassifier()\n",
        "boost.fit(train_X, y_train)"
      ],
      "execution_count": 32,
      "outputs": [
        {
          "output_type": "execute_result",
          "data": {
            "text/plain": [
              "XGBClassifier(base_score=0.5, booster='gbtree', colsample_bylevel=1,\n",
              "              colsample_bynode=1, colsample_bytree=1, gamma=0,\n",
              "              learning_rate=0.1, max_delta_step=0, max_depth=3,\n",
              "              min_child_weight=1, missing=None, n_estimators=100, n_jobs=1,\n",
              "              nthread=None, objective='binary:logistic', random_state=0,\n",
              "              reg_alpha=0, reg_lambda=1, scale_pos_weight=1, seed=None,\n",
              "              silent=None, subsample=1, verbosity=1)"
            ]
          },
          "metadata": {},
          "execution_count": 32
        }
      ]
    },
    {
      "cell_type": "code",
      "metadata": {
        "colab": {
          "base_uri": "https://localhost:8080/",
          "height": 296
        },
        "id": "2twWrXNSeXnk",
        "outputId": "e2a9c6d6-1c0a-4448-bfb1-a6b82b65e7d1"
      },
      "source": [
        "y_pred = boost.predict(train_X)\n",
        "fig,ax = plt.subplots()\n",
        "plt.scatter(y_train, y_pred)\n",
        "ax.plot([y.min(), y.max()], [y.min(), y.max()], 'k--', lw = 4)\n",
        "plt.xlabel('True Values')\n",
        "plt.ylabel('Predictions')"
      ],
      "execution_count": 33,
      "outputs": [
        {
          "output_type": "execute_result",
          "data": {
            "text/plain": [
              "Text(0, 0.5, 'Predictions')"
            ]
          },
          "metadata": {},
          "execution_count": 33
        },
        {
          "output_type": "display_data",
          "data": {
            "image/png": "[encoded data removed]",
            "text/plain": [
              "<Figure size 432x288 with 1 Axes>"
            ]
          },
          "metadata": {
            "needs_background": "light"
          }
        }
      ]
    },
    {
      "cell_type": "markdown",
      "metadata": {
        "id": "FOExz-ulDjD8"
      },
      "source": [
        "# Observations :\n",
        "  Relu (Rectified Linear Units) - Range(0, x)\n",
        "\n",
        "  Here , i've taken in relu -- 30 cols as input layer , 128(inner layer) - 64(inner layer) - 32(inner layer) - 16(inner alyer) - 8(inner layer- 1(output layer).\n",
        "  These are like i/p layer then inner/dense layer and o/p layer. \n",
        "\n",
        "  in this relu with sigmoid , \n",
        "  \n",
        "  we can take :  \n",
        "\n",
        "      loss = \"binary_crossentropy\", \"Categorical_crossentropy\"\n",
        "      optimizer = \"adam\", \"sgd\", \n",
        "      metrics = ['accuracy'],['mse'],['mae'] , or any\n",
        "      epochs = 35, (any num as per size\n",
        "      batch_size = 100.\n",
        "\n",
        "  here there are another different losses, optimizer and metrics  are also present . ephocs is nothing but the size, and when it comes to batch size here is my observation that when we increase the batch size the test data size is decreasing & when u decrease the batchsize it will increase to original size.We taken validation_data(test_data) and train data we get train_data (loss & accuracy) and test_data(loss & accuracy). we can check over-fitting/under-fitting. \n",
        "  by using Sigmoid in output-layer the result in acc is 99% which is quite good and loss is also less. \n",
        "  \n",
        "    lets check it relu with softmax"
      ]
    },
    {
      "cell_type": "markdown",
      "metadata": {
        "id": "iMZEGgLeLOFX"
      },
      "source": [
        "--> 2. model_2 = relu with \"softmax\"."
      ]
    },
    {
      "cell_type": "code",
      "metadata": {
        "id": "j63aWkBp9D3S"
      },
      "source": [
        "model_2 = Sequential()\n",
        "# 30(col)(i/p layer) - 64(inner layer) - 32(inner layer) - 16(inner alyer) - 8(inner layer- 1(o/p) layer\n",
        "model_2.add(Dense(64, input_shape = (30, ), activation = \"relu\"))\n",
        "model_2.add(layers.Dropout(0.2))\n",
        "\n",
        "model_2.add(Dense(32, activation = \"relu\"))\n",
        "model_2.add(layers.Dropout(0.2))\n",
        "model_2.add(Dense(16, activation = \"relu\"))\n",
        "model_2.add(layers.Dropout(0.2))\n",
        "model_2.add(Dense(8, activation = \"relu\"))\n",
        "model_2.add(layers.Dropout(0.2))\n",
        "model_2.add(Dense(1, activation = \"softmax\"))\n",
        "\n"
      ],
      "execution_count": 34,
      "outputs": []
    },
    {
      "cell_type": "code",
      "metadata": {
        "colab": {
          "base_uri": "https://localhost:8080/"
        },
        "id": "T2fRIPGn9FMD",
        "outputId": "28e17535-8170-4b93-942d-3d6135322d2c"
      },
      "source": [
        "print(model_2.summary())"
      ],
      "execution_count": 35,
      "outputs": [
        {
          "output_type": "stream",
          "name": "stdout",
          "text": [
            "Model: \"sequential_1\"\n",
            "_________________________________________________________________\n",
            "Layer (type)                 Output Shape              Param #   \n",
            "=================================================================\n",
            "dense_6 (Dense)              (None, 64)                1984      \n",
            "_________________________________________________________________\n",
            "dropout (Dropout)            (None, 64)                0         \n",
            "_________________________________________________________________\n",
            "dense_7 (Dense)              (None, 32)                2080      \n",
            "_________________________________________________________________\n",
            "dropout_1 (Dropout)          (None, 32)                0         \n",
            "_________________________________________________________________\n",
            "dense_8 (Dense)              (None, 16)                528       \n",
            "_________________________________________________________________\n",
            "dropout_2 (Dropout)          (None, 16)                0         \n",
            "_________________________________________________________________\n",
            "dense_9 (Dense)              (None, 8)                 136       \n",
            "_________________________________________________________________\n",
            "dropout_3 (Dropout)          (None, 8)                 0         \n",
            "_________________________________________________________________\n",
            "dense_10 (Dense)             (None, 1)                 9         \n",
            "=================================================================\n",
            "Total params: 4,737\n",
            "Trainable params: 4,737\n",
            "Non-trainable params: 0\n",
            "_________________________________________________________________\n",
            "None\n"
          ]
        }
      ]
    },
    {
      "cell_type": "code",
      "metadata": {
        "colab": {
          "base_uri": "https://localhost:8080/"
        },
        "id": "L-6Rer6nGYK7",
        "outputId": "ed096e86-0f76-4083-ee43-65fe1ecfa506"
      },
      "source": [
        "model_2.compile(loss = \"binary_crossentropy\", optimizer = \"adam\", metrics = ['accuracy'])\n",
        "result_2 = model_2.fit(train_X,y_train, epochs = 15, batch_size = 80, validation_data = (test_X, y_test))"
      ],
      "execution_count": 36,
      "outputs": [
        {
          "output_type": "stream",
          "name": "stdout",
          "text": [
            "Epoch 1/15\n",
            "2219/2219 [==============================] - 11s 4ms/step - loss: 0.0358 - accuracy: 0.0019 - val_loss: 0.0125 - val_accuracy: 0.0015\n",
            "Epoch 2/15\n",
            "2219/2219 [==============================] - 10s 4ms/step - loss: 0.0182 - accuracy: 0.0019 - val_loss: 0.0112 - val_accuracy: 0.0015\n",
            "Epoch 3/15\n",
            "2219/2219 [==============================] - 10s 4ms/step - loss: 0.0170 - accuracy: 0.0019 - val_loss: 0.0112 - val_accuracy: 0.0015\n",
            "Epoch 4/15\n",
            "2219/2219 [==============================] - 9s 4ms/step - loss: 0.0165 - accuracy: 0.0019 - val_loss: 0.0112 - val_accuracy: 0.0015\n",
            "Epoch 5/15\n",
            "2219/2219 [==============================] - 10s 4ms/step - loss: 0.0159 - accuracy: 0.0019 - val_loss: 0.0111 - val_accuracy: 0.0015\n",
            "Epoch 6/15\n",
            "2219/2219 [==============================] - 10s 4ms/step - loss: 0.0153 - accuracy: 0.0019 - val_loss: 0.0112 - val_accuracy: 0.0015\n",
            "Epoch 7/15\n",
            "2219/2219 [==============================] - 10s 4ms/step - loss: 0.0151 - accuracy: 0.0019 - val_loss: 0.0112 - val_accuracy: 0.0015\n",
            "Epoch 8/15\n",
            "2219/2219 [==============================] - 10s 4ms/step - loss: 0.0148 - accuracy: 0.0019 - val_loss: 0.0112 - val_accuracy: 0.0015\n",
            "Epoch 9/15\n",
            "2219/2219 [==============================] - 10s 4ms/step - loss: 0.0149 - accuracy: 0.0019 - val_loss: 0.0112 - val_accuracy: 0.0015\n",
            "Epoch 10/15\n",
            "2219/2219 [==============================] - 10s 4ms/step - loss: 0.0147 - accuracy: 0.0019 - val_loss: 0.0112 - val_accuracy: 0.0015\n",
            "Epoch 11/15\n",
            "2219/2219 [==============================] - 10s 5ms/step - loss: 0.0145 - accuracy: 0.0019 - val_loss: 0.0112 - val_accuracy: 0.0015\n",
            "Epoch 12/15\n",
            "2219/2219 [==============================] - 10s 4ms/step - loss: 0.0146 - accuracy: 0.0019 - val_loss: 0.0116 - val_accuracy: 0.0015\n",
            "Epoch 13/15\n",
            "2219/2219 [==============================] - 10s 4ms/step - loss: 0.0146 - accuracy: 0.0019 - val_loss: 0.0113 - val_accuracy: 0.0015\n",
            "Epoch 14/15\n",
            "2219/2219 [==============================] - 10s 4ms/step - loss: 0.0144 - accuracy: 0.0019 - val_loss: 0.0112 - val_accuracy: 0.0015\n",
            "Epoch 15/15\n",
            "2219/2219 [==============================] - 10s 4ms/step - loss: 0.0143 - accuracy: 0.0019 - val_loss: 0.0112 - val_accuracy: 0.0015\n"
          ]
        }
      ]
    },
    {
      "cell_type": "code",
      "metadata": {
        "colab": {
          "base_uri": "https://localhost:8080/"
        },
        "id": "i0aJ4zSsHTFq",
        "outputId": "45a4b638-6e59-42c9-d69c-7f3869b7c5af"
      },
      "source": [
        "pred_y = model_2.predict(np.reshape(test_X[0], (-1, 30)))\n",
        "\n",
        "print(pred_y)"
      ],
      "execution_count": 37,
      "outputs": [
        {
          "output_type": "stream",
          "name": "stdout",
          "text": [
            "[[1.]]\n"
          ]
        }
      ]
    },
    {
      "cell_type": "code",
      "metadata": {
        "colab": {
          "base_uri": "https://localhost:8080/"
        },
        "id": "WxXrK5OcM4A2",
        "outputId": "b860e1c9-6c69-4ed5-cca0-9a70c8123e93"
      },
      "source": [
        "print(y[0])"
      ],
      "execution_count": 38,
      "outputs": [
        {
          "output_type": "stream",
          "name": "stdout",
          "text": [
            "0.0\n"
          ]
        }
      ]
    },
    {
      "cell_type": "code",
      "metadata": {
        "colab": {
          "base_uri": "https://localhost:8080/",
          "height": 296
        },
        "id": "7fM3GitXO9fD",
        "outputId": "2abdddba-782b-42a0-b0f7-34c577b55cac"
      },
      "source": [
        "import matplotlib.pyplot as plt \n",
        "\n",
        "y_pred = model_2.predict(test_X)\n",
        "fig,ax = plt.subplots()\n",
        "plt.scatter(y_test, y_pred)\n",
        "ax.plot([y.min(), y.max()], [y.min(), y.max()], 'k--', lw = 4)\n",
        "plt.xlabel('True Values')\n",
        "plt.ylabel('Predictions')"
      ],
      "execution_count": 39,
      "outputs": [
        {
          "output_type": "execute_result",
          "data": {
            "text/plain": [
              "Text(0, 0.5, 'Predictions')"
            ]
          },
          "metadata": {},
          "execution_count": 39
        },
        {
          "output_type": "display_data",
          "data": {
            "image/png": "[encoded data removed]",
            "text/plain": [
              "<Figure size 432x288 with 1 Axes>"
            ]
          },
          "metadata": {
            "needs_background": "light"
          }
        }
      ]
    },
    {
      "cell_type": "code",
      "metadata": {
        "colab": {
          "base_uri": "https://localhost:8080/"
        },
        "id": "MmPBRI4psZkz",
        "outputId": "cb2aad76-7283-4bff-eb90-ccbf81a8ad4e"
      },
      "source": [
        "result_2.history"
      ],
      "execution_count": 40,
      "outputs": [
        {
          "output_type": "execute_result",
          "data": {
            "text/plain": [
              "{'accuracy': [0.0019323508022353053,\n",
              "  0.0019323508022353053,\n",
              "  0.0019323508022353053,\n",
              "  0.0019323508022353053,\n",
              "  0.0019323508022353053,\n",
              "  0.0019323508022353053,\n",
              "  0.0019323508022353053,\n",
              "  0.0019323508022353053,\n",
              "  0.0019323508022353053,\n",
              "  0.0019323508022353053,\n",
              "  0.0019323508022353053,\n",
              "  0.0019323508022353053,\n",
              "  0.0019323508022353053,\n",
              "  0.0019323508022353053,\n",
              "  0.0019323508022353053],\n",
              " 'loss': [0.03575810045003891,\n",
              "  0.018199069425463676,\n",
              "  0.016967592760920525,\n",
              "  0.016452904790639877,\n",
              "  0.015901340171694756,\n",
              "  0.015285680070519447,\n",
              "  0.01505606435239315,\n",
              "  0.01484085712581873,\n",
              "  0.014876456931233406,\n",
              "  0.014668101444840431,\n",
              "  0.01453643199056387,\n",
              "  0.014629252254962921,\n",
              "  0.014575433917343616,\n",
              "  0.014391826465725899,\n",
              "  0.014277400448918343],\n",
              " 'val_accuracy': [0.0014872903702780604,\n",
              "  0.0014872903702780604,\n",
              "  0.0014872903702780604,\n",
              "  0.0014872903702780604,\n",
              "  0.0014872903702780604,\n",
              "  0.0014872903702780604,\n",
              "  0.0014872903702780604,\n",
              "  0.0014872903702780604,\n",
              "  0.0014872903702780604,\n",
              "  0.0014872903702780604,\n",
              "  0.0014872903702780604,\n",
              "  0.0014872903702780604,\n",
              "  0.0014872903702780604,\n",
              "  0.0014872903702780604,\n",
              "  0.0014872903702780604],\n",
              " 'val_loss': [0.012520463205873966,\n",
              "  0.011174801737070084,\n",
              "  0.01123942993581295,\n",
              "  0.011187749914824963,\n",
              "  0.011135546490550041,\n",
              "  0.011235599406063557,\n",
              "  0.011181661859154701,\n",
              "  0.011168493889272213,\n",
              "  0.011204937472939491,\n",
              "  0.01116882637143135,\n",
              "  0.01115936879068613,\n",
              "  0.011552097275853157,\n",
              "  0.011345678009092808,\n",
              "  0.011193245649337769,\n",
              "  0.0111891133710742]}"
            ]
          },
          "metadata": {},
          "execution_count": 40
        }
      ]
    },
    {
      "cell_type": "code",
      "metadata": {
        "colab": {
          "base_uri": "https://localhost:8080/",
          "height": 298
        },
        "id": "Kmb4eLrOsZow",
        "outputId": "b3ec1ee6-51db-4ff9-bdeb-671644c14ddd"
      },
      "source": [
        "plt.plot(result_2.history['loss'],label='loss')\n",
        "plt.plot(result_2.history['val_loss'],label='val_loss')\n",
        "plt.legend()\n",
        "plt.title('Relu with Softmax(o/p)')"
      ],
      "execution_count": 41,
      "outputs": [
        {
          "output_type": "execute_result",
          "data": {
            "text/plain": [
              "Text(0.5, 1.0, 'Relu with Softmax(o/p)')"
            ]
          },
          "metadata": {},
          "execution_count": 41
        },
        {
          "output_type": "display_data",
          "data": {
            "image/png": "[encoded data removed]",
            "text/plain": [
              "<Figure size 432x288 with 1 Axes>"
            ]
          },
          "metadata": {
            "needs_background": "light"
          }
        }
      ]
    },
    {
      "cell_type": "code",
      "metadata": {
        "colab": {
          "base_uri": "https://localhost:8080/",
          "height": 298
        },
        "id": "_gK6YeXesiQI",
        "outputId": "63e72fca-3b6b-41e2-cf24-9b5f275f9d51"
      },
      "source": [
        "plt.plot(result_2.history['accuracy'],label='accuracy')\n",
        "plt.plot(result_2.history['val_accuracy'],label='val_accuracy')\n",
        "plt.legend()\n",
        "plt.title('Relu with Softmax(o/p)')"
      ],
      "execution_count": 42,
      "outputs": [
        {
          "output_type": "execute_result",
          "data": {
            "text/plain": [
              "Text(0.5, 1.0, 'Relu with Softmax(o/p)')"
            ]
          },
          "metadata": {},
          "execution_count": 42
        },
        {
          "output_type": "display_data",
          "data": {
            "image/png": "[encoded data removed]",
            "text/plain": [
              "<Figure size 432x288 with 1 Axes>"
            ]
          },
          "metadata": {
            "needs_background": "light"
          }
        }
      ]
    },
    {
      "cell_type": "code",
      "metadata": {
        "id": "oOVPwSsHsiVt"
      },
      "source": [
        ""
      ],
      "execution_count": null,
      "outputs": []
    },
    {
      "cell_type": "markdown",
      "metadata": {
        "id": "Y2hRvgMrJtME"
      },
      "source": [
        "# Observation :\n",
        "  Here i've taken Relu with Softmax in last(o/p) layer.\n",
        "\n",
        "  30(col)(i/p layer) - 64(inner layer) - 32(inner layer) - 16(inner layer) - 8(inner layer) - 1(o/p) layer. These are like i/p layer then inner/dense layer and o/p layer.\n",
        "\n",
        "i've taken :\n",
        "\n",
        "    loss = [\"binary_crossentropy\"],\n",
        "    optimizer = \"adam\",\n",
        "    metrics = ['accuracy']\n",
        "    epochs = 5, (any num as per size\n",
        "    batch_size = 80.\n",
        "\n",
        "As u can see in reuslt relu with Softmax in last layer we got the accuracy is much much less (loss: 0.0155 - accuracy: 0.0019 - val_loss: 0.0112 - val_accuracy: 0.001) this is the difference from model 1 & 2.\n",
        "\n",
        "where the acc is less when Softmax is used in o/p layer, when compared to sigmoid in o/p layer. \n",
        "\n",
        "  Lets Check new model Leaky_Relu with Sigmoid...."
      ]
    },
    {
      "cell_type": "markdown",
      "metadata": {
        "id": "CqfBmv9_ufUJ"
      },
      "source": [
        "--> 3. model_3 - Leaky_relu"
      ]
    },
    {
      "cell_type": "code",
      "metadata": {
        "id": "JMAEB93ARAuB"
      },
      "source": [
        "model_3 = Sequential()\n",
        "# 30(col)(i/p layer) - 64(inner layer) - 32(inner layer) - 16(inner alyer) - 1(o/p) layer\n",
        "\n",
        "model_3.add(Dense(64, input_shape = (30,), activation = tf.keras.layers.LeakyReLU(alpha = 0.1)))\n",
        "model_3.add(Dense(32, activation = tf.keras.layers.LeakyReLU(alpha = 0.3)))\n",
        "model_3.add(Dense(16, activation = tf.keras.layers.LeakyReLU(alpha = 0.1)))\n",
        "model_3.add(Dense(1, activation = \"sigmoid\"))\n"
      ],
      "execution_count": 43,
      "outputs": []
    },
    {
      "cell_type": "code",
      "metadata": {
        "colab": {
          "base_uri": "https://localhost:8080/"
        },
        "id": "REGI3ZglgqlV",
        "outputId": "a45f76ab-ef04-44fd-faef-863a314b556c"
      },
      "source": [
        "print(model_3.summary())"
      ],
      "execution_count": 44,
      "outputs": [
        {
          "output_type": "stream",
          "name": "stdout",
          "text": [
            "Model: \"sequential_2\"\n",
            "_________________________________________________________________\n",
            "Layer (type)                 Output Shape              Param #   \n",
            "=================================================================\n",
            "dense_11 (Dense)             (None, 64)                1984      \n",
            "_________________________________________________________________\n",
            "dense_12 (Dense)             (None, 32)                2080      \n",
            "_________________________________________________________________\n",
            "dense_13 (Dense)             (None, 16)                528       \n",
            "_________________________________________________________________\n",
            "dense_14 (Dense)             (None, 1)                 17        \n",
            "=================================================================\n",
            "Total params: 4,609\n",
            "Trainable params: 4,609\n",
            "Non-trainable params: 0\n",
            "_________________________________________________________________\n",
            "None\n"
          ]
        }
      ]
    },
    {
      "cell_type": "code",
      "metadata": {
        "colab": {
          "base_uri": "https://localhost:8080/"
        },
        "id": "aP-BS-Ijg1Wx",
        "outputId": "f55ee798-8474-425a-f4d3-e58908b20b34"
      },
      "source": [
        "model_3.compile(loss = 'binary_crossentropy', optimizer = 'sgd', metrics = ['accuracy'])\n",
        "\n",
        "result_3 = model_3.fit(train_X,y_train, epochs = 10, batch_size = 68, validation_data = (test_X, y_test))"
      ],
      "execution_count": 45,
      "outputs": [
        {
          "output_type": "stream",
          "name": "stdout",
          "text": [
            "Epoch 1/10\n",
            "2611/2611 [==============================] - 12s 4ms/step - loss: 0.0391 - accuracy: 0.9973 - val_loss: 0.0113 - val_accuracy: 0.9985\n",
            "Epoch 2/10\n",
            "2611/2611 [==============================] - 10s 4ms/step - loss: 0.0140 - accuracy: 0.9981 - val_loss: 0.0112 - val_accuracy: 0.9985\n",
            "Epoch 3/10\n",
            "2611/2611 [==============================] - 10s 4ms/step - loss: 0.0140 - accuracy: 0.9981 - val_loss: 0.0112 - val_accuracy: 0.9985\n",
            "Epoch 4/10\n",
            "2611/2611 [==============================] - 10s 4ms/step - loss: 0.0140 - accuracy: 0.9981 - val_loss: 0.0112 - val_accuracy: 0.9985\n",
            "Epoch 5/10\n",
            "2611/2611 [==============================] - 10s 4ms/step - loss: 0.0140 - accuracy: 0.9981 - val_loss: 0.0112 - val_accuracy: 0.9985\n",
            "Epoch 6/10\n",
            "2611/2611 [==============================] - 10s 4ms/step - loss: 0.0140 - accuracy: 0.9981 - val_loss: 0.0112 - val_accuracy: 0.9985\n",
            "Epoch 7/10\n",
            "2611/2611 [==============================] - 10s 4ms/step - loss: 0.0140 - accuracy: 0.9981 - val_loss: 0.0112 - val_accuracy: 0.9985\n",
            "Epoch 8/10\n",
            "2611/2611 [==============================] - 10s 4ms/step - loss: 0.0140 - accuracy: 0.9981 - val_loss: 0.0112 - val_accuracy: 0.9985\n",
            "Epoch 9/10\n",
            "2611/2611 [==============================] - 10s 4ms/step - loss: 0.0140 - accuracy: 0.9981 - val_loss: 0.0112 - val_accuracy: 0.9985\n",
            "Epoch 10/10\n",
            "2611/2611 [==============================] - 11s 4ms/step - loss: 0.0140 - accuracy: 0.9981 - val_loss: 0.0112 - val_accuracy: 0.9985\n"
          ]
        }
      ]
    },
    {
      "cell_type": "code",
      "metadata": {
        "colab": {
          "base_uri": "https://localhost:8080/"
        },
        "id": "SiWDuMiTtfGd",
        "outputId": "a8a4e8f9-ceee-4dab-e527-97a9434c9c81"
      },
      "source": [
        "result_3.history"
      ],
      "execution_count": 46,
      "outputs": [
        {
          "output_type": "execute_result",
          "data": {
            "text/plain": [
              "{'accuracy': [0.9973127245903015,\n",
              "  0.9980676770210266,\n",
              "  0.9980676770210266,\n",
              "  0.9980676770210266,\n",
              "  0.9980676770210266,\n",
              "  0.9980676770210266,\n",
              "  0.9980676770210266,\n",
              "  0.9980676770210266,\n",
              "  0.9980676770210266,\n",
              "  0.9980676770210266],\n",
              " 'loss': [0.03908181190490723,\n",
              "  0.014012809842824936,\n",
              "  0.014011208899319172,\n",
              "  0.01401206012815237,\n",
              "  0.014010238461196423,\n",
              "  0.014011935330927372,\n",
              "  0.014012419618666172,\n",
              "  0.014007903635501862,\n",
              "  0.014012408442795277,\n",
              "  0.014012628234922886],\n",
              " 'val_accuracy': [0.9985126852989197,\n",
              "  0.9985126852989197,\n",
              "  0.9985126852989197,\n",
              "  0.9985126852989197,\n",
              "  0.9985126852989197,\n",
              "  0.9985126852989197,\n",
              "  0.9985126852989197,\n",
              "  0.9985126852989197,\n",
              "  0.9985126852989197,\n",
              "  0.9985126852989197],\n",
              " 'val_loss': [0.011284438893198967,\n",
              "  0.011216252110898495,\n",
              "  0.01121752429753542,\n",
              "  0.011230620555579662,\n",
              "  0.01122660655528307,\n",
              "  0.011219490319490433,\n",
              "  0.011234804056584835,\n",
              "  0.011198382824659348,\n",
              "  0.0111989825963974,\n",
              "  0.011218798346817493]}"
            ]
          },
          "metadata": {},
          "execution_count": 46
        }
      ]
    },
    {
      "cell_type": "code",
      "metadata": {
        "colab": {
          "base_uri": "https://localhost:8080/",
          "height": 298
        },
        "id": "9-28Y6rmtfI4",
        "outputId": "3be96582-e0bc-4c05-c03f-62e9174e3d53"
      },
      "source": [
        "plt.plot(result_3.history['loss'],label = 'loss')\n",
        "plt.plot(result_3.history['val_loss'], label= 'val_loss')\n",
        "plt.legend()\n",
        "plt.title('Leaky_relu with Sigmoid(o/p)')"
      ],
      "execution_count": 47,
      "outputs": [
        {
          "output_type": "execute_result",
          "data": {
            "text/plain": [
              "Text(0.5, 1.0, 'Leaky_relu with Sigmoid(o/p)')"
            ]
          },
          "metadata": {},
          "execution_count": 47
        },
        {
          "output_type": "display_data",
          "data": {
            "image/png": "[encoded data removed]",
            "text/plain": [
              "<Figure size 432x288 with 1 Axes>"
            ]
          },
          "metadata": {
            "needs_background": "light"
          }
        }
      ]
    },
    {
      "cell_type": "code",
      "metadata": {
        "colab": {
          "base_uri": "https://localhost:8080/",
          "height": 298
        },
        "id": "EYHjmX3juRtr",
        "outputId": "20244752-8a70-4be0-d684-0f5739afd4ce"
      },
      "source": [
        "plt.plot(result_2.history['accuracy'],label='accuracy')\n",
        "plt.plot(result_2.history['val_accuracy'],label='val_accuracy')\n",
        "plt.legend()\n",
        "plt.title('Leaky_relu with Sigmoid(o/p)')"
      ],
      "execution_count": 48,
      "outputs": [
        {
          "output_type": "execute_result",
          "data": {
            "text/plain": [
              "Text(0.5, 1.0, 'Leaky_relu with Sigmoid(o/p)')"
            ]
          },
          "metadata": {},
          "execution_count": 48
        },
        {
          "output_type": "display_data",
          "data": {
            "image/png": "[encoded data removed]",
            "text/plain": [
              "<Figure size 432x288 with 1 Axes>"
            ]
          },
          "metadata": {
            "needs_background": "light"
          }
        }
      ]
    },
    {
      "cell_type": "code",
      "metadata": {
        "colab": {
          "base_uri": "https://localhost:8080/",
          "height": 296
        },
        "id": "MnfykGtdJ7UR",
        "outputId": "dc79ed63-2d85-4280-9f23-dad822a3fd95"
      },
      "source": [
        "y_pred = model_3.predict(test_X)\n",
        "\n",
        "fig,ax = plt.subplots()\n",
        "plt.scatter(y_test, y_pred)\n",
        "ax.plot([y.min(), y.max()], [y.min(), y.max()], 'k--', lw = 4)\n",
        "plt.xlabel('True Values')\n",
        "plt.ylabel('Predictions')"
      ],
      "execution_count": 49,
      "outputs": [
        {
          "output_type": "execute_result",
          "data": {
            "text/plain": [
              "Text(0, 0.5, 'Predictions')"
            ]
          },
          "metadata": {},
          "execution_count": 49
        },
        {
          "output_type": "display_data",
          "data": {
            "image/png": "[encoded data removed]",
            "text/plain": [
              "<Figure size 432x288 with 1 Axes>"
            ]
          },
          "metadata": {
            "needs_background": "light"
          }
        }
      ]
    },
    {
      "cell_type": "markdown",
      "metadata": {
        "id": "BYky5ze4bsvU"
      },
      "source": [
        "# Observations:\n",
        "  Here taken Leaky_relu with Sigmoid.\n",
        "\n",
        "  30(col)(i/p layer) - 64(inner layer) - 32(inner layer) - 16(inner alyer) - 1(o/p) layer. These are like i/p & inner/dense layer & o/p layer.\n",
        "  \n",
        "Leaky relu = in relu these is a drawback (As it triggers 0 , if it triggers always 0 then the neuron dies , if neuron dies entire system gets damage) to overcome that drawback we use leakyrelu. range(x,alpha(x)) where alpha == constant.\n",
        "\n",
        "i've taken \n",
        "\n",
        "    loss = [\"binary_crossentropy\"],\n",
        "    optimizer = \"sgd\",\n",
        "    metrics = ['accuracy']\n",
        "    epochs = 10, (any num as per size\n",
        "    batch_size = 68.\n",
        "\n",
        "As u can see in result , the accuracy is quite good and loss is less."
      ]
    },
    {
      "cell_type": "markdown",
      "metadata": {
        "id": "NPZkoupswekg"
      },
      "source": [
        " --> 4. model_4 = Model_sigmoid"
      ]
    },
    {
      "cell_type": "code",
      "metadata": {
        "id": "7nIYYUHjwVuh"
      },
      "source": [
        "from numpy import loadtxt\n",
        "from tensorflow.keras.models import Sequential\n",
        "from tensorflow.keras import layers\n",
        "from tensorflow.keras.layers import Dense, Dropout"
      ],
      "execution_count": 50,
      "outputs": []
    },
    {
      "cell_type": "code",
      "metadata": {
        "id": "_MBJjOAdyikz"
      },
      "source": [
        "from tensorflow.keras.models import Sequential\n",
        "\n",
        "model_sigmoid = Sequential()\n",
        "\n",
        "# 30(col)(i/p layer) - 128(inner layer) - 64(inner layer) - 32(inner layer) - 16(inner alyer) - 8(inner layer) - 1(o/p) layer.\n",
        "model_sigmoid.add(Dense(128, input_shape = (30,), activation = \"sigmoid\"))\n",
        "model_sigmoid.add(Dense(64, activation = \"sigmoid\"))\n",
        "model_sigmoid.add(Dense(32, activation = \"sigmoid\"))\n",
        "model_sigmoid.add(Dense(16, activation = \"sigmoid\"))\n",
        "model_sigmoid.add(Dense(8, activation = \"sigmoid\"))\n",
        "model_sigmoid.add(Dense(1, activation = \"softmax\"))\n"
      ],
      "execution_count": 51,
      "outputs": []
    },
    {
      "cell_type": "code",
      "metadata": {
        "colab": {
          "base_uri": "https://localhost:8080/"
        },
        "id": "Kk2Rys7AonTg",
        "outputId": "529156bc-5602-4ca8-9dc9-e7432f7bcdbb"
      },
      "source": [
        "model_sigmoid.summary()"
      ],
      "execution_count": 52,
      "outputs": [
        {
          "output_type": "stream",
          "name": "stdout",
          "text": [
            "Model: \"sequential_3\"\n",
            "_________________________________________________________________\n",
            "Layer (type)                 Output Shape              Param #   \n",
            "=================================================================\n",
            "dense_15 (Dense)             (None, 128)               3968      \n",
            "_________________________________________________________________\n",
            "dense_16 (Dense)             (None, 64)                8256      \n",
            "_________________________________________________________________\n",
            "dense_17 (Dense)             (None, 32)                2080      \n",
            "_________________________________________________________________\n",
            "dense_18 (Dense)             (None, 16)                528       \n",
            "_________________________________________________________________\n",
            "dense_19 (Dense)             (None, 8)                 136       \n",
            "_________________________________________________________________\n",
            "dense_20 (Dense)             (None, 1)                 9         \n",
            "=================================================================\n",
            "Total params: 14,977\n",
            "Trainable params: 14,977\n",
            "Non-trainable params: 0\n",
            "_________________________________________________________________\n"
          ]
        }
      ]
    },
    {
      "cell_type": "code",
      "metadata": {
        "colab": {
          "base_uri": "https://localhost:8080/"
        },
        "id": "wOpJip3GzhVM",
        "outputId": "54a6eda5-4e65-45a3-92fa-938327a03999"
      },
      "source": [
        "model_sigmoid.compile(loss = 'binary_crossentropy', optimizer = 'sgd', metrics = ['accuracy'])\n",
        "\n",
        "result_4 = model_sigmoid.fit(train_X,y_train, epochs = 10, batch_size = 68, validation_data = (test_X, y_test))"
      ],
      "execution_count": 53,
      "outputs": [
        {
          "output_type": "stream",
          "name": "stdout",
          "text": [
            "Epoch 1/10\n",
            "2611/2611 [==============================] - 11s 4ms/step - loss: 0.0455 - accuracy: 0.0019 - val_loss: 0.0151 - val_accuracy: 0.0015\n",
            "Epoch 2/10\n",
            "2611/2611 [==============================] - 10s 4ms/step - loss: 0.0157 - accuracy: 0.0019 - val_loss: 0.0124 - val_accuracy: 0.0015\n",
            "Epoch 3/10\n",
            "2611/2611 [==============================] - 10s 4ms/step - loss: 0.0145 - accuracy: 0.0019 - val_loss: 0.0118 - val_accuracy: 0.0015\n",
            "Epoch 4/10\n",
            "2611/2611 [==============================] - 10s 4ms/step - loss: 0.0142 - accuracy: 0.0019 - val_loss: 0.0115 - val_accuracy: 0.0015\n",
            "Epoch 5/10\n",
            "2611/2611 [==============================] - 10s 4ms/step - loss: 0.0141 - accuracy: 0.0019 - val_loss: 0.0114 - val_accuracy: 0.0015\n",
            "Epoch 6/10\n",
            "2611/2611 [==============================] - 10s 4ms/step - loss: 0.0140 - accuracy: 0.0019 - val_loss: 0.0113 - val_accuracy: 0.0015\n",
            "Epoch 7/10\n",
            "2611/2611 [==============================] - 10s 4ms/step - loss: 0.0140 - accuracy: 0.0019 - val_loss: 0.0113 - val_accuracy: 0.0015\n",
            "Epoch 8/10\n",
            "2611/2611 [==============================] - 10s 4ms/step - loss: 0.0140 - accuracy: 0.0019 - val_loss: 0.0113 - val_accuracy: 0.0015\n",
            "Epoch 9/10\n",
            "2611/2611 [==============================] - 10s 4ms/step - loss: 0.0140 - accuracy: 0.0019 - val_loss: 0.0113 - val_accuracy: 0.0015\n",
            "Epoch 10/10\n",
            "2611/2611 [==============================] - 10s 4ms/step - loss: 0.0140 - accuracy: 0.0019 - val_loss: 0.0112 - val_accuracy: 0.0015\n"
          ]
        }
      ]
    },
    {
      "cell_type": "code",
      "metadata": {
        "colab": {
          "base_uri": "https://localhost:8080/"
        },
        "id": "Vh8Z0rjvuxmr",
        "outputId": "be9bc6a7-46c9-4721-e9d3-ad2ac4d83184"
      },
      "source": [
        "result_4.history"
      ],
      "execution_count": 54,
      "outputs": [
        {
          "output_type": "execute_result",
          "data": {
            "text/plain": [
              "{'accuracy': [0.0019323508022353053,\n",
              "  0.0019323508022353053,\n",
              "  0.0019323508022353053,\n",
              "  0.0019323508022353053,\n",
              "  0.0019323508022353053,\n",
              "  0.0019323508022353053,\n",
              "  0.0019323508022353053,\n",
              "  0.0019323508022353053,\n",
              "  0.0019323508022353053,\n",
              "  0.0019323508022353053],\n",
              " 'loss': [0.04545610398054123,\n",
              "  0.015690449625253677,\n",
              "  0.014519239775836468,\n",
              "  0.014203265309333801,\n",
              "  0.014090116135776043,\n",
              "  0.014044509269297123,\n",
              "  0.014024323783814907,\n",
              "  0.014015261083841324,\n",
              "  0.014011510647833347,\n",
              "  0.014008941128849983],\n",
              " 'val_accuracy': [0.0014872903702780604,\n",
              "  0.0014872903702780604,\n",
              "  0.0014872903702780604,\n",
              "  0.0014872903702780604,\n",
              "  0.0014872903702780604,\n",
              "  0.0014872903702780604,\n",
              "  0.0014872903702780604,\n",
              "  0.0014872903702780604,\n",
              "  0.0014872903702780604,\n",
              "  0.0014872903702780604],\n",
              " 'val_loss': [0.015093591064214706,\n",
              "  0.012411427684128284,\n",
              "  0.011752997525036335,\n",
              "  0.011497355997562408,\n",
              "  0.011381551623344421,\n",
              "  0.011320450343191624,\n",
              "  0.01128576323390007,\n",
              "  0.011268502101302147,\n",
              "  0.011254039593040943,\n",
              "  0.011245482601225376]}"
            ]
          },
          "metadata": {},
          "execution_count": 54
        }
      ]
    },
    {
      "cell_type": "code",
      "metadata": {
        "colab": {
          "base_uri": "https://localhost:8080/",
          "height": 298
        },
        "id": "_ju0kX1Wu0dp",
        "outputId": "82d16b2e-8a97-41d0-954d-b38c42a113d8"
      },
      "source": [
        "plt.plot(result_4.history['loss'], label = 'loss')\n",
        "plt.plot(result_4.history['val_loss'], label = 'val_loss')\n",
        "plt.legend()\n",
        "plt.title('Sigmoid_with_Softmax(o/p)')"
      ],
      "execution_count": 55,
      "outputs": [
        {
          "output_type": "execute_result",
          "data": {
            "text/plain": [
              "Text(0.5, 1.0, 'Sigmoid_with_Softmax(o/p)')"
            ]
          },
          "metadata": {},
          "execution_count": 55
        },
        {
          "output_type": "display_data",
          "data": {
            "image/png": "[encoded data removed]",
            "text/plain": [
              "<Figure size 432x288 with 1 Axes>"
            ]
          },
          "metadata": {
            "needs_background": "light"
          }
        }
      ]
    },
    {
      "cell_type": "code",
      "metadata": {
        "colab": {
          "base_uri": "https://localhost:8080/",
          "height": 298
        },
        "id": "_6rV0EtKu0q0",
        "outputId": "d71b1ec1-5c7e-43bf-9b91-30580991a561"
      },
      "source": [
        "plt.plot(result_4.history['accuracy'], label = 'accurcay')\n",
        "plt.plot(result_4.history['val_accuracy'], label = 'val_accuracy')\n",
        "plt.legend()\n",
        "plt.title('Sigmoid_with_softmax(o/p)')"
      ],
      "execution_count": 56,
      "outputs": [
        {
          "output_type": "execute_result",
          "data": {
            "text/plain": [
              "Text(0.5, 1.0, 'Sigmoid_with_softmax(o/p)')"
            ]
          },
          "metadata": {},
          "execution_count": 56
        },
        {
          "output_type": "display_data",
          "data": {
            "image/png": "[encoded data removed]",
            "text/plain": [
              "<Figure size 432x288 with 1 Axes>"
            ]
          },
          "metadata": {
            "needs_background": "light"
          }
        }
      ]
    },
    {
      "cell_type": "code",
      "metadata": {
        "colab": {
          "base_uri": "https://localhost:8080/",
          "height": 296
        },
        "id": "M3kUC0HNE4js",
        "outputId": "ac93c07c-64b2-4b86-fae8-4ac902a39b59"
      },
      "source": [
        "import matplotlib.pyplot as plt \n",
        "\n",
        "y_pred = model_sigmoid.predict(test_X)\n",
        "fig,ax = plt.subplots()\n",
        "plt.scatter(y_test, y_pred)\n",
        "ax.plot([y.min(), y.max()], [y.min(), y.max()], 'k--', lw = 4)\n",
        "plt.xlabel('True Values')\n",
        "plt.ylabel('Predictions')"
      ],
      "execution_count": 57,
      "outputs": [
        {
          "output_type": "execute_result",
          "data": {
            "text/plain": [
              "Text(0, 0.5, 'Predictions')"
            ]
          },
          "metadata": {},
          "execution_count": 57
        },
        {
          "output_type": "display_data",
          "data": {
            "image/png": "[encoded data removed]",
            "text/plain": [
              "<Figure size 432x288 with 1 Axes>"
            ]
          },
          "metadata": {
            "needs_background": "light"
          }
        }
      ]
    },
    {
      "cell_type": "code",
      "metadata": {
        "colab": {
          "base_uri": "https://localhost:8080/"
        },
        "id": "QOK-__T4qkiV",
        "outputId": "34461b6c-a0d7-4be0-8617-600a30c21eef"
      },
      "source": [
        "y_pred.__len__()"
      ],
      "execution_count": 58,
      "outputs": [
        {
          "output_type": "execute_result",
          "data": {
            "text/plain": [
              "44376"
            ]
          },
          "metadata": {},
          "execution_count": 58
        }
      ]
    },
    {
      "cell_type": "markdown",
      "metadata": {
        "id": "NmNmb-aDQKmf"
      },
      "source": [
        "# Observation\n",
        "  Sigmoid = this is also known as logistic function, its basically non-linear activation function.\n",
        "\n",
        "  30(col)(i/p layer) - 128(inner layer) - 64(inner layer) - 32(inner layer) - 16(inner alyer) - 8(inner layer) - 1(o/p) layer.\n",
        "\n",
        "  taken = \n",
        "\n",
        "    loss = [\"binary_crossentropy\"],\n",
        "    optimizer = \"sgd\",\n",
        "    metrics = ['accuracy']\n",
        "    epochs = 10, (any num as per size\n",
        "    batch_size = 68.\n",
        "\n",
        "Here is the result we used Sigmoid with Softmax , so result here are observing is that the loss is less and the accuracy is also less. in 2nd model where softmax is used in output layer tehre is also the accuracy is very less.\n",
        "\n",
        "  Lets check the other model \"ELU\"...."
      ]
    },
    {
      "cell_type": "code",
      "metadata": {
        "id": "H0_KJNpM0e3D"
      },
      "source": [
        "# sigmoid \n",
        "from tensorflow.keras.models import Sequential\n",
        "\n",
        "model_sigmoid2 = Sequential()\n",
        "# 30(col)(i/p layer) - 256(innerlayer) - 128(inner layer) - 64(inner layer) - 32(inner layer) - 16(inner alyer) - 8(inner layer) - 1(o/p) layer.\n",
        "model_sigmoid2.add(Dense(256, input_shape = (30,), activation = 'sigmoid'))\n",
        "model_sigmoid2.add(Dense(128, activation = \"sigmoid\"))\n",
        "model_sigmoid2.add(Dense(64, activation = \"sigmoid\"))\n",
        "model_sigmoid2.add(Dense(32, activation = \"sigmoid\"))\n",
        "model_sigmoid2.add(Dense(16, activation = \"sigmoid\"))\n",
        "model_sigmoid2.add(Dense(8, activation = \"sigmoid\"))\n",
        "model_sigmoid2.add(Dense(1, activation = \"sigmoid\"))\n"
      ],
      "execution_count": 59,
      "outputs": []
    },
    {
      "cell_type": "code",
      "metadata": {
        "colab": {
          "base_uri": "https://localhost:8080/"
        },
        "id": "6ZmtKCpm0ewe",
        "outputId": "47fd1330-6717-4ff2-d05f-ebdf8a2d5a42"
      },
      "source": [
        "model_sigmoid2.summary()"
      ],
      "execution_count": 60,
      "outputs": [
        {
          "output_type": "stream",
          "name": "stdout",
          "text": [
            "Model: \"sequential_4\"\n",
            "_________________________________________________________________\n",
            "Layer (type)                 Output Shape              Param #   \n",
            "=================================================================\n",
            "dense_21 (Dense)             (None, 256)               7936      \n",
            "_________________________________________________________________\n",
            "dense_22 (Dense)             (None, 128)               32896     \n",
            "_________________________________________________________________\n",
            "dense_23 (Dense)             (None, 64)                8256      \n",
            "_________________________________________________________________\n",
            "dense_24 (Dense)             (None, 32)                2080      \n",
            "_________________________________________________________________\n",
            "dense_25 (Dense)             (None, 16)                528       \n",
            "_________________________________________________________________\n",
            "dense_26 (Dense)             (None, 8)                 136       \n",
            "_________________________________________________________________\n",
            "dense_27 (Dense)             (None, 1)                 9         \n",
            "=================================================================\n",
            "Total params: 51,841\n",
            "Trainable params: 51,841\n",
            "Non-trainable params: 0\n",
            "_________________________________________________________________\n"
          ]
        }
      ]
    },
    {
      "cell_type": "code",
      "metadata": {
        "colab": {
          "base_uri": "https://localhost:8080/"
        },
        "id": "HQ2K7ESg0esU",
        "outputId": "f1b5f276-b100-4fdd-c30a-d75e161a8a2e"
      },
      "source": [
        "model_sigmoid2.compile(loss = 'binary_crossentropy', optimizer = 'sgd', metrics = ['accuracy'])\n",
        "\n",
        "result_5 = model_sigmoid2.fit(train_X,y_train, epochs = 8, batch_size = 88, validation_data = (test_X, y_test))\n"
      ],
      "execution_count": 61,
      "outputs": [
        {
          "output_type": "stream",
          "name": "stdout",
          "text": [
            "Epoch 1/8\n",
            "2018/2018 [==============================] - 9s 4ms/step - loss: 0.0716 - accuracy: 0.9941 - val_loss: 0.0194 - val_accuracy: 0.9985\n",
            "Epoch 2/8\n",
            "2018/2018 [==============================] - 8s 4ms/step - loss: 0.0181 - accuracy: 0.9981 - val_loss: 0.0141 - val_accuracy: 0.9985\n",
            "Epoch 3/8\n",
            "2018/2018 [==============================] - 8s 4ms/step - loss: 0.0156 - accuracy: 0.9981 - val_loss: 0.0126 - val_accuracy: 0.9985\n",
            "Epoch 4/8\n",
            "2018/2018 [==============================] - 8s 4ms/step - loss: 0.0148 - accuracy: 0.9981 - val_loss: 0.0121 - val_accuracy: 0.9985\n",
            "Epoch 5/8\n",
            "2018/2018 [==============================] - 8s 4ms/step - loss: 0.0144 - accuracy: 0.9981 - val_loss: 0.0118 - val_accuracy: 0.9985\n",
            "Epoch 6/8\n",
            "2018/2018 [==============================] - 8s 4ms/step - loss: 0.0142 - accuracy: 0.9981 - val_loss: 0.0116 - val_accuracy: 0.9985\n",
            "Epoch 7/8\n",
            "2018/2018 [==============================] - 8s 4ms/step - loss: 0.0141 - accuracy: 0.9981 - val_loss: 0.0115 - val_accuracy: 0.9985\n",
            "Epoch 8/8\n",
            "2018/2018 [==============================] - 9s 4ms/step - loss: 0.0141 - accuracy: 0.9981 - val_loss: 0.0114 - val_accuracy: 0.9985\n"
          ]
        }
      ]
    },
    {
      "cell_type": "code",
      "metadata": {
        "colab": {
          "base_uri": "https://localhost:8080/"
        },
        "id": "aj1yH-d1kWV2",
        "outputId": "aa245a3a-df7d-4acc-f195-39b55e629c56"
      },
      "source": [
        "result_5.history"
      ],
      "execution_count": 62,
      "outputs": [
        {
          "output_type": "execute_result",
          "data": {
            "text/plain": [
              "{'accuracy': [0.9941240549087524,\n",
              "  0.9980676770210266,\n",
              "  0.9980676770210266,\n",
              "  0.9980676770210266,\n",
              "  0.9980676770210266,\n",
              "  0.9980676770210266,\n",
              "  0.9980676770210266,\n",
              "  0.9980676770210266],\n",
              " 'loss': [0.07157358527183533,\n",
              "  0.01811946928501129,\n",
              "  0.01555693056434393,\n",
              "  0.014752517454326153,\n",
              "  0.014408271759748459,\n",
              "  0.014236561954021454,\n",
              "  0.014143336564302444,\n",
              "  0.014090153388679028],\n",
              " 'val_accuracy': [0.9985126852989197,\n",
              "  0.9985126852989197,\n",
              "  0.9985126852989197,\n",
              "  0.9985126852989197,\n",
              "  0.9985126852989197,\n",
              "  0.9985126852989197,\n",
              "  0.9985126852989197,\n",
              "  0.9985126852989197],\n",
              " 'val_loss': [0.01935773529112339,\n",
              "  0.014068874530494213,\n",
              "  0.012645034119486809,\n",
              "  0.012051592580974102,\n",
              "  0.011750724166631699,\n",
              "  0.011576831340789795,\n",
              "  0.011470815166831017,\n",
              "  0.011402084492146969]}"
            ]
          },
          "metadata": {},
          "execution_count": 62
        }
      ]
    },
    {
      "cell_type": "code",
      "metadata": {
        "colab": {
          "base_uri": "https://localhost:8080/",
          "height": 298
        },
        "id": "2Ojxb1EmvyXg",
        "outputId": "32ac1999-9fb9-4d4c-aa58-698e748a0959"
      },
      "source": [
        "plt.plot(result_5.history['loss'], label = 'loss')\n",
        "plt.plot(result_5.history['val_loss'], label = 'val_loss')\n",
        "plt.legend()\n",
        "plt.title('model_Sigmoid')"
      ],
      "execution_count": 63,
      "outputs": [
        {
          "output_type": "execute_result",
          "data": {
            "text/plain": [
              "Text(0.5, 1.0, 'model_Sigmoid')"
            ]
          },
          "metadata": {},
          "execution_count": 63
        },
        {
          "output_type": "display_data",
          "data": {
            "image/png": "[encoded data removed]",
            "text/plain": [
              "<Figure size 432x288 with 1 Axes>"
            ]
          },
          "metadata": {
            "needs_background": "light"
          }
        }
      ]
    },
    {
      "cell_type": "code",
      "metadata": {
        "colab": {
          "base_uri": "https://localhost:8080/",
          "height": 298
        },
        "id": "Mr1JdNnPvylC",
        "outputId": "a49fd1ae-9b95-446e-d951-e90d1ef33aec"
      },
      "source": [
        "plt.plot(result_5.history['accuracy'], label= 'accurcay')\n",
        "plt.plot(result_5.history['val_accuracy'], label = 'val_accuracy')\n",
        "plt.legend()\n",
        "plt.title('model_Sigmoid')"
      ],
      "execution_count": 64,
      "outputs": [
        {
          "output_type": "execute_result",
          "data": {
            "text/plain": [
              "Text(0.5, 1.0, 'model_Sigmoid')"
            ]
          },
          "metadata": {},
          "execution_count": 64
        },
        {
          "output_type": "display_data",
          "data": {
            "image/png": "[encoded data removed]",
            "text/plain": [
              "<Figure size 432x288 with 1 Axes>"
            ]
          },
          "metadata": {
            "needs_background": "light"
          }
        }
      ]
    },
    {
      "cell_type": "markdown",
      "metadata": {
        "id": "53LgOlTtTg58"
      },
      "source": [
        "# Observations :\n",
        "    Here used only Sigmoid in above used sigmoid with softmax so the acc and loss is less. \n",
        "    when only sigmoid is used the result is different both the result in loss is less & accuracy is high."
      ]
    },
    {
      "cell_type": "markdown",
      "metadata": {
        "id": "MTQsHUq1-LDF"
      },
      "source": [
        "--> 5. model_5 = elu(exponential linear units)"
      ]
    },
    {
      "cell_type": "code",
      "metadata": {
        "id": "IYV73rbJhzA-"
      },
      "source": [
        "from tensorflow.keras.models import Sequential\n",
        "\n",
        "model_elu = Sequential()\n",
        "# 30(col)(i/p layer) - 128(inner layer) - 64(inner layer) - 32(inner layer) - 16(inner alyer) - 8(inner layer) - 1(o/p) layer.\n",
        "model_elu.add(Dense(128, input_shape = (30,), activation = \"elu\"))\n",
        "model_elu.add(Dense(64, activation = \"elu\"))\n",
        "model_elu.add(Dense(32, activation = \"elu\"))\n",
        "model_elu.add(Dense(16, activation = \"elu\"))\n",
        "model_elu.add(Dense(8, activation = \"elu\"))\n",
        "model_elu.add(Dense(1, activation = \"elu\"))"
      ],
      "execution_count": 65,
      "outputs": []
    },
    {
      "cell_type": "code",
      "metadata": {
        "colab": {
          "base_uri": "https://localhost:8080/"
        },
        "id": "9Ni75vLSAj6i",
        "outputId": "ae079a2d-fb1a-4b86-cb9e-f2adea9b687f"
      },
      "source": [
        "model_elu.summary()"
      ],
      "execution_count": 66,
      "outputs": [
        {
          "output_type": "stream",
          "name": "stdout",
          "text": [
            "Model: \"sequential_5\"\n",
            "_________________________________________________________________\n",
            "Layer (type)                 Output Shape              Param #   \n",
            "=================================================================\n",
            "dense_28 (Dense)             (None, 128)               3968      \n",
            "_________________________________________________________________\n",
            "dense_29 (Dense)             (None, 64)                8256      \n",
            "_________________________________________________________________\n",
            "dense_30 (Dense)             (None, 32)                2080      \n",
            "_________________________________________________________________\n",
            "dense_31 (Dense)             (None, 16)                528       \n",
            "_________________________________________________________________\n",
            "dense_32 (Dense)             (None, 8)                 136       \n",
            "_________________________________________________________________\n",
            "dense_33 (Dense)             (None, 1)                 9         \n",
            "=================================================================\n",
            "Total params: 14,977\n",
            "Trainable params: 14,977\n",
            "Non-trainable params: 0\n",
            "_________________________________________________________________\n"
          ]
        }
      ]
    },
    {
      "cell_type": "code",
      "metadata": {
        "colab": {
          "base_uri": "https://localhost:8080/"
        },
        "id": "Wf3q0jrCBePn",
        "outputId": "72bfc545-28d6-40d9-b8e8-44d4b9251bb4"
      },
      "source": [
        "model_elu.compile(loss = 'binary_crossentropy', optimizer = 'sgd', metrics = ['accuracy'])\n",
        "\n",
        "result_6 = model_elu.fit(train_X,y_train, epochs = 20, batch_size = 48, validation_data = (test_X, y_test))"
      ],
      "execution_count": 67,
      "outputs": [
        {
          "output_type": "stream",
          "name": "stdout",
          "text": [
            "Epoch 1/20\n",
            "3698/3698 [==============================] - 13s 3ms/step - loss: 0.0298 - accuracy: 0.9981 - val_loss: 0.0229 - val_accuracy: 0.9985\n",
            "Epoch 2/20\n",
            "3698/3698 [==============================] - 12s 3ms/step - loss: 0.0298 - accuracy: 0.9981 - val_loss: 0.0229 - val_accuracy: 0.9985\n",
            "Epoch 3/20\n",
            "3698/3698 [==============================] - 12s 3ms/step - loss: 0.0298 - accuracy: 0.9981 - val_loss: 0.0229 - val_accuracy: 0.9985\n",
            "Epoch 4/20\n",
            "3698/3698 [==============================] - 12s 3ms/step - loss: 0.0298 - accuracy: 0.9981 - val_loss: 0.0229 - val_accuracy: 0.9985\n",
            "Epoch 5/20\n",
            "3698/3698 [==============================] - 13s 3ms/step - loss: 0.0298 - accuracy: 0.9981 - val_loss: 0.0229 - val_accuracy: 0.9985\n",
            "Epoch 6/20\n",
            "3698/3698 [==============================] - 13s 3ms/step - loss: 0.0298 - accuracy: 0.9981 - val_loss: 0.0229 - val_accuracy: 0.9985\n",
            "Epoch 7/20\n",
            "3698/3698 [==============================] - 11s 3ms/step - loss: 0.0298 - accuracy: 0.9981 - val_loss: 0.0229 - val_accuracy: 0.9985\n",
            "Epoch 8/20\n",
            "3698/3698 [==============================] - 12s 3ms/step - loss: 0.0298 - accuracy: 0.9981 - val_loss: 0.0229 - val_accuracy: 0.9985\n",
            "Epoch 9/20\n",
            "3698/3698 [==============================] - 12s 3ms/step - loss: 0.0298 - accuracy: 0.9981 - val_loss: 0.0229 - val_accuracy: 0.9985\n",
            "Epoch 10/20\n",
            "3698/3698 [==============================] - 12s 3ms/step - loss: 0.0298 - accuracy: 0.9981 - val_loss: 0.0229 - val_accuracy: 0.9985\n",
            "Epoch 11/20\n",
            "3698/3698 [==============================] - 13s 3ms/step - loss: 0.0298 - accuracy: 0.9981 - val_loss: 0.0229 - val_accuracy: 0.9985\n",
            "Epoch 12/20\n",
            "3698/3698 [==============================] - 13s 3ms/step - loss: 0.0298 - accuracy: 0.9981 - val_loss: 0.0229 - val_accuracy: 0.9985\n",
            "Epoch 13/20\n",
            "3698/3698 [==============================] - 13s 3ms/step - loss: 0.0298 - accuracy: 0.9981 - val_loss: 0.0229 - val_accuracy: 0.9985\n",
            "Epoch 14/20\n",
            "3698/3698 [==============================] - 12s 3ms/step - loss: 0.0298 - accuracy: 0.9981 - val_loss: 0.0229 - val_accuracy: 0.9985\n",
            "Epoch 15/20\n",
            "3698/3698 [==============================] - 12s 3ms/step - loss: 0.0298 - accuracy: 0.9981 - val_loss: 0.0229 - val_accuracy: 0.9985\n",
            "Epoch 16/20\n",
            "3698/3698 [==============================] - 13s 3ms/step - loss: 0.0298 - accuracy: 0.9981 - val_loss: 0.0229 - val_accuracy: 0.9985\n",
            "Epoch 17/20\n",
            "3698/3698 [==============================] - 13s 3ms/step - loss: 0.0298 - accuracy: 0.9981 - val_loss: 0.0229 - val_accuracy: 0.9985\n",
            "Epoch 18/20\n",
            "3698/3698 [==============================] - 12s 3ms/step - loss: 0.0298 - accuracy: 0.9981 - val_loss: 0.0229 - val_accuracy: 0.9985\n",
            "Epoch 19/20\n",
            "3698/3698 [==============================] - 12s 3ms/step - loss: 0.0298 - accuracy: 0.9981 - val_loss: 0.0229 - val_accuracy: 0.9985\n",
            "Epoch 20/20\n",
            "3698/3698 [==============================] - 13s 3ms/step - loss: 0.0298 - accuracy: 0.9981 - val_loss: 0.0229 - val_accuracy: 0.9985\n"
          ]
        }
      ]
    },
    {
      "cell_type": "code",
      "metadata": {
        "colab": {
          "base_uri": "https://localhost:8080/"
        },
        "id": "Zf3vcDJ2wro2",
        "outputId": "a769909e-f63e-45da-ec92-1182957d453e"
      },
      "source": [
        "result_6.history"
      ],
      "execution_count": 68,
      "outputs": [
        {
          "output_type": "execute_result",
          "data": {
            "text/plain": [
              "{'accuracy': [0.9980676770210266,\n",
              "  0.9980676770210266,\n",
              "  0.9980676770210266,\n",
              "  0.9980676770210266,\n",
              "  0.9980676770210266,\n",
              "  0.9980676770210266,\n",
              "  0.9980676770210266,\n",
              "  0.9980676770210266,\n",
              "  0.9980676770210266,\n",
              "  0.9980676770210266,\n",
              "  0.9980676770210266,\n",
              "  0.9980676770210266,\n",
              "  0.9980676770210266,\n",
              "  0.9980676770210266,\n",
              "  0.9980676770210266,\n",
              "  0.9980676770210266,\n",
              "  0.9980676770210266,\n",
              "  0.9980676770210266,\n",
              "  0.9980676770210266,\n",
              "  0.9980676770210266],\n",
              " 'loss': [0.029806414619088173,\n",
              "  0.02980642020702362,\n",
              "  0.029806416481733322,\n",
              "  0.02980642020702362,\n",
              "  0.029806409031152725,\n",
              "  0.029806409031152725,\n",
              "  0.029806416481733322,\n",
              "  0.02980642206966877,\n",
              "  0.029806410893797874,\n",
              "  0.029806416481733322,\n",
              "  0.029806414619088173,\n",
              "  0.029806414619088173,\n",
              "  0.029806410893797874,\n",
              "  0.02980642020702362,\n",
              "  0.029806407168507576,\n",
              "  0.029806409031152725,\n",
              "  0.029806407168507576,\n",
              "  0.029806409031152725,\n",
              "  0.029806414619088173,\n",
              "  0.029806416481733322],\n",
              " 'val_accuracy': [0.9985126852989197,\n",
              "  0.9985126852989197,\n",
              "  0.9985126852989197,\n",
              "  0.9985126852989197,\n",
              "  0.9985126852989197,\n",
              "  0.9985126852989197,\n",
              "  0.9985126852989197,\n",
              "  0.9985126852989197,\n",
              "  0.9985126852989197,\n",
              "  0.9985126852989197,\n",
              "  0.9985126852989197,\n",
              "  0.9985126852989197,\n",
              "  0.9985126852989197,\n",
              "  0.9985126852989197,\n",
              "  0.9985126852989197,\n",
              "  0.9985126852989197,\n",
              "  0.9985126852989197,\n",
              "  0.9985126852989197,\n",
              "  0.9985126852989197,\n",
              "  0.9985126852989197],\n",
              " 'val_loss': [0.02294137142598629,\n",
              "  0.02294137142598629,\n",
              "  0.02294137142598629,\n",
              "  0.02294137142598629,\n",
              "  0.02294137142598629,\n",
              "  0.02294137142598629,\n",
              "  0.02294137142598629,\n",
              "  0.02294137142598629,\n",
              "  0.02294137142598629,\n",
              "  0.02294137142598629,\n",
              "  0.02294137142598629,\n",
              "  0.02294137142598629,\n",
              "  0.02294137142598629,\n",
              "  0.02294137142598629,\n",
              "  0.02294137142598629,\n",
              "  0.02294137142598629,\n",
              "  0.02294137142598629,\n",
              "  0.02294137142598629,\n",
              "  0.02294137142598629,\n",
              "  0.02294137142598629]}"
            ]
          },
          "metadata": {},
          "execution_count": 68
        }
      ]
    },
    {
      "cell_type": "code",
      "metadata": {
        "colab": {
          "base_uri": "https://localhost:8080/",
          "height": 298
        },
        "id": "CmqqkVx2wr0g",
        "outputId": "2bd014bc-d596-4075-e034-630344254730"
      },
      "source": [
        "plt.plot(result_6.history['loss'], label = 'loss')\n",
        "plt.plot(result_6.history['val_loss'], label = 'val_loss')\n",
        "plt.legend()\n",
        "plt.title('model_elu')"
      ],
      "execution_count": 69,
      "outputs": [
        {
          "output_type": "execute_result",
          "data": {
            "text/plain": [
              "Text(0.5, 1.0, 'model_elu')"
            ]
          },
          "metadata": {},
          "execution_count": 69
        },
        {
          "output_type": "display_data",
          "data": {
            "image/png": "[encoded data removed]",
            "text/plain": [
              "<Figure size 432x288 with 1 Axes>"
            ]
          },
          "metadata": {
            "needs_background": "light"
          }
        }
      ]
    },
    {
      "cell_type": "code",
      "metadata": {
        "colab": {
          "base_uri": "https://localhost:8080/",
          "height": 298
        },
        "id": "9_Y3touYwr-P",
        "outputId": "34a91815-bde5-45b7-f11f-c433d8010a22"
      },
      "source": [
        "plt.plot(result_6.history['accuracy'], label = 'accuracy')\n",
        "plt.plot(result_6.history['val_accuracy'], label = 'val_accuracy')\n",
        "plt.legend()\n",
        "plt.title('model_elu')"
      ],
      "execution_count": 70,
      "outputs": [
        {
          "output_type": "execute_result",
          "data": {
            "text/plain": [
              "Text(0.5, 1.0, 'model_elu')"
            ]
          },
          "metadata": {},
          "execution_count": 70
        },
        {
          "output_type": "display_data",
          "data": {
            "image/png": "[encoded data removed]",
            "text/plain": [
              "<Figure size 432x288 with 1 Axes>"
            ]
          },
          "metadata": {
            "needs_background": "light"
          }
        }
      ]
    },
    {
      "cell_type": "code",
      "metadata": {
        "colab": {
          "base_uri": "https://localhost:8080/",
          "height": 296
        },
        "id": "qIJbdtHYFDUT",
        "outputId": "69be6021-5a49-4654-9f82-4f99cdd042f5"
      },
      "source": [
        "import matplotlib.pyplot as plt \n",
        "\n",
        "y_pred = model_elu.predict(test_X)\n",
        "fig,ax = plt.subplots()\n",
        "plt.scatter(y_test, y_pred)\n",
        "ax.plot([y.min(), y.max()], [y.min(), y.max()], 'k--', lw = 4)\n",
        "plt.xlabel('True Values')\n",
        "plt.ylabel('Predictions')"
      ],
      "execution_count": 71,
      "outputs": [
        {
          "output_type": "execute_result",
          "data": {
            "text/plain": [
              "Text(0, 0.5, 'Predictions')"
            ]
          },
          "metadata": {},
          "execution_count": 71
        },
        {
          "output_type": "display_data",
          "data": {
            "image/png": "[encoded data removed]",
            "text/plain": [
              "<Figure size 432x288 with 1 Axes>"
            ]
          },
          "metadata": {
            "needs_background": "light"
          }
        }
      ]
    },
    {
      "cell_type": "code",
      "metadata": {
        "colab": {
          "base_uri": "https://localhost:8080/"
        },
        "id": "VYcFGANVW7UB",
        "outputId": "f8d0785b-a93a-43c9-a90e-30e8c9f1c938"
      },
      "source": [
        "y_pred.__len__()"
      ],
      "execution_count": 86,
      "outputs": [
        {
          "output_type": "execute_result",
          "data": {
            "text/plain": [
              "44376"
            ]
          },
          "metadata": {},
          "execution_count": 86
        }
      ]
    },
    {
      "cell_type": "markdown",
      "metadata": {
        "id": "dR4nVQ4PFh5o"
      },
      "source": [
        "# Observations:\n",
        "\n",
        "in ELU (exponential linear units) - (0-1)\n",
        "is known for speeding up the training process.it limits the -ve value in process. if we get large -ve value then ur entire neuron dies. so this model limits the -ve value and mostly lead to 0. \n",
        "\n",
        "taken = 0(col)(i/p layer) - 128(inner layer) - 64(inner layer) - 32(inner layer) - 16(inner alyer) - 8(inner layer) - 1(o/p) layer.\n",
        "\n",
        "    loss = [\"binary_crossentropy\"],\n",
        "    optimizer = \"sgd\",\n",
        "    metrics = ['accuracy']\n",
        "    epochs = 20, (any num as per size)\n",
        "    batch_size = 48.\n",
        "\n",
        "Here the result is Accuracy and loss afre pretty good."
      ]
    },
    {
      "cell_type": "markdown",
      "metadata": {
        "id": "2R18uPp-UKR_"
      },
      "source": [
        "MODEL_7 = Softmax"
      ]
    },
    {
      "cell_type": "code",
      "metadata": {
        "id": "wkC22fQDTqLM"
      },
      "source": [
        "from tensorflow.keras.models import Sequential\n",
        "\n",
        "model_Softmax = Sequential()\n",
        "# 30(col)(i/p layer) - 128(inner layer) - 64(inner layer) - 32(inner layer) - 16(inner alyer) - 8(inner layer) - 1(o/p) layer.\n",
        "model_Softmax.add(Dense(128, input_shape = (30,), activation = \"Softmax\"))\n",
        "model_Softmax.add(Dense(64, activation = \"Softmax\"))\n",
        "model_Softmax.add(Dense(32, activation = \"Softmax\"))\n",
        "model_Softmax.add(Dense(16, activation = \"Softmax\"))\n",
        "model_Softmax.add(Dense(8, activation = \"Softmax\"))\n",
        "model_Softmax.add(Dense(1, activation = \"Softmax\"))"
      ],
      "execution_count": 72,
      "outputs": []
    },
    {
      "cell_type": "code",
      "metadata": {
        "colab": {
          "base_uri": "https://localhost:8080/"
        },
        "id": "TMJ2bgSXTqOr",
        "outputId": "66c42d8b-393a-4a8b-9cc9-24b6d379f71a"
      },
      "source": [
        "model_Softmax.compile(loss = 'binary_crossentropy', optimizer = 'sgd', metrics = ['accuracy'])\n",
        "\n",
        "result_7 = model_Softmax.fit(train_X,y_train, epochs = 15, batch_size = 88, validation_data = (test_X, y_test))"
      ],
      "execution_count": 73,
      "outputs": [
        {
          "output_type": "stream",
          "name": "stdout",
          "text": [
            "Epoch 1/15\n",
            "2018/2018 [==============================] - 10s 5ms/step - loss: 15.2197 - accuracy: 0.0019 - val_loss: 15.2266 - val_accuracy: 0.0015\n",
            "Epoch 2/15\n",
            "2018/2018 [==============================] - 10s 5ms/step - loss: 15.2197 - accuracy: 0.0019 - val_loss: 15.2266 - val_accuracy: 0.0015\n",
            "Epoch 3/15\n",
            "2018/2018 [==============================] - 16s 8ms/step - loss: 15.2197 - accuracy: 0.0019 - val_loss: 15.2266 - val_accuracy: 0.0015\n",
            "Epoch 4/15\n",
            "2018/2018 [==============================] - 16s 8ms/step - loss: 15.2197 - accuracy: 0.0019 - val_loss: 15.2266 - val_accuracy: 0.0015\n",
            "Epoch 5/15\n",
            "2018/2018 [==============================] - 16s 8ms/step - loss: 15.2197 - accuracy: 0.0019 - val_loss: 15.2266 - val_accuracy: 0.0015\n",
            "Epoch 6/15\n",
            "2018/2018 [==============================] - 11s 5ms/step - loss: 15.2197 - accuracy: 0.0019 - val_loss: 15.2266 - val_accuracy: 0.0015\n",
            "Epoch 7/15\n",
            "2018/2018 [==============================] - 9s 4ms/step - loss: 15.2197 - accuracy: 0.0019 - val_loss: 15.2266 - val_accuracy: 0.0015\n",
            "Epoch 8/15\n",
            "2018/2018 [==============================] - 9s 4ms/step - loss: 15.2197 - accuracy: 0.0019 - val_loss: 15.2266 - val_accuracy: 0.0015\n",
            "Epoch 9/15\n",
            "2018/2018 [==============================] - 9s 4ms/step - loss: 15.2197 - accuracy: 0.0019 - val_loss: 15.2266 - val_accuracy: 0.0015\n",
            "Epoch 10/15\n",
            "2018/2018 [==============================] - 9s 4ms/step - loss: 15.2197 - accuracy: 0.0019 - val_loss: 15.2266 - val_accuracy: 0.0015\n",
            "Epoch 11/15\n",
            "2018/2018 [==============================] - 9s 4ms/step - loss: 15.2197 - accuracy: 0.0019 - val_loss: 15.2266 - val_accuracy: 0.0015\n",
            "Epoch 12/15\n",
            "2018/2018 [==============================] - 9s 4ms/step - loss: 15.2197 - accuracy: 0.0019 - val_loss: 15.2266 - val_accuracy: 0.0015\n",
            "Epoch 13/15\n",
            "2018/2018 [==============================] - 10s 5ms/step - loss: 15.2197 - accuracy: 0.0019 - val_loss: 15.2266 - val_accuracy: 0.0015\n",
            "Epoch 14/15\n",
            "2018/2018 [==============================] - 9s 4ms/step - loss: 15.2197 - accuracy: 0.0019 - val_loss: 15.2266 - val_accuracy: 0.0015\n",
            "Epoch 15/15\n",
            "2018/2018 [==============================] - 9s 4ms/step - loss: 15.2197 - accuracy: 0.0019 - val_loss: 15.2266 - val_accuracy: 0.0015\n"
          ]
        }
      ]
    },
    {
      "cell_type": "code",
      "metadata": {
        "colab": {
          "base_uri": "https://localhost:8080/"
        },
        "id": "Fy9iFwDWxEU6",
        "outputId": "0732fff6-a240-4a16-b462-8f95898c3a85"
      },
      "source": [
        "result_7.history"
      ],
      "execution_count": 74,
      "outputs": [
        {
          "output_type": "execute_result",
          "data": {
            "text/plain": [
              "{'accuracy': [0.0019323508022353053,\n",
              "  0.0019323508022353053,\n",
              "  0.0019323508022353053,\n",
              "  0.0019323508022353053,\n",
              "  0.0019323508022353053,\n",
              "  0.0019323508022353053,\n",
              "  0.0019323508022353053,\n",
              "  0.0019323508022353053,\n",
              "  0.0019323508022353053,\n",
              "  0.0019323508022353053,\n",
              "  0.0019323508022353053,\n",
              "  0.0019323508022353053,\n",
              "  0.0019323508022353053,\n",
              "  0.0019323508022353053,\n",
              "  0.0019323508022353053],\n",
              " 'loss': [15.219701766967773,\n",
              "  15.219701766967773,\n",
              "  15.219700813293457,\n",
              "  15.219701766967773,\n",
              "  15.219701766967773,\n",
              "  15.219701766967773,\n",
              "  15.219701766967773,\n",
              "  15.219701766967773,\n",
              "  15.219701766967773,\n",
              "  15.219701766967773,\n",
              "  15.219701766967773,\n",
              "  15.219701766967773,\n",
              "  15.219701766967773,\n",
              "  15.219701766967773,\n",
              "  15.219701766967773],\n",
              " 'val_accuracy': [0.0014872903702780604,\n",
              "  0.0014872903702780604,\n",
              "  0.0014872903702780604,\n",
              "  0.0014872903702780604,\n",
              "  0.0014872903702780604,\n",
              "  0.0014872903702780604,\n",
              "  0.0014872903702780604,\n",
              "  0.0014872903702780604,\n",
              "  0.0014872903702780604,\n",
              "  0.0014872903702780604,\n",
              "  0.0014872903702780604,\n",
              "  0.0014872903702780604,\n",
              "  0.0014872903702780604,\n",
              "  0.0014872903702780604,\n",
              "  0.0014872903702780604],\n",
              " 'val_loss': [15.226595878601074,\n",
              "  15.226595878601074,\n",
              "  15.226595878601074,\n",
              "  15.226595878601074,\n",
              "  15.226595878601074,\n",
              "  15.226595878601074,\n",
              "  15.226595878601074,\n",
              "  15.226595878601074,\n",
              "  15.226595878601074,\n",
              "  15.226595878601074,\n",
              "  15.226595878601074,\n",
              "  15.226595878601074,\n",
              "  15.226595878601074,\n",
              "  15.226595878601074,\n",
              "  15.226595878601074]}"
            ]
          },
          "metadata": {},
          "execution_count": 74
        }
      ]
    },
    {
      "cell_type": "code",
      "metadata": {
        "colab": {
          "base_uri": "https://localhost:8080/",
          "height": 298
        },
        "id": "MiCuDRMoxEiD",
        "outputId": "f3fef31c-4e34-49e9-f322-df9cf0ce8f6a"
      },
      "source": [
        "plt.plot(result_7.history['loss'], label = 'loss')\n",
        "plt.plot(result_7.history['val_loss'], label = 'val_loss')\n",
        "plt.legend()\n",
        "plt.title('Softmax')"
      ],
      "execution_count": 75,
      "outputs": [
        {
          "output_type": "execute_result",
          "data": {
            "text/plain": [
              "Text(0.5, 1.0, 'Softmax')"
            ]
          },
          "metadata": {},
          "execution_count": 75
        },
        {
          "output_type": "display_data",
          "data": {
            "image/png": "[encoded data removed]",
            "text/plain": [
              "<Figure size 432x288 with 1 Axes>"
            ]
          },
          "metadata": {
            "needs_background": "light"
          }
        }
      ]
    },
    {
      "cell_type": "code",
      "metadata": {
        "colab": {
          "base_uri": "https://localhost:8080/",
          "height": 298
        },
        "id": "gKLGZRn7xEoo",
        "outputId": "61e02765-95ba-4ed0-db67-209d4c33c3d9"
      },
      "source": [
        "plt.plot(result_7.history['accuracy'], label = 'accuracy')\n",
        "plt.plot(result_7.history['val_accuracy'], label = 'val_accuracy')\n",
        "plt.legend()\n",
        "plt.title('Softmax')"
      ],
      "execution_count": 76,
      "outputs": [
        {
          "output_type": "execute_result",
          "data": {
            "text/plain": [
              "Text(0.5, 1.0, 'Softmax')"
            ]
          },
          "metadata": {},
          "execution_count": 76
        },
        {
          "output_type": "display_data",
          "data": {
            "image/png": "[encoded data removed]",
            "text/plain": [
              "<Figure size 432x288 with 1 Axes>"
            ]
          },
          "metadata": {
            "needs_background": "light"
          }
        }
      ]
    },
    {
      "cell_type": "markdown",
      "metadata": {
        "id": "_lHaRE0BV9Op"
      },
      "source": [
        "# Observations:\n",
        "   Softmax = it is used for image classification.\n",
        "\n",
        "   Here only softmax used 30(col)(i/p layer) - 128(inner layer) - 64(inner layer) - 32(inner layer) - 16(inner alyer) - 8(inner layer) - 1(output layer).\n",
        "\n",
        "used = \n",
        "\n",
        "    loss = [\"binary_crossentropy\"],\n",
        "    optimizer = \"sgd\",\n",
        "    metrics = ['accuracy']\n",
        "    epochs = 20, (any num as per size)\n",
        "    batch_size = 88.\n",
        "\n",
        "As u see the result is quite less\n",
        " \n",
        "    loss is 15\n",
        "    Accuracy = 0.001"
      ]
    },
    {
      "cell_type": "code",
      "metadata": {
        "id": "N4XLbGWgTqSs"
      },
      "source": [
        ""
      ],
      "execution_count": null,
      "outputs": []
    },
    {
      "cell_type": "markdown",
      "metadata": {
        "id": "zAOMG-8XyPNL"
      },
      "source": [
        "# Overall Observations:\n",
        "\n",
        "performed models : \n",
        "\n",
        "      1. Relu with Sigmoid\n",
        "      2. Relu with Softmax\n",
        "      3. LeakyRelu with sigmoid\n",
        "      4. sigmoid with softmax\n",
        "      5. Sigmoid\n",
        "      6. elu.\n",
        "      7. Softmax\n",
        "\n",
        "Start with relu when we use relu with sigmoid in output layer then the result is quite good , got acc is high and loss is also less. But when relu is uesd with Softmax in output layer tehn result is not that good compared to above one here got accuracy us aslo less and loss is also less.\n",
        "\n",
        "Leaky relu is mainly used to overcome the disadvantage of relu convcept. here teh result is also quite good.\n",
        "\n",
        "Sigmoid is also called as logistic func as we know the range is (0,1) as we used softmax in output layer then result is not as good here is also the accuracy is less and losss is also less.\n",
        "\n",
        "When u use Softmax in output layer or only softmax overall then also the output will be like accuracy is less & loss is high.\n"
      ]
    },
    {
      "cell_type": "code",
      "metadata": {
        "id": "s3W2mtYS8zvk"
      },
      "source": [
        ""
      ],
      "execution_count": null,
      "outputs": []
    }
  ]
}