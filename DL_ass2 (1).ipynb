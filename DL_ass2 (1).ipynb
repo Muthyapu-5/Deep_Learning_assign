{
  "nbformat": 4,
  "nbformat_minor": 0,
  "metadata": {
    "accelerator": "GPU",
    "colab": {
      "name": "DL_ass2.ipynb",
      "provenance": [],
      "collapsed_sections": []
    },
    "kernelspec": {
      "display_name": "Python 3",
      "name": "python3"
    },
    "language_info": {
      "name": "python"
    }
  },
  "cells": [
    {
      "cell_type": "code",
      "metadata": {
        "id": "JGQSI3gHp3cc"
      },
      "source": [
        "import tensorflow as tf\n",
        "import numpy as np\n",
        "import pandas as pd\n",
        "import scipy as sc\n",
        "import math\n",
        "import matplotlib.pyplot as plt\n",
        "import seaborn as sns"
      ],
      "execution_count": 1,
      "outputs": []
    },
    {
      "cell_type": "markdown",
      "metadata": {
        "id": "5TZTXnI06mZD"
      },
      "source": [
        "1.Load the dataset"
      ]
    },
    {
      "cell_type": "code",
      "metadata": {
        "colab": {
          "base_uri": "https://localhost:8080/",
          "height": 419
        },
        "id": "-A5OmR6Kp_eb",
        "outputId": "e0a417f4-e618-42b9-8be3-7a4416791be1"
      },
      "source": [
        "data = pd.read_csv('/content/drive/MyDrive/Colab Notebooks/diamonds.csv')\n",
        "data"
      ],
      "execution_count": 2,
      "outputs": [
        {
          "output_type": "execute_result",
          "data": {
            "text/html": [
              "<div>\n",
              "<style scoped>\n",
              "    .dataframe tbody tr th:only-of-type {\n",
              "        vertical-align: middle;\n",
              "    }\n",
              "\n",
              "    .dataframe tbody tr th {\n",
              "        vertical-align: top;\n",
              "    }\n",
              "\n",
              "    .dataframe thead th {\n",
              "        text-align: right;\n",
              "    }\n",
              "</style>\n",
              "<table border=\"1\" class=\"dataframe\">\n",
              "  <thead>\n",
              "    <tr style=\"text-align: right;\">\n",
              "      <th></th>\n",
              "      <th>Unnamed: 0</th>\n",
              "      <th>carat</th>\n",
              "      <th>cut</th>\n",
              "      <th>color</th>\n",
              "      <th>clarity</th>\n",
              "      <th>depth</th>\n",
              "      <th>table</th>\n",
              "      <th>price</th>\n",
              "      <th>x</th>\n",
              "      <th>y</th>\n",
              "      <th>z</th>\n",
              "    </tr>\n",
              "  </thead>\n",
              "  <tbody>\n",
              "    <tr>\n",
              "      <th>0</th>\n",
              "      <td>1</td>\n",
              "      <td>0.23</td>\n",
              "      <td>Ideal</td>\n",
              "      <td>E</td>\n",
              "      <td>SI2</td>\n",
              "      <td>61.5</td>\n",
              "      <td>55.0</td>\n",
              "      <td>326</td>\n",
              "      <td>3.95</td>\n",
              "      <td>3.98</td>\n",
              "      <td>2.43</td>\n",
              "    </tr>\n",
              "    <tr>\n",
              "      <th>1</th>\n",
              "      <td>2</td>\n",
              "      <td>0.21</td>\n",
              "      <td>Premium</td>\n",
              "      <td>E</td>\n",
              "      <td>SI1</td>\n",
              "      <td>59.8</td>\n",
              "      <td>61.0</td>\n",
              "      <td>326</td>\n",
              "      <td>3.89</td>\n",
              "      <td>3.84</td>\n",
              "      <td>2.31</td>\n",
              "    </tr>\n",
              "    <tr>\n",
              "      <th>2</th>\n",
              "      <td>3</td>\n",
              "      <td>0.23</td>\n",
              "      <td>Good</td>\n",
              "      <td>E</td>\n",
              "      <td>VS1</td>\n",
              "      <td>56.9</td>\n",
              "      <td>65.0</td>\n",
              "      <td>327</td>\n",
              "      <td>4.05</td>\n",
              "      <td>4.07</td>\n",
              "      <td>2.31</td>\n",
              "    </tr>\n",
              "    <tr>\n",
              "      <th>3</th>\n",
              "      <td>4</td>\n",
              "      <td>0.29</td>\n",
              "      <td>Premium</td>\n",
              "      <td>I</td>\n",
              "      <td>VS2</td>\n",
              "      <td>62.4</td>\n",
              "      <td>58.0</td>\n",
              "      <td>334</td>\n",
              "      <td>4.20</td>\n",
              "      <td>4.23</td>\n",
              "      <td>2.63</td>\n",
              "    </tr>\n",
              "    <tr>\n",
              "      <th>4</th>\n",
              "      <td>5</td>\n",
              "      <td>0.31</td>\n",
              "      <td>Good</td>\n",
              "      <td>J</td>\n",
              "      <td>SI2</td>\n",
              "      <td>63.3</td>\n",
              "      <td>58.0</td>\n",
              "      <td>335</td>\n",
              "      <td>4.34</td>\n",
              "      <td>4.35</td>\n",
              "      <td>2.75</td>\n",
              "    </tr>\n",
              "    <tr>\n",
              "      <th>...</th>\n",
              "      <td>...</td>\n",
              "      <td>...</td>\n",
              "      <td>...</td>\n",
              "      <td>...</td>\n",
              "      <td>...</td>\n",
              "      <td>...</td>\n",
              "      <td>...</td>\n",
              "      <td>...</td>\n",
              "      <td>...</td>\n",
              "      <td>...</td>\n",
              "      <td>...</td>\n",
              "    </tr>\n",
              "    <tr>\n",
              "      <th>53935</th>\n",
              "      <td>53936</td>\n",
              "      <td>0.72</td>\n",
              "      <td>Ideal</td>\n",
              "      <td>D</td>\n",
              "      <td>SI1</td>\n",
              "      <td>60.8</td>\n",
              "      <td>57.0</td>\n",
              "      <td>2757</td>\n",
              "      <td>5.75</td>\n",
              "      <td>5.76</td>\n",
              "      <td>3.50</td>\n",
              "    </tr>\n",
              "    <tr>\n",
              "      <th>53936</th>\n",
              "      <td>53937</td>\n",
              "      <td>0.72</td>\n",
              "      <td>Good</td>\n",
              "      <td>D</td>\n",
              "      <td>SI1</td>\n",
              "      <td>63.1</td>\n",
              "      <td>55.0</td>\n",
              "      <td>2757</td>\n",
              "      <td>5.69</td>\n",
              "      <td>5.75</td>\n",
              "      <td>3.61</td>\n",
              "    </tr>\n",
              "    <tr>\n",
              "      <th>53937</th>\n",
              "      <td>53938</td>\n",
              "      <td>0.70</td>\n",
              "      <td>Very Good</td>\n",
              "      <td>D</td>\n",
              "      <td>SI1</td>\n",
              "      <td>62.8</td>\n",
              "      <td>60.0</td>\n",
              "      <td>2757</td>\n",
              "      <td>5.66</td>\n",
              "      <td>5.68</td>\n",
              "      <td>3.56</td>\n",
              "    </tr>\n",
              "    <tr>\n",
              "      <th>53938</th>\n",
              "      <td>53939</td>\n",
              "      <td>0.86</td>\n",
              "      <td>Premium</td>\n",
              "      <td>H</td>\n",
              "      <td>SI2</td>\n",
              "      <td>61.0</td>\n",
              "      <td>58.0</td>\n",
              "      <td>2757</td>\n",
              "      <td>6.15</td>\n",
              "      <td>6.12</td>\n",
              "      <td>3.74</td>\n",
              "    </tr>\n",
              "    <tr>\n",
              "      <th>53939</th>\n",
              "      <td>53940</td>\n",
              "      <td>0.75</td>\n",
              "      <td>Ideal</td>\n",
              "      <td>D</td>\n",
              "      <td>SI2</td>\n",
              "      <td>62.2</td>\n",
              "      <td>55.0</td>\n",
              "      <td>2757</td>\n",
              "      <td>5.83</td>\n",
              "      <td>5.87</td>\n",
              "      <td>3.64</td>\n",
              "    </tr>\n",
              "  </tbody>\n",
              "</table>\n",
              "<p>53940 rows × 11 columns</p>\n",
              "</div>"
            ],
            "text/plain": [
              "       Unnamed: 0  carat        cut color  ... price     x     y     z\n",
              "0               1   0.23      Ideal     E  ...   326  3.95  3.98  2.43\n",
              "1               2   0.21    Premium     E  ...   326  3.89  3.84  2.31\n",
              "2               3   0.23       Good     E  ...   327  4.05  4.07  2.31\n",
              "3               4   0.29    Premium     I  ...   334  4.20  4.23  2.63\n",
              "4               5   0.31       Good     J  ...   335  4.34  4.35  2.75\n",
              "...           ...    ...        ...   ...  ...   ...   ...   ...   ...\n",
              "53935       53936   0.72      Ideal     D  ...  2757  5.75  5.76  3.50\n",
              "53936       53937   0.72       Good     D  ...  2757  5.69  5.75  3.61\n",
              "53937       53938   0.70  Very Good     D  ...  2757  5.66  5.68  3.56\n",
              "53938       53939   0.86    Premium     H  ...  2757  6.15  6.12  3.74\n",
              "53939       53940   0.75      Ideal     D  ...  2757  5.83  5.87  3.64\n",
              "\n",
              "[53940 rows x 11 columns]"
            ]
          },
          "metadata": {},
          "execution_count": 2
        }
      ]
    },
    {
      "cell_type": "markdown",
      "metadata": {
        "id": "Ys30Yq5b6tUM"
      },
      "source": [
        "# 2.Preprocessing.\n",
        "    a) Print the first 5 rows of the dataset\n",
        "    b) Check the features in the dataset\n",
        "    c) Check the missing values\n",
        "    d) Check the numerical features in the dataset \n",
        "    e) Check the distribution of categorical columns"
      ]
    },
    {
      "cell_type": "code",
      "metadata": {
        "colab": {
          "base_uri": "https://localhost:8080/",
          "height": 204
        },
        "id": "kiSwlhMnqLZF",
        "outputId": "670ee84e-cfda-4af6-f87d-3650127a04d6"
      },
      "source": [
        "data.head()"
      ],
      "execution_count": 3,
      "outputs": [
        {
          "output_type": "execute_result",
          "data": {
            "text/html": [
              "<div>\n",
              "<style scoped>\n",
              "    .dataframe tbody tr th:only-of-type {\n",
              "        vertical-align: middle;\n",
              "    }\n",
              "\n",
              "    .dataframe tbody tr th {\n",
              "        vertical-align: top;\n",
              "    }\n",
              "\n",
              "    .dataframe thead th {\n",
              "        text-align: right;\n",
              "    }\n",
              "</style>\n",
              "<table border=\"1\" class=\"dataframe\">\n",
              "  <thead>\n",
              "    <tr style=\"text-align: right;\">\n",
              "      <th></th>\n",
              "      <th>Unnamed: 0</th>\n",
              "      <th>carat</th>\n",
              "      <th>cut</th>\n",
              "      <th>color</th>\n",
              "      <th>clarity</th>\n",
              "      <th>depth</th>\n",
              "      <th>table</th>\n",
              "      <th>price</th>\n",
              "      <th>x</th>\n",
              "      <th>y</th>\n",
              "      <th>z</th>\n",
              "    </tr>\n",
              "  </thead>\n",
              "  <tbody>\n",
              "    <tr>\n",
              "      <th>0</th>\n",
              "      <td>1</td>\n",
              "      <td>0.23</td>\n",
              "      <td>Ideal</td>\n",
              "      <td>E</td>\n",
              "      <td>SI2</td>\n",
              "      <td>61.5</td>\n",
              "      <td>55.0</td>\n",
              "      <td>326</td>\n",
              "      <td>3.95</td>\n",
              "      <td>3.98</td>\n",
              "      <td>2.43</td>\n",
              "    </tr>\n",
              "    <tr>\n",
              "      <th>1</th>\n",
              "      <td>2</td>\n",
              "      <td>0.21</td>\n",
              "      <td>Premium</td>\n",
              "      <td>E</td>\n",
              "      <td>SI1</td>\n",
              "      <td>59.8</td>\n",
              "      <td>61.0</td>\n",
              "      <td>326</td>\n",
              "      <td>3.89</td>\n",
              "      <td>3.84</td>\n",
              "      <td>2.31</td>\n",
              "    </tr>\n",
              "    <tr>\n",
              "      <th>2</th>\n",
              "      <td>3</td>\n",
              "      <td>0.23</td>\n",
              "      <td>Good</td>\n",
              "      <td>E</td>\n",
              "      <td>VS1</td>\n",
              "      <td>56.9</td>\n",
              "      <td>65.0</td>\n",
              "      <td>327</td>\n",
              "      <td>4.05</td>\n",
              "      <td>4.07</td>\n",
              "      <td>2.31</td>\n",
              "    </tr>\n",
              "    <tr>\n",
              "      <th>3</th>\n",
              "      <td>4</td>\n",
              "      <td>0.29</td>\n",
              "      <td>Premium</td>\n",
              "      <td>I</td>\n",
              "      <td>VS2</td>\n",
              "      <td>62.4</td>\n",
              "      <td>58.0</td>\n",
              "      <td>334</td>\n",
              "      <td>4.20</td>\n",
              "      <td>4.23</td>\n",
              "      <td>2.63</td>\n",
              "    </tr>\n",
              "    <tr>\n",
              "      <th>4</th>\n",
              "      <td>5</td>\n",
              "      <td>0.31</td>\n",
              "      <td>Good</td>\n",
              "      <td>J</td>\n",
              "      <td>SI2</td>\n",
              "      <td>63.3</td>\n",
              "      <td>58.0</td>\n",
              "      <td>335</td>\n",
              "      <td>4.34</td>\n",
              "      <td>4.35</td>\n",
              "      <td>2.75</td>\n",
              "    </tr>\n",
              "  </tbody>\n",
              "</table>\n",
              "</div>"
            ],
            "text/plain": [
              "   Unnamed: 0  carat      cut color clarity  ...  table  price     x     y     z\n",
              "0           1   0.23    Ideal     E     SI2  ...   55.0    326  3.95  3.98  2.43\n",
              "1           2   0.21  Premium     E     SI1  ...   61.0    326  3.89  3.84  2.31\n",
              "2           3   0.23     Good     E     VS1  ...   65.0    327  4.05  4.07  2.31\n",
              "3           4   0.29  Premium     I     VS2  ...   58.0    334  4.20  4.23  2.63\n",
              "4           5   0.31     Good     J     SI2  ...   58.0    335  4.34  4.35  2.75\n",
              "\n",
              "[5 rows x 11 columns]"
            ]
          },
          "metadata": {},
          "execution_count": 3
        }
      ]
    },
    {
      "cell_type": "code",
      "metadata": {
        "colab": {
          "base_uri": "https://localhost:8080/"
        },
        "id": "fNDsbgeDqxJ6",
        "outputId": "6c8081b4-fcdb-4b05-87d2-b7ed4da889a0"
      },
      "source": [
        "data.info()"
      ],
      "execution_count": 4,
      "outputs": [
        {
          "output_type": "stream",
          "name": "stdout",
          "text": [
            "<class 'pandas.core.frame.DataFrame'>\n",
            "RangeIndex: 53940 entries, 0 to 53939\n",
            "Data columns (total 11 columns):\n",
            " #   Column      Non-Null Count  Dtype  \n",
            "---  ------      --------------  -----  \n",
            " 0   Unnamed: 0  53940 non-null  int64  \n",
            " 1   carat       53940 non-null  float64\n",
            " 2   cut         53940 non-null  object \n",
            " 3   color       53940 non-null  object \n",
            " 4   clarity     53940 non-null  object \n",
            " 5   depth       53940 non-null  float64\n",
            " 6   table       53940 non-null  float64\n",
            " 7   price       53940 non-null  int64  \n",
            " 8   x           53940 non-null  float64\n",
            " 9   y           53940 non-null  float64\n",
            " 10  z           53940 non-null  float64\n",
            "dtypes: float64(6), int64(2), object(3)\n",
            "memory usage: 4.5+ MB\n"
          ]
        }
      ]
    },
    {
      "cell_type": "markdown",
      "metadata": {
        "id": "OAZfmUo0cRlA"
      },
      "source": [
        "c) Check the missing values\n"
      ]
    },
    {
      "cell_type": "code",
      "metadata": {
        "colab": {
          "base_uri": "https://localhost:8080/"
        },
        "id": "vsIaaF64qQcw",
        "outputId": "6ad26cfc-27cf-4410-d970-82087170f189"
      },
      "source": [
        "data.isnull().sum().sum()"
      ],
      "execution_count": 5,
      "outputs": [
        {
          "output_type": "execute_result",
          "data": {
            "text/plain": [
              "0"
            ]
          },
          "metadata": {},
          "execution_count": 5
        }
      ]
    },
    {
      "cell_type": "code",
      "metadata": {
        "colab": {
          "base_uri": "https://localhost:8080/"
        },
        "id": "CarFeSdD8-ra",
        "outputId": "88706c88-2c9e-4dde-d63f-49a2a0704286"
      },
      "source": [
        "data.columns"
      ],
      "execution_count": 6,
      "outputs": [
        {
          "output_type": "execute_result",
          "data": {
            "text/plain": [
              "Index(['Unnamed: 0', 'carat', 'cut', 'color', 'clarity', 'depth', 'table',\n",
              "       'price', 'x', 'y', 'z'],\n",
              "      dtype='object')"
            ]
          },
          "metadata": {},
          "execution_count": 6
        }
      ]
    },
    {
      "cell_type": "code",
      "metadata": {
        "id": "OP4H3k205UcT"
      },
      "source": [
        "# dropping unwanted col.\n",
        "\n",
        "data.drop(['Unnamed: 0'],axis=1,inplace=True)"
      ],
      "execution_count": 7,
      "outputs": []
    },
    {
      "cell_type": "code",
      "metadata": {
        "colab": {
          "base_uri": "https://localhost:8080/"
        },
        "id": "xAP3P5jz61s6",
        "outputId": "ab312058-87a1-49e3-b2b1-5f751046e147"
      },
      "source": [
        "data.shape"
      ],
      "execution_count": 8,
      "outputs": [
        {
          "output_type": "execute_result",
          "data": {
            "text/plain": [
              "(53940, 10)"
            ]
          },
          "metadata": {},
          "execution_count": 8
        }
      ]
    },
    {
      "cell_type": "code",
      "metadata": {
        "colab": {
          "base_uri": "https://localhost:8080/",
          "height": 297
        },
        "id": "WCGukQsG5Rsn",
        "outputId": "6a923843-5656-4f49-ef65-5b6a5ab669cc"
      },
      "source": [
        "data.describe()"
      ],
      "execution_count": 9,
      "outputs": [
        {
          "output_type": "execute_result",
          "data": {
            "text/html": [
              "<div>\n",
              "<style scoped>\n",
              "    .dataframe tbody tr th:only-of-type {\n",
              "        vertical-align: middle;\n",
              "    }\n",
              "\n",
              "    .dataframe tbody tr th {\n",
              "        vertical-align: top;\n",
              "    }\n",
              "\n",
              "    .dataframe thead th {\n",
              "        text-align: right;\n",
              "    }\n",
              "</style>\n",
              "<table border=\"1\" class=\"dataframe\">\n",
              "  <thead>\n",
              "    <tr style=\"text-align: right;\">\n",
              "      <th></th>\n",
              "      <th>carat</th>\n",
              "      <th>depth</th>\n",
              "      <th>table</th>\n",
              "      <th>price</th>\n",
              "      <th>x</th>\n",
              "      <th>y</th>\n",
              "      <th>z</th>\n",
              "    </tr>\n",
              "  </thead>\n",
              "  <tbody>\n",
              "    <tr>\n",
              "      <th>count</th>\n",
              "      <td>53940.000000</td>\n",
              "      <td>53940.000000</td>\n",
              "      <td>53940.000000</td>\n",
              "      <td>53940.000000</td>\n",
              "      <td>53940.000000</td>\n",
              "      <td>53940.000000</td>\n",
              "      <td>53940.000000</td>\n",
              "    </tr>\n",
              "    <tr>\n",
              "      <th>mean</th>\n",
              "      <td>0.797940</td>\n",
              "      <td>61.749405</td>\n",
              "      <td>57.457184</td>\n",
              "      <td>3932.799722</td>\n",
              "      <td>5.731157</td>\n",
              "      <td>5.734526</td>\n",
              "      <td>3.538734</td>\n",
              "    </tr>\n",
              "    <tr>\n",
              "      <th>std</th>\n",
              "      <td>0.474011</td>\n",
              "      <td>1.432621</td>\n",
              "      <td>2.234491</td>\n",
              "      <td>3989.439738</td>\n",
              "      <td>1.121761</td>\n",
              "      <td>1.142135</td>\n",
              "      <td>0.705699</td>\n",
              "    </tr>\n",
              "    <tr>\n",
              "      <th>min</th>\n",
              "      <td>0.200000</td>\n",
              "      <td>43.000000</td>\n",
              "      <td>43.000000</td>\n",
              "      <td>326.000000</td>\n",
              "      <td>0.000000</td>\n",
              "      <td>0.000000</td>\n",
              "      <td>0.000000</td>\n",
              "    </tr>\n",
              "    <tr>\n",
              "      <th>25%</th>\n",
              "      <td>0.400000</td>\n",
              "      <td>61.000000</td>\n",
              "      <td>56.000000</td>\n",
              "      <td>950.000000</td>\n",
              "      <td>4.710000</td>\n",
              "      <td>4.720000</td>\n",
              "      <td>2.910000</td>\n",
              "    </tr>\n",
              "    <tr>\n",
              "      <th>50%</th>\n",
              "      <td>0.700000</td>\n",
              "      <td>61.800000</td>\n",
              "      <td>57.000000</td>\n",
              "      <td>2401.000000</td>\n",
              "      <td>5.700000</td>\n",
              "      <td>5.710000</td>\n",
              "      <td>3.530000</td>\n",
              "    </tr>\n",
              "    <tr>\n",
              "      <th>75%</th>\n",
              "      <td>1.040000</td>\n",
              "      <td>62.500000</td>\n",
              "      <td>59.000000</td>\n",
              "      <td>5324.250000</td>\n",
              "      <td>6.540000</td>\n",
              "      <td>6.540000</td>\n",
              "      <td>4.040000</td>\n",
              "    </tr>\n",
              "    <tr>\n",
              "      <th>max</th>\n",
              "      <td>5.010000</td>\n",
              "      <td>79.000000</td>\n",
              "      <td>95.000000</td>\n",
              "      <td>18823.000000</td>\n",
              "      <td>10.740000</td>\n",
              "      <td>58.900000</td>\n",
              "      <td>31.800000</td>\n",
              "    </tr>\n",
              "  </tbody>\n",
              "</table>\n",
              "</div>"
            ],
            "text/plain": [
              "              carat         depth  ...             y             z\n",
              "count  53940.000000  53940.000000  ...  53940.000000  53940.000000\n",
              "mean       0.797940     61.749405  ...      5.734526      3.538734\n",
              "std        0.474011      1.432621  ...      1.142135      0.705699\n",
              "min        0.200000     43.000000  ...      0.000000      0.000000\n",
              "25%        0.400000     61.000000  ...      4.720000      2.910000\n",
              "50%        0.700000     61.800000  ...      5.710000      3.530000\n",
              "75%        1.040000     62.500000  ...      6.540000      4.040000\n",
              "max        5.010000     79.000000  ...     58.900000     31.800000\n",
              "\n",
              "[8 rows x 7 columns]"
            ]
          },
          "metadata": {},
          "execution_count": 9
        }
      ]
    },
    {
      "cell_type": "markdown",
      "metadata": {
        "id": "afjz2kgRcXC7"
      },
      "source": [
        "d) Check the numerical features in the dataset \n",
        "\n",
        "e) Check the distribution of categorical columns"
      ]
    },
    {
      "cell_type": "code",
      "metadata": {
        "colab": {
          "base_uri": "https://localhost:8080/"
        },
        "id": "SvNN8dIe61wn",
        "outputId": "9a6b272a-242a-46a6-d789-0120e4773965"
      },
      "source": [
        "# Categorical_columns values in the DataFrame\n",
        "Categorical_column = data.columns[(data.dtypes == 'object').values]\n",
        "print('Categorical_column : ')\n",
        "print(Categorical_column)\n",
        "\n",
        "print('')\n",
        "\n",
        "#Numerical_columns values in the DataFrame\n",
        "Numerical_column = data.columns[(data.dtypes !='object').values]\n",
        "print('Numerical_column :' )\n",
        "print(Numerical_column)"
      ],
      "execution_count": 10,
      "outputs": [
        {
          "output_type": "stream",
          "name": "stdout",
          "text": [
            "Categorical_column : \n",
            "Index(['cut', 'color', 'clarity'], dtype='object')\n",
            "\n",
            "Numerical_column :\n",
            "Index(['carat', 'depth', 'table', 'price', 'x', 'y', 'z'], dtype='object')\n"
          ]
        }
      ]
    },
    {
      "cell_type": "code",
      "metadata": {
        "colab": {
          "base_uri": "https://localhost:8080/"
        },
        "id": "OBqCobPJXQ9t",
        "outputId": "bade24e9-16ba-4a3f-a4cd-975dac315607"
      },
      "source": [
        "data.info()"
      ],
      "execution_count": 11,
      "outputs": [
        {
          "output_type": "stream",
          "name": "stdout",
          "text": [
            "<class 'pandas.core.frame.DataFrame'>\n",
            "RangeIndex: 53940 entries, 0 to 53939\n",
            "Data columns (total 10 columns):\n",
            " #   Column   Non-Null Count  Dtype  \n",
            "---  ------   --------------  -----  \n",
            " 0   carat    53940 non-null  float64\n",
            " 1   cut      53940 non-null  object \n",
            " 2   color    53940 non-null  object \n",
            " 3   clarity  53940 non-null  object \n",
            " 4   depth    53940 non-null  float64\n",
            " 5   table    53940 non-null  float64\n",
            " 6   price    53940 non-null  int64  \n",
            " 7   x        53940 non-null  float64\n",
            " 8   y        53940 non-null  float64\n",
            " 9   z        53940 non-null  float64\n",
            "dtypes: float64(6), int64(1), object(3)\n",
            "memory usage: 4.1+ MB\n"
          ]
        }
      ]
    },
    {
      "cell_type": "markdown",
      "metadata": {
        "id": "KlA7DauFiRiR"
      },
      "source": [
        "cut quality of the cut (Fair, Good, Very Good, Premium, Ideal)\n",
        "\n",
        "colour diamond colour, from J (worst) to D (best)\n",
        "\n",
        "clarity a measurement of how clear the diamond is (I1 (worst), SI2, SI1, VS2, VS1, VVS2, VVS1, IF (best))"
      ]
    },
    {
      "cell_type": "code",
      "metadata": {
        "colab": {
          "base_uri": "https://localhost:8080/",
          "height": 381
        },
        "id": "-4iELy9MY-t4",
        "outputId": "a08f6fb1-09fe-4808-ab6d-d4a2d6b20aef"
      },
      "source": [
        "sns.countplot(x = 'cut' , data = data)\n",
        "\n",
        "data['cut'].value_counts()"
      ],
      "execution_count": 12,
      "outputs": [
        {
          "output_type": "execute_result",
          "data": {
            "text/plain": [
              "Ideal        21551\n",
              "Premium      13791\n",
              "Very Good    12082\n",
              "Good          4906\n",
              "Fair          1610\n",
              "Name: cut, dtype: int64"
            ]
          },
          "metadata": {},
          "execution_count": 12
        },
        {
          "output_type": "display_data",
          "data": {
            "image/png": "[encoded data removed]",
            "text/plain": [
              "<Figure size 432x288 with 1 Axes>"
            ]
          },
          "metadata": {
            "needs_background": "light"
          }
        }
      ]
    },
    {
      "cell_type": "code",
      "metadata": {
        "colab": {
          "base_uri": "https://localhost:8080/",
          "height": 415
        },
        "id": "9PESnKIybtTB",
        "outputId": "2fcd13fc-0d5c-4d1a-a0ab-ce257d509338"
      },
      "source": [
        "sns.countplot(x = 'color' , data = data)\n",
        "\n",
        "data['color'].value_counts()"
      ],
      "execution_count": 13,
      "outputs": [
        {
          "output_type": "execute_result",
          "data": {
            "text/plain": [
              "G    11292\n",
              "E     9797\n",
              "F     9542\n",
              "H     8304\n",
              "D     6775\n",
              "I     5422\n",
              "J     2808\n",
              "Name: color, dtype: int64"
            ]
          },
          "metadata": {},
          "execution_count": 13
        },
        {
          "output_type": "display_data",
          "data": {
            "image/png": "[encoded data removed]",
            "text/plain": [
              "<Figure size 432x288 with 1 Axes>"
            ]
          },
          "metadata": {
            "needs_background": "light"
          }
        }
      ]
    },
    {
      "cell_type": "code",
      "metadata": {
        "colab": {
          "base_uri": "https://localhost:8080/",
          "height": 432
        },
        "id": "PXOuQ48AY-wr",
        "outputId": "251e9202-d355-4de5-e766-32b002c32f4a"
      },
      "source": [
        "sns.countplot(x = 'clarity' , data = data)\n",
        "\n",
        "data['clarity'].value_counts()"
      ],
      "execution_count": 14,
      "outputs": [
        {
          "output_type": "execute_result",
          "data": {
            "text/plain": [
              "SI1     13065\n",
              "VS2     12258\n",
              "SI2      9194\n",
              "VS1      8171\n",
              "VVS2     5066\n",
              "VVS1     3655\n",
              "IF       1790\n",
              "I1        741\n",
              "Name: clarity, dtype: int64"
            ]
          },
          "metadata": {},
          "execution_count": 14
        },
        {
          "output_type": "display_data",
          "data": {
            "image/png": "[encoded data removed]",
            "text/plain": [
              "<Figure size 432x288 with 1 Axes>"
            ]
          },
          "metadata": {
            "needs_background": "light"
          }
        }
      ]
    },
    {
      "cell_type": "code",
      "metadata": {
        "colab": {
          "base_uri": "https://localhost:8080/"
        },
        "id": "8YVLADiOga7Y",
        "outputId": "2f3e5b06-a2ea-436a-df9c-1688bda87f9e"
      },
      "source": [
        "print(\"Number of Unique values in the Column wise\")\n",
        "for i in Categorical_column:\n",
        "    print(\"\"+str(i)+\" - \",data[''+str(i)+''].nunique())#,data[''+str(i)+''].unique()"
      ],
      "execution_count": 15,
      "outputs": [
        {
          "output_type": "stream",
          "name": "stdout",
          "text": [
            "Number of Unique values in the Column wise\n",
            "cut -  5\n",
            "color -  7\n",
            "clarity -  8\n"
          ]
        }
      ]
    },
    {
      "cell_type": "markdown",
      "metadata": {
        "id": "KX-AxBxg62cy"
      },
      "source": [
        "3.Seperate features and Labels"
      ]
    },
    {
      "cell_type": "markdown",
      "metadata": {
        "id": "p3OpqwI_fSjJ"
      },
      "source": [
        "# Label Encoding"
      ]
    },
    {
      "cell_type": "code",
      "metadata": {
        "colab": {
          "base_uri": "https://localhost:8080/"
        },
        "id": "2wev5wOdc0zg",
        "outputId": "c4318520-c4dc-4f3b-d248-e8afedb2fc62"
      },
      "source": [
        "# Encoding the categorical features\n",
        "\n",
        "from sklearn.preprocessing import LabelEncoder\n",
        "LE = LabelEncoder()\n",
        "\n",
        "data['cut'] = LE.fit_transform(data['cut'])\n",
        "data['color'] = LE.fit_transform(data['color'])\n",
        "data['clarity'] = LE.fit_transform(data['clarity'])\n",
        "\n",
        "data.info()"
      ],
      "execution_count": 16,
      "outputs": [
        {
          "output_type": "stream",
          "name": "stdout",
          "text": [
            "<class 'pandas.core.frame.DataFrame'>\n",
            "RangeIndex: 53940 entries, 0 to 53939\n",
            "Data columns (total 10 columns):\n",
            " #   Column   Non-Null Count  Dtype  \n",
            "---  ------   --------------  -----  \n",
            " 0   carat    53940 non-null  float64\n",
            " 1   cut      53940 non-null  int64  \n",
            " 2   color    53940 non-null  int64  \n",
            " 3   clarity  53940 non-null  int64  \n",
            " 4   depth    53940 non-null  float64\n",
            " 5   table    53940 non-null  float64\n",
            " 6   price    53940 non-null  int64  \n",
            " 7   x        53940 non-null  float64\n",
            " 8   y        53940 non-null  float64\n",
            " 9   z        53940 non-null  float64\n",
            "dtypes: float64(6), int64(4)\n",
            "memory usage: 4.1 MB\n"
          ]
        }
      ]
    },
    {
      "cell_type": "code",
      "metadata": {
        "id": "zDWkxlxbgu1w"
      },
      "source": [
        "cols = ['carat', 'cut', 'color', 'clarity', 'depth', 'table', 'x', 'y', 'z']"
      ],
      "execution_count": 17,
      "outputs": []
    },
    {
      "cell_type": "markdown",
      "metadata": {
        "id": "1FogM7xk66Su"
      },
      "source": [
        "4.Split the dataset to train and test"
      ]
    },
    {
      "cell_type": "code",
      "metadata": {
        "id": "P4Feo7f663or"
      },
      "source": [
        "# Features selection \n",
        "\n",
        "X = data[cols]\n",
        "y = data['price']\n",
        "\n",
        "from sklearn.model_selection import train_test_split\n",
        "\n",
        "# Split and Fit model\n",
        "X_train,X_test,y_train,y_test = train_test_split(X,y,test_size=0.20,random_state=44)"
      ],
      "execution_count": 18,
      "outputs": []
    },
    {
      "cell_type": "code",
      "metadata": {
        "colab": {
          "base_uri": "https://localhost:8080/"
        },
        "id": "p4H49vXOfPRh",
        "outputId": "623eeea3-53c6-49c4-8f57-81a9d74b4c90"
      },
      "source": [
        "print(\"data_columns: \",len(data.columns))\n",
        "print(\"len_data:\",len(data))\n",
        "\n",
        "print('X: ', len(X))\n",
        "print(\"X.shape :\", X.shape)\n",
        "\n",
        "print('y: ', len(y))\n",
        "print(\"y.shape :\", y.shape)\n",
        "                \n",
        "print('')\n",
        "\n",
        "print('X_TRAIN : ',X_train.shape)\n",
        "print('y_TRAIN : ',y_train.shape)\n",
        "print('X_test : ',X_test.shape)\n",
        "print('y_test : ',y_test.shape)"
      ],
      "execution_count": 19,
      "outputs": [
        {
          "output_type": "stream",
          "name": "stdout",
          "text": [
            "data_columns:  10\n",
            "len_data: 53940\n",
            "X:  53940\n",
            "X.shape : (53940, 9)\n",
            "y:  53940\n",
            "y.shape : (53940,)\n",
            "\n",
            "X_TRAIN :  (43152, 9)\n",
            "y_TRAIN :  (43152,)\n",
            "X_test :  (10788, 9)\n",
            "y_test :  (10788,)\n"
          ]
        }
      ]
    },
    {
      "cell_type": "markdown",
      "metadata": {
        "id": "lCdv326Z69OT"
      },
      "source": [
        "5.Do normalisation if required"
      ]
    },
    {
      "cell_type": "code",
      "metadata": {
        "id": "MaqmX7r2694v"
      },
      "source": [
        "from sklearn import preprocessing\n",
        "train_X = preprocessing.normalize(X_train)\n",
        "test_X = preprocessing.normalize(X_test)"
      ],
      "execution_count": 20,
      "outputs": []
    },
    {
      "cell_type": "code",
      "metadata": {
        "colab": {
          "base_uri": "https://localhost:8080/"
        },
        "id": "rqhKurWI6-Qc",
        "outputId": "ba0f7df6-62f6-4f44-a4d2-051061db5e96"
      },
      "source": [
        "test_X.shape\n",
        "#train_X.shape"
      ],
      "execution_count": 21,
      "outputs": [
        {
          "output_type": "execute_result",
          "data": {
            "text/plain": [
              "(10788, 9)"
            ]
          },
          "metadata": {},
          "execution_count": 21
        }
      ]
    },
    {
      "cell_type": "code",
      "metadata": {
        "colab": {
          "base_uri": "https://localhost:8080/"
        },
        "id": "rPxL6YuBhefp",
        "outputId": "adee95a3-ab18-4646-e360-3b5fe3aeaead"
      },
      "source": [
        "train_X[0:5]"
      ],
      "execution_count": 22,
      "outputs": [
        {
          "output_type": "execute_result",
          "data": {
            "text/plain": [
              "array([[0.00830872, 0.04680967, 0.04680967, 0.03510726, 0.72320947,\n",
              "        0.67874028, 0.06635271, 0.06705486, 0.04119251],\n",
              "       [0.01582461, 0.04620325, 0.04620325, 0.04620325, 0.71615033,\n",
              "        0.6814979 , 0.08177975, 0.08224178, 0.05082357],\n",
              "       [0.0038199 , 0.02387436, 0.01193718, 0.07162308, 0.73533026,\n",
              "        0.66848205, 0.05288171, 0.05216547, 0.03234976],\n",
              "       [0.00962888, 0.02377502, 0.04755004, 0.02377502, 0.73583683,\n",
              "        0.66570053, 0.07037406, 0.07096843, 0.04374603],\n",
              "       [0.00375166, 0.02344787, 0.03517181, 0.08206756, 0.73391849,\n",
              "        0.66826444, 0.05135085, 0.05088189, 0.03200635]])"
            ]
          },
          "metadata": {},
          "execution_count": 22
        }
      ]
    },
    {
      "cell_type": "markdown",
      "metadata": {
        "id": "YUVUvo506-hV"
      },
      "source": [
        "6.Model Building (ANN)"
      ]
    },
    {
      "cell_type": "code",
      "metadata": {
        "id": "giM0YFUp7AxT"
      },
      "source": [
        "from numpy import loadtxt\n",
        "from tensorflow.keras.models import Sequential\n",
        "from tensorflow.keras import layers\n",
        "from tensorflow.keras.layers import Dense, Dropout"
      ],
      "execution_count": 23,
      "outputs": []
    },
    {
      "cell_type": "markdown",
      "metadata": {
        "id": "6B6_4RXOrnUp"
      },
      "source": [
        "models = \n",
        "\n",
        "    output should be linear fun \n",
        "\n",
        "    1. relu\n",
        "    2. leaky_relu\n",
        "    3. parametric relu\n",
        "    4. elu\n",
        "    5. tan"
      ]
    },
    {
      "cell_type": "code",
      "metadata": {
        "id": "79BtoyL_7DsW"
      },
      "source": [
        "model = Sequential()\n",
        "# 9(col)(i/p layer) - 64(inner layer) - 32(inner layer) - 16(inner alyer) - 8(inner layer- 1(o/p)\n",
        "model.add(Dense(64, input_shape = (9, ), kernel_initializer='normal', activation = \"relu\"))\n",
        "model.add(Dense(32, activation = \"relu\"))\n",
        "model.add(Dense(16, activation = \"relu\"))\n",
        "model.add(Dense(8, activation = \"relu\"))\n",
        "model.add(Dense(1, activation = \"linear\"))\n"
      ],
      "execution_count": 24,
      "outputs": []
    },
    {
      "cell_type": "code",
      "metadata": {
        "colab": {
          "base_uri": "https://localhost:8080/"
        },
        "id": "od7w69IPkDJX",
        "outputId": "b844eb28-32c1-4ca0-ae74-78948e0d411c"
      },
      "source": [
        "print(model.summary())"
      ],
      "execution_count": 25,
      "outputs": [
        {
          "output_type": "stream",
          "name": "stdout",
          "text": [
            "Model: \"sequential\"\n",
            "_________________________________________________________________\n",
            "Layer (type)                 Output Shape              Param #   \n",
            "=================================================================\n",
            "dense (Dense)                (None, 64)                640       \n",
            "_________________________________________________________________\n",
            "dense_1 (Dense)              (None, 32)                2080      \n",
            "_________________________________________________________________\n",
            "dense_2 (Dense)              (None, 16)                528       \n",
            "_________________________________________________________________\n",
            "dense_3 (Dense)              (None, 8)                 136       \n",
            "_________________________________________________________________\n",
            "dense_4 (Dense)              (None, 1)                 9         \n",
            "=================================================================\n",
            "Total params: 3,393\n",
            "Trainable params: 3,393\n",
            "Non-trainable params: 0\n",
            "_________________________________________________________________\n",
            "None\n"
          ]
        }
      ]
    },
    {
      "cell_type": "code",
      "metadata": {
        "colab": {
          "base_uri": "https://localhost:8080/"
        },
        "id": "5bY_tesXkDMY",
        "outputId": "9c18fbe8-f8b9-471f-d766-fd759a237254"
      },
      "source": [
        "model.compile(loss='mse', optimizer = \"adam\", metrics=['mae'])\n",
        "result_1 = model.fit(train_X,y_train, epochs = 150, batch_size = 100, validation_data = (test_X, y_test))\n"
      ],
      "execution_count": 26,
      "outputs": [
        {
          "output_type": "stream",
          "name": "stdout",
          "text": [
            "Epoch 1/150\n",
            "432/432 [==============================] - 5s 5ms/step - loss: 23140440.0000 - mae: 3340.7749 - val_loss: 15399476.0000 - val_mae: 3001.1125\n",
            "Epoch 2/150\n",
            "432/432 [==============================] - 2s 4ms/step - loss: 15274754.0000 - mae: 2979.7422 - val_loss: 15024597.0000 - val_mae: 2945.5020\n",
            "Epoch 3/150\n",
            "432/432 [==============================] - 2s 4ms/step - loss: 14773538.0000 - mae: 2930.6460 - val_loss: 14350969.0000 - val_mae: 2899.9216\n",
            "Epoch 4/150\n",
            "432/432 [==============================] - 2s 4ms/step - loss: 13581372.0000 - mae: 2806.7515 - val_loss: 12295807.0000 - val_mae: 2643.1113\n",
            "Epoch 5/150\n",
            "432/432 [==============================] - 2s 4ms/step - loss: 8774189.0000 - mae: 2124.1880 - val_loss: 4475247.5000 - val_mae: 1378.7662\n",
            "Epoch 6/150\n",
            "432/432 [==============================] - 2s 4ms/step - loss: 3176841.2500 - mae: 1075.2587 - val_loss: 2275207.7500 - val_mae: 874.1199\n",
            "Epoch 7/150\n",
            "432/432 [==============================] - 2s 4ms/step - loss: 2084336.8750 - mae: 802.9675 - val_loss: 1717236.7500 - val_mae: 750.1172\n",
            "Epoch 8/150\n",
            "432/432 [==============================] - 2s 4ms/step - loss: 1764235.8750 - mae: 711.4258 - val_loss: 1541063.1250 - val_mae: 709.4719\n",
            "Epoch 9/150\n",
            "432/432 [==============================] - 2s 4ms/step - loss: 1657803.7500 - mae: 685.3642 - val_loss: 1471714.6250 - val_mae: 697.0399\n",
            "Epoch 10/150\n",
            "432/432 [==============================] - 2s 4ms/step - loss: 1611716.6250 - mae: 671.2563 - val_loss: 1425297.0000 - val_mae: 663.8749\n",
            "Epoch 11/150\n",
            "432/432 [==============================] - 2s 4ms/step - loss: 1590931.7500 - mae: 664.1970 - val_loss: 1405382.2500 - val_mae: 657.5630\n",
            "Epoch 12/150\n",
            "432/432 [==============================] - 2s 4ms/step - loss: 1569588.8750 - mae: 659.2031 - val_loss: 1391361.0000 - val_mae: 656.7410\n",
            "Epoch 13/150\n",
            "432/432 [==============================] - 2s 4ms/step - loss: 1565162.3750 - mae: 653.3430 - val_loss: 1382273.5000 - val_mae: 656.4095\n",
            "Epoch 14/150\n",
            "432/432 [==============================] - 2s 4ms/step - loss: 1555671.1250 - mae: 648.8364 - val_loss: 1389310.6250 - val_mae: 668.3593\n",
            "Epoch 15/150\n",
            "432/432 [==============================] - 2s 4ms/step - loss: 1544362.6250 - mae: 645.3574 - val_loss: 1456951.3750 - val_mae: 658.8152\n",
            "Epoch 16/150\n",
            "432/432 [==============================] - 2s 4ms/step - loss: 1542027.0000 - mae: 645.4368 - val_loss: 1364000.2500 - val_mae: 639.7515\n",
            "Epoch 17/150\n",
            "432/432 [==============================] - 2s 4ms/step - loss: 1528641.7500 - mae: 644.1660 - val_loss: 1393532.6250 - val_mae: 673.4611\n",
            "Epoch 18/150\n",
            "432/432 [==============================] - 2s 4ms/step - loss: 1529449.5000 - mae: 642.3119 - val_loss: 1351795.5000 - val_mae: 632.4132\n",
            "Epoch 19/150\n",
            "432/432 [==============================] - 2s 4ms/step - loss: 1517774.1250 - mae: 638.8551 - val_loss: 1343106.0000 - val_mae: 632.1730\n",
            "Epoch 20/150\n",
            "432/432 [==============================] - 2s 4ms/step - loss: 1510639.8750 - mae: 633.9265 - val_loss: 1346500.2500 - val_mae: 632.0493\n",
            "Epoch 21/150\n",
            "432/432 [==============================] - 2s 4ms/step - loss: 1506827.2500 - mae: 636.0286 - val_loss: 1342147.0000 - val_mae: 633.9566\n",
            "Epoch 22/150\n",
            "432/432 [==============================] - 2s 4ms/step - loss: 1501159.3750 - mae: 634.2510 - val_loss: 1336681.8750 - val_mae: 633.0885\n",
            "Epoch 23/150\n",
            "432/432 [==============================] - 2s 4ms/step - loss: 1495837.3750 - mae: 635.0588 - val_loss: 1347373.1250 - val_mae: 629.1305\n",
            "Epoch 24/150\n",
            "432/432 [==============================] - 2s 4ms/step - loss: 1495637.7500 - mae: 633.5859 - val_loss: 1335516.3750 - val_mae: 641.3527\n",
            "Epoch 25/150\n",
            "432/432 [==============================] - 2s 4ms/step - loss: 1489288.6250 - mae: 635.2141 - val_loss: 1320338.8750 - val_mae: 625.5035\n",
            "Epoch 26/150\n",
            "432/432 [==============================] - 2s 4ms/step - loss: 1484191.1250 - mae: 630.3420 - val_loss: 1320690.1250 - val_mae: 631.1072\n",
            "Epoch 27/150\n",
            "432/432 [==============================] - 2s 4ms/step - loss: 1479815.8750 - mae: 628.7865 - val_loss: 1335159.5000 - val_mae: 626.9910\n",
            "Epoch 28/150\n",
            "432/432 [==============================] - 2s 4ms/step - loss: 1474559.3750 - mae: 631.1625 - val_loss: 1359373.6250 - val_mae: 658.6946\n",
            "Epoch 29/150\n",
            "432/432 [==============================] - 2s 4ms/step - loss: 1470022.0000 - mae: 629.5007 - val_loss: 1339420.8750 - val_mae: 649.1003\n",
            "Epoch 30/150\n",
            "432/432 [==============================] - 2s 4ms/step - loss: 1468740.7500 - mae: 630.8580 - val_loss: 1314372.8750 - val_mae: 622.9182\n",
            "Epoch 31/150\n",
            "432/432 [==============================] - 2s 4ms/step - loss: 1464446.0000 - mae: 627.0166 - val_loss: 1323851.8750 - val_mae: 638.3324\n",
            "Epoch 32/150\n",
            "432/432 [==============================] - 2s 4ms/step - loss: 1460991.7500 - mae: 630.7083 - val_loss: 1310635.7500 - val_mae: 625.4772\n",
            "Epoch 33/150\n",
            "432/432 [==============================] - 2s 4ms/step - loss: 1461340.6250 - mae: 629.6196 - val_loss: 1309044.3750 - val_mae: 622.5812\n",
            "Epoch 34/150\n",
            "432/432 [==============================] - 2s 4ms/step - loss: 1454319.2500 - mae: 626.2448 - val_loss: 1368749.7500 - val_mae: 630.3602\n",
            "Epoch 35/150\n",
            "432/432 [==============================] - 2s 4ms/step - loss: 1451506.0000 - mae: 626.9791 - val_loss: 1321072.7500 - val_mae: 633.0723\n",
            "Epoch 36/150\n",
            "432/432 [==============================] - 2s 4ms/step - loss: 1447890.8750 - mae: 628.3582 - val_loss: 1310362.3750 - val_mae: 630.2609\n",
            "Epoch 37/150\n",
            "432/432 [==============================] - 2s 4ms/step - loss: 1448511.2500 - mae: 627.0677 - val_loss: 1307772.7500 - val_mae: 622.9824\n",
            "Epoch 38/150\n",
            "432/432 [==============================] - 2s 4ms/step - loss: 1444501.2500 - mae: 628.0261 - val_loss: 1333958.3750 - val_mae: 644.7476\n",
            "Epoch 39/150\n",
            "432/432 [==============================] - 2s 4ms/step - loss: 1438754.0000 - mae: 626.4960 - val_loss: 1307097.0000 - val_mae: 621.6432\n",
            "Epoch 40/150\n",
            "432/432 [==============================] - 2s 4ms/step - loss: 1439024.5000 - mae: 628.0189 - val_loss: 1307257.8750 - val_mae: 625.9615\n",
            "Epoch 41/150\n",
            "432/432 [==============================] - 2s 4ms/step - loss: 1433213.6250 - mae: 625.1855 - val_loss: 1316376.6250 - val_mae: 621.9526\n",
            "Epoch 42/150\n",
            "432/432 [==============================] - 2s 4ms/step - loss: 1427823.3750 - mae: 625.4056 - val_loss: 1359047.0000 - val_mae: 630.1904\n",
            "Epoch 43/150\n",
            "432/432 [==============================] - 2s 4ms/step - loss: 1430079.5000 - mae: 625.0530 - val_loss: 1334796.0000 - val_mae: 647.3097\n",
            "Epoch 44/150\n",
            "432/432 [==============================] - 2s 4ms/step - loss: 1428512.8750 - mae: 627.3922 - val_loss: 1301269.5000 - val_mae: 622.0109\n",
            "Epoch 45/150\n",
            "432/432 [==============================] - 2s 4ms/step - loss: 1421608.1250 - mae: 624.8441 - val_loss: 1299475.8750 - val_mae: 620.9451\n",
            "Epoch 46/150\n",
            "432/432 [==============================] - 2s 4ms/step - loss: 1416966.5000 - mae: 623.4372 - val_loss: 1299308.7500 - val_mae: 618.6402\n",
            "Epoch 47/150\n",
            "432/432 [==============================] - 2s 4ms/step - loss: 1416775.8750 - mae: 622.6465 - val_loss: 1325448.3750 - val_mae: 623.4148\n",
            "Epoch 48/150\n",
            "432/432 [==============================] - 2s 4ms/step - loss: 1415218.7500 - mae: 624.8124 - val_loss: 1315727.1250 - val_mae: 620.9377\n",
            "Epoch 49/150\n",
            "432/432 [==============================] - 2s 4ms/step - loss: 1413741.3750 - mae: 624.8096 - val_loss: 1301735.5000 - val_mae: 618.8445\n",
            "Epoch 50/150\n",
            "432/432 [==============================] - 2s 4ms/step - loss: 1411376.7500 - mae: 624.5165 - val_loss: 1300763.3750 - val_mae: 620.0112\n",
            "Epoch 51/150\n",
            "432/432 [==============================] - 2s 4ms/step - loss: 1408826.8750 - mae: 624.2590 - val_loss: 1297128.6250 - val_mae: 622.5046\n",
            "Epoch 52/150\n",
            "432/432 [==============================] - 2s 4ms/step - loss: 1405243.6250 - mae: 623.1196 - val_loss: 1299070.6250 - val_mae: 616.8279\n",
            "Epoch 53/150\n",
            "432/432 [==============================] - 2s 4ms/step - loss: 1403249.1250 - mae: 623.1460 - val_loss: 1295092.5000 - val_mae: 620.1322\n",
            "Epoch 54/150\n",
            "432/432 [==============================] - 2s 4ms/step - loss: 1397927.2500 - mae: 619.7773 - val_loss: 1303475.8750 - val_mae: 628.0835\n",
            "Epoch 55/150\n",
            "432/432 [==============================] - 2s 4ms/step - loss: 1400915.0000 - mae: 626.4224 - val_loss: 1318236.8750 - val_mae: 644.0361\n",
            "Epoch 56/150\n",
            "432/432 [==============================] - 2s 4ms/step - loss: 1396091.8750 - mae: 621.3800 - val_loss: 1296017.8750 - val_mae: 621.5965\n",
            "Epoch 57/150\n",
            "432/432 [==============================] - 2s 5ms/step - loss: 1395770.1250 - mae: 623.1189 - val_loss: 1299938.6250 - val_mae: 627.9658\n",
            "Epoch 58/150\n",
            "432/432 [==============================] - 2s 4ms/step - loss: 1390768.8750 - mae: 621.9547 - val_loss: 1295488.2500 - val_mae: 619.1690\n",
            "Epoch 59/150\n",
            "432/432 [==============================] - 2s 4ms/step - loss: 1392267.2500 - mae: 624.2695 - val_loss: 1299248.5000 - val_mae: 624.3943\n",
            "Epoch 60/150\n",
            "432/432 [==============================] - 2s 4ms/step - loss: 1385623.0000 - mae: 620.9067 - val_loss: 1293699.5000 - val_mae: 622.7842\n",
            "Epoch 61/150\n",
            "432/432 [==============================] - 2s 4ms/step - loss: 1385026.1250 - mae: 620.8377 - val_loss: 1299344.7500 - val_mae: 615.8792\n",
            "Epoch 62/150\n",
            "432/432 [==============================] - 2s 4ms/step - loss: 1383003.3750 - mae: 620.6423 - val_loss: 1293940.7500 - val_mae: 615.2179\n",
            "Epoch 63/150\n",
            "432/432 [==============================] - 2s 4ms/step - loss: 1386008.5000 - mae: 621.9558 - val_loss: 1291286.2500 - val_mae: 615.9940\n",
            "Epoch 64/150\n",
            "432/432 [==============================] - 2s 4ms/step - loss: 1379100.0000 - mae: 619.1915 - val_loss: 1325237.6250 - val_mae: 620.0813\n",
            "Epoch 65/150\n",
            "432/432 [==============================] - 2s 4ms/step - loss: 1378498.8750 - mae: 619.9449 - val_loss: 1302500.1250 - val_mae: 630.2044\n",
            "Epoch 66/150\n",
            "432/432 [==============================] - 2s 4ms/step - loss: 1375088.0000 - mae: 620.2187 - val_loss: 1297085.8750 - val_mae: 615.7001\n",
            "Epoch 67/150\n",
            "432/432 [==============================] - 2s 4ms/step - loss: 1374878.7500 - mae: 621.7544 - val_loss: 1293033.7500 - val_mae: 615.1161\n",
            "Epoch 68/150\n",
            "432/432 [==============================] - 2s 4ms/step - loss: 1374422.7500 - mae: 621.1122 - val_loss: 1295406.1250 - val_mae: 615.4670\n",
            "Epoch 69/150\n",
            "432/432 [==============================] - 2s 4ms/step - loss: 1370086.1250 - mae: 620.6558 - val_loss: 1290257.5000 - val_mae: 620.6557\n",
            "Epoch 70/150\n",
            "432/432 [==============================] - 2s 4ms/step - loss: 1367321.5000 - mae: 619.8268 - val_loss: 1288724.6250 - val_mae: 614.0272\n",
            "Epoch 71/150\n",
            "432/432 [==============================] - 2s 4ms/step - loss: 1367242.3750 - mae: 619.9926 - val_loss: 1289485.8750 - val_mae: 616.7380\n",
            "Epoch 72/150\n",
            "432/432 [==============================] - 2s 4ms/step - loss: 1362131.0000 - mae: 618.9107 - val_loss: 1290476.1250 - val_mae: 620.5862\n",
            "Epoch 73/150\n",
            "432/432 [==============================] - 2s 4ms/step - loss: 1363926.1250 - mae: 618.4688 - val_loss: 1295165.0000 - val_mae: 616.1771\n",
            "Epoch 74/150\n",
            "432/432 [==============================] - 2s 4ms/step - loss: 1359697.7500 - mae: 619.5054 - val_loss: 1303902.0000 - val_mae: 633.4941\n",
            "Epoch 75/150\n",
            "432/432 [==============================] - 2s 4ms/step - loss: 1358629.2500 - mae: 618.8865 - val_loss: 1290272.7500 - val_mae: 614.4330\n",
            "Epoch 76/150\n",
            "432/432 [==============================] - 2s 4ms/step - loss: 1356709.2500 - mae: 617.9392 - val_loss: 1286060.2500 - val_mae: 615.7540\n",
            "Epoch 77/150\n",
            "432/432 [==============================] - 2s 4ms/step - loss: 1354317.6250 - mae: 617.6779 - val_loss: 1303045.0000 - val_mae: 615.7197\n",
            "Epoch 78/150\n",
            "432/432 [==============================] - 2s 4ms/step - loss: 1353181.2500 - mae: 619.4465 - val_loss: 1285001.2500 - val_mae: 612.8696\n",
            "Epoch 79/150\n",
            "432/432 [==============================] - 2s 4ms/step - loss: 1349098.0000 - mae: 617.1357 - val_loss: 1298334.5000 - val_mae: 614.1362\n",
            "Epoch 80/150\n",
            "432/432 [==============================] - 2s 5ms/step - loss: 1353665.5000 - mae: 618.8675 - val_loss: 1285539.2500 - val_mae: 615.4589\n",
            "Epoch 81/150\n",
            "432/432 [==============================] - 2s 4ms/step - loss: 1350016.6250 - mae: 617.7917 - val_loss: 1284749.8750 - val_mae: 613.5161\n",
            "Epoch 82/150\n",
            "432/432 [==============================] - 2s 4ms/step - loss: 1349658.1250 - mae: 616.9404 - val_loss: 1284211.2500 - val_mae: 614.5256\n",
            "Epoch 83/150\n",
            "432/432 [==============================] - 2s 4ms/step - loss: 1344933.0000 - mae: 616.6034 - val_loss: 1304347.2500 - val_mae: 615.5327\n",
            "Epoch 84/150\n",
            "432/432 [==============================] - 2s 4ms/step - loss: 1348594.5000 - mae: 619.9565 - val_loss: 1283818.2500 - val_mae: 614.6245\n",
            "Epoch 85/150\n",
            "432/432 [==============================] - 2s 4ms/step - loss: 1338467.6250 - mae: 614.9009 - val_loss: 1284807.3750 - val_mae: 615.7463\n",
            "Epoch 86/150\n",
            "432/432 [==============================] - 2s 4ms/step - loss: 1340726.8750 - mae: 617.4439 - val_loss: 1283241.0000 - val_mae: 614.8741\n",
            "Epoch 87/150\n",
            "432/432 [==============================] - 2s 5ms/step - loss: 1337914.6250 - mae: 614.6783 - val_loss: 1303630.3750 - val_mae: 625.3510\n",
            "Epoch 88/150\n",
            "432/432 [==============================] - 2s 4ms/step - loss: 1338408.3750 - mae: 619.5084 - val_loss: 1282533.0000 - val_mae: 614.5627\n",
            "Epoch 89/150\n",
            "432/432 [==============================] - 2s 4ms/step - loss: 1335140.0000 - mae: 616.9383 - val_loss: 1289482.1250 - val_mae: 613.3325\n",
            "Epoch 90/150\n",
            "432/432 [==============================] - 2s 4ms/step - loss: 1336105.6250 - mae: 615.0970 - val_loss: 1285325.5000 - val_mae: 617.6318\n",
            "Epoch 91/150\n",
            "432/432 [==============================] - 2s 5ms/step - loss: 1333917.0000 - mae: 617.0189 - val_loss: 1294721.8750 - val_mae: 613.1102\n",
            "Epoch 92/150\n",
            "432/432 [==============================] - 2s 4ms/step - loss: 1333249.5000 - mae: 615.9602 - val_loss: 1288315.3750 - val_mae: 613.8792\n",
            "Epoch 93/150\n",
            "432/432 [==============================] - 2s 4ms/step - loss: 1331885.0000 - mae: 617.2018 - val_loss: 1284291.0000 - val_mae: 616.3062\n",
            "Epoch 94/150\n",
            "432/432 [==============================] - 2s 4ms/step - loss: 1335156.8750 - mae: 616.9415 - val_loss: 1283960.7500 - val_mae: 611.7136\n",
            "Epoch 95/150\n",
            "432/432 [==============================] - 2s 4ms/step - loss: 1326474.8750 - mae: 614.1198 - val_loss: 1304119.8750 - val_mae: 614.9739\n",
            "Epoch 96/150\n",
            "432/432 [==============================] - 2s 4ms/step - loss: 1329381.0000 - mae: 616.4475 - val_loss: 1295582.5000 - val_mae: 630.7445\n",
            "Epoch 97/150\n",
            "432/432 [==============================] - 2s 4ms/step - loss: 1326148.6250 - mae: 616.9410 - val_loss: 1281010.2500 - val_mae: 614.2086\n",
            "Epoch 98/150\n",
            "432/432 [==============================] - 2s 5ms/step - loss: 1326611.1250 - mae: 615.6980 - val_loss: 1280284.6250 - val_mae: 613.0066\n",
            "Epoch 99/150\n",
            "432/432 [==============================] - 2s 4ms/step - loss: 1323403.0000 - mae: 614.9822 - val_loss: 1279225.5000 - val_mae: 613.1611\n",
            "Epoch 100/150\n",
            "432/432 [==============================] - 2s 4ms/step - loss: 1325524.5000 - mae: 616.6014 - val_loss: 1295615.2500 - val_mae: 627.8572\n",
            "Epoch 101/150\n",
            "432/432 [==============================] - 2s 4ms/step - loss: 1318079.1250 - mae: 614.3626 - val_loss: 1299114.5000 - val_mae: 613.9560\n",
            "Epoch 102/150\n",
            "432/432 [==============================] - 2s 5ms/step - loss: 1320910.2500 - mae: 616.0689 - val_loss: 1284362.8750 - val_mae: 616.9747\n",
            "Epoch 103/150\n",
            "432/432 [==============================] - 2s 4ms/step - loss: 1322492.1250 - mae: 615.8999 - val_loss: 1281526.0000 - val_mae: 612.5645\n",
            "Epoch 104/150\n",
            "432/432 [==============================] - 2s 4ms/step - loss: 1319715.7500 - mae: 614.7833 - val_loss: 1279208.8750 - val_mae: 614.0415\n",
            "Epoch 105/150\n",
            "432/432 [==============================] - 2s 4ms/step - loss: 1317042.5000 - mae: 614.3240 - val_loss: 1289245.3750 - val_mae: 625.2040\n",
            "Epoch 106/150\n",
            "432/432 [==============================] - 2s 4ms/step - loss: 1314435.2500 - mae: 613.8881 - val_loss: 1283752.6250 - val_mae: 621.0709\n",
            "Epoch 107/150\n",
            "432/432 [==============================] - 2s 4ms/step - loss: 1314303.8750 - mae: 615.2997 - val_loss: 1277947.7500 - val_mae: 611.2725\n",
            "Epoch 108/150\n",
            "432/432 [==============================] - 2s 4ms/step - loss: 1314716.7500 - mae: 615.0089 - val_loss: 1278250.3750 - val_mae: 609.7871\n",
            "Epoch 109/150\n",
            "432/432 [==============================] - 2s 4ms/step - loss: 1310345.6250 - mae: 612.6395 - val_loss: 1295376.5000 - val_mae: 628.1078\n",
            "Epoch 110/150\n",
            "432/432 [==============================] - 2s 4ms/step - loss: 1313712.5000 - mae: 614.6975 - val_loss: 1317151.3750 - val_mae: 620.4917\n",
            "Epoch 111/150\n",
            "432/432 [==============================] - 2s 4ms/step - loss: 1309346.7500 - mae: 613.4353 - val_loss: 1280832.7500 - val_mae: 617.5378\n",
            "Epoch 112/150\n",
            "432/432 [==============================] - 2s 4ms/step - loss: 1310250.1250 - mae: 615.2946 - val_loss: 1295668.1250 - val_mae: 623.4930\n",
            "Epoch 113/150\n",
            "432/432 [==============================] - 2s 4ms/step - loss: 1309260.7500 - mae: 614.2680 - val_loss: 1287103.8750 - val_mae: 622.2595\n",
            "Epoch 114/150\n",
            "432/432 [==============================] - 2s 4ms/step - loss: 1304321.7500 - mae: 612.4952 - val_loss: 1304054.3750 - val_mae: 615.2056\n",
            "Epoch 115/150\n",
            "432/432 [==============================] - 2s 4ms/step - loss: 1306257.8750 - mae: 613.2328 - val_loss: 1286074.1250 - val_mae: 611.6246\n",
            "Epoch 116/150\n",
            "432/432 [==============================] - 2s 4ms/step - loss: 1303762.6250 - mae: 613.0865 - val_loss: 1283298.0000 - val_mae: 621.0062\n",
            "Epoch 117/150\n",
            "432/432 [==============================] - 2s 4ms/step - loss: 1305169.6250 - mae: 614.7230 - val_loss: 1277171.1250 - val_mae: 613.0469\n",
            "Epoch 118/150\n",
            "432/432 [==============================] - 2s 4ms/step - loss: 1302022.3750 - mae: 613.4061 - val_loss: 1276650.1250 - val_mae: 610.5511\n",
            "Epoch 119/150\n",
            "432/432 [==============================] - 2s 4ms/step - loss: 1302459.1250 - mae: 613.1507 - val_loss: 1293820.3750 - val_mae: 611.8264\n",
            "Epoch 120/150\n",
            "432/432 [==============================] - 2s 4ms/step - loss: 1302504.8750 - mae: 614.0925 - val_loss: 1276038.5000 - val_mae: 610.8527\n",
            "Epoch 121/150\n",
            "432/432 [==============================] - 2s 4ms/step - loss: 1303894.2500 - mae: 614.4868 - val_loss: 1277193.7500 - val_mae: 614.0127\n",
            "Epoch 122/150\n",
            "432/432 [==============================] - 2s 4ms/step - loss: 1299302.0000 - mae: 613.5884 - val_loss: 1301122.8750 - val_mae: 614.7372\n",
            "Epoch 123/150\n",
            "432/432 [==============================] - 2s 4ms/step - loss: 1298232.0000 - mae: 614.0385 - val_loss: 1281295.3750 - val_mae: 609.8483\n",
            "Epoch 124/150\n",
            "432/432 [==============================] - 2s 4ms/step - loss: 1300447.2500 - mae: 613.5454 - val_loss: 1295038.7500 - val_mae: 611.8408\n",
            "Epoch 125/150\n",
            "432/432 [==============================] - 2s 4ms/step - loss: 1295219.0000 - mae: 613.2856 - val_loss: 1278384.5000 - val_mae: 611.5308\n",
            "Epoch 126/150\n",
            "432/432 [==============================] - 2s 4ms/step - loss: 1297662.0000 - mae: 612.8472 - val_loss: 1278436.6250 - val_mae: 615.3231\n",
            "Epoch 127/150\n",
            "432/432 [==============================] - 2s 4ms/step - loss: 1298430.6250 - mae: 614.5170 - val_loss: 1277550.1250 - val_mae: 610.9615\n",
            "Epoch 128/150\n",
            "432/432 [==============================] - 2s 4ms/step - loss: 1295152.8750 - mae: 614.1844 - val_loss: 1289006.7500 - val_mae: 622.8480\n",
            "Epoch 129/150\n",
            "432/432 [==============================] - 2s 4ms/step - loss: 1296215.8750 - mae: 613.0604 - val_loss: 1289899.5000 - val_mae: 626.9689\n",
            "Epoch 130/150\n",
            "432/432 [==============================] - 2s 4ms/step - loss: 1292606.8750 - mae: 612.7170 - val_loss: 1292728.0000 - val_mae: 612.6863\n",
            "Epoch 131/150\n",
            "432/432 [==============================] - 2s 4ms/step - loss: 1290521.6250 - mae: 611.3710 - val_loss: 1307419.5000 - val_mae: 634.7380\n",
            "Epoch 132/150\n",
            "432/432 [==============================] - 2s 4ms/step - loss: 1294745.8750 - mae: 613.3875 - val_loss: 1279039.3750 - val_mae: 610.2914\n",
            "Epoch 133/150\n",
            "432/432 [==============================] - 2s 4ms/step - loss: 1289342.0000 - mae: 612.4229 - val_loss: 1287899.5000 - val_mae: 620.6272\n",
            "Epoch 134/150\n",
            "432/432 [==============================] - 2s 4ms/step - loss: 1289813.6250 - mae: 612.2692 - val_loss: 1284159.5000 - val_mae: 610.2405\n",
            "Epoch 135/150\n",
            "432/432 [==============================] - 2s 4ms/step - loss: 1289275.3750 - mae: 612.9009 - val_loss: 1293973.7500 - val_mae: 611.3318\n",
            "Epoch 136/150\n",
            "432/432 [==============================] - 2s 4ms/step - loss: 1289864.0000 - mae: 613.3521 - val_loss: 1291917.1250 - val_mae: 611.1043\n",
            "Epoch 137/150\n",
            "432/432 [==============================] - 2s 5ms/step - loss: 1293882.1250 - mae: 613.0398 - val_loss: 1276431.5000 - val_mae: 613.0410\n",
            "Epoch 138/150\n",
            "432/432 [==============================] - 2s 4ms/step - loss: 1289517.3750 - mae: 613.5843 - val_loss: 1276048.6250 - val_mae: 611.0535\n",
            "Epoch 139/150\n",
            "432/432 [==============================] - 2s 4ms/step - loss: 1286984.2500 - mae: 613.3560 - val_loss: 1276149.1250 - val_mae: 609.4271\n",
            "Epoch 140/150\n",
            "432/432 [==============================] - 2s 4ms/step - loss: 1284521.3750 - mae: 610.6825 - val_loss: 1296009.6250 - val_mae: 612.3145\n",
            "Epoch 141/150\n",
            "432/432 [==============================] - 2s 4ms/step - loss: 1284370.3750 - mae: 610.9121 - val_loss: 1286089.0000 - val_mae: 611.9034\n",
            "Epoch 142/150\n",
            "432/432 [==============================] - 2s 4ms/step - loss: 1285972.6250 - mae: 613.0029 - val_loss: 1278565.0000 - val_mae: 610.6112\n",
            "Epoch 143/150\n",
            "432/432 [==============================] - 2s 4ms/step - loss: 1281644.0000 - mae: 610.5265 - val_loss: 1276727.0000 - val_mae: 609.4813\n",
            "Epoch 144/150\n",
            "432/432 [==============================] - 2s 4ms/step - loss: 1285534.5000 - mae: 612.0997 - val_loss: 1276919.8750 - val_mae: 608.3196\n",
            "Epoch 145/150\n",
            "432/432 [==============================] - 2s 4ms/step - loss: 1282086.3750 - mae: 611.1855 - val_loss: 1277706.3750 - val_mae: 610.7355\n",
            "Epoch 146/150\n",
            "432/432 [==============================] - 2s 4ms/step - loss: 1280699.7500 - mae: 611.0021 - val_loss: 1277450.8750 - val_mae: 609.5465\n",
            "Epoch 147/150\n",
            "432/432 [==============================] - 2s 4ms/step - loss: 1285173.0000 - mae: 613.4030 - val_loss: 1294658.1250 - val_mae: 626.1445\n",
            "Epoch 148/150\n",
            "432/432 [==============================] - 2s 4ms/step - loss: 1280560.8750 - mae: 610.8840 - val_loss: 1284243.5000 - val_mae: 619.2787\n",
            "Epoch 149/150\n",
            "432/432 [==============================] - 2s 5ms/step - loss: 1282950.2500 - mae: 612.7713 - val_loss: 1286401.2500 - val_mae: 609.5580\n",
            "Epoch 150/150\n",
            "432/432 [==============================] - 2s 4ms/step - loss: 1287590.6250 - mae: 614.1811 - val_loss: 1318840.3750 - val_mae: 616.8557\n"
          ]
        }
      ]
    },
    {
      "cell_type": "code",
      "metadata": {
        "id": "txcQtn1WkDQf"
      },
      "source": [
        "#result_1.history"
      ],
      "execution_count": 28,
      "outputs": []
    },
    {
      "cell_type": "code",
      "metadata": {
        "colab": {
          "base_uri": "https://localhost:8080/",
          "height": 298
        },
        "id": "9k3meuIXlmwn",
        "outputId": "2c81eae0-9fed-41ab-f2d9-198d594e5159"
      },
      "source": [
        "plt.plot(result_1.history['loss'],label='loss')\n",
        "plt.plot(result_1.history['val_loss'],label='val_loss')\n",
        "plt.legend()\n",
        "plt.title('Relu with Linear(o/p)')"
      ],
      "execution_count": 27,
      "outputs": [
        {
          "output_type": "execute_result",
          "data": {
            "text/plain": [
              "Text(0.5, 1.0, 'Relu with Linear(o/p)')"
            ]
          },
          "metadata": {},
          "execution_count": 27
        },
        {
          "output_type": "display_data",
          "data": {
            "image/png": "[encoded data removed]",
            "text/plain": [
              "<Figure size 432x288 with 1 Axes>"
            ]
          },
          "metadata": {
            "needs_background": "light"
          }
        }
      ]
    },
    {
      "cell_type": "markdown",
      "metadata": {
        "id": "yKbiX_Ih5NT_"
      },
      "source": [
        "# Observations :\n",
        "  In \"Regression\" problem we use Linear as Final activation function & loss is mse.\n",
        "\n",
        "  In \"Classification\" we use sigmoid , softmax as Final activation function & loss is Cross Entropy or Binary Cross Entropy.\n",
        "\n",
        "  Since this is Regression we use Linear as output. i used here are \n",
        "\n",
        "  In \"RELU\" : RELU Stands for Rectified linear unit. It is the most widely used non-linear activation function. Chiefly implemented in hidden layers of Neural network.\n",
        "  \n",
        "  \"Range\" is f (x) = max (0, x)\n",
        "          0 to infinite.\n",
        "\n",
        "  \"Mean squared error (MSE)\" — This finds the average squared difference between the predicted value and the true value.\n",
        "\n",
        "  9(col)(i/p layer) - 64(inner layer) - 32(inner layer) - 16(inner alyer) - 8(inner layer- 1(o/p).\n",
        "\n",
        "    loss='mse', \n",
        "    optimizer = \"adam\", \n",
        "    metrics=['mae'])\n",
        "    model.fit(train_X,y_train), \n",
        "    epochs = 150, \n",
        "    batch_size = 100, \n",
        "    validation_data = (test_X, y_test)\n",
        "\n",
        "The output is quite good. As we can see the variation in Loss."
      ]
    },
    {
      "cell_type": "markdown",
      "metadata": {
        "id": "ZiywQ4KF9Z8b"
      },
      "source": [
        "# model -2 "
      ]
    },
    {
      "cell_type": "code",
      "metadata": {
        "id": "j1hNudM07IlI"
      },
      "source": [
        "model_2 = Sequential()\n",
        "# 9(cols) i/p layer - 128(col)(inner layer) - 64(inner layer) - 32(inner layer) - 16(inner alyer) - 8(inner layer- 1(o/p)\n",
        "model_2.add(Dense(128, input_shape = (9, ), kernel_initializer='normal', activation = \"elu\"))\n",
        "model_2.add(Dense(64, activation = \"elu\"))\n",
        "model_2.add(Dense(32, activation = \"elu\"))\n",
        "model_2.add(Dense(16, activation = \"elu\"))\n",
        "model_2.add(Dense(8, activation = \"elu\"))\n",
        "model_2.add(Dense(1, activation = \"linear\"))\n"
      ],
      "execution_count": 28,
      "outputs": []
    },
    {
      "cell_type": "code",
      "metadata": {
        "colab": {
          "base_uri": "https://localhost:8080/"
        },
        "id": "spnzs-AfY1qx",
        "outputId": "1727758e-3f23-48cf-fe10-f259ff3acece"
      },
      "source": [
        "print(model_2.summary())"
      ],
      "execution_count": 29,
      "outputs": [
        {
          "output_type": "stream",
          "name": "stdout",
          "text": [
            "Model: \"sequential_1\"\n",
            "_________________________________________________________________\n",
            "Layer (type)                 Output Shape              Param #   \n",
            "=================================================================\n",
            "dense_5 (Dense)              (None, 128)               1280      \n",
            "_________________________________________________________________\n",
            "dense_6 (Dense)              (None, 64)                8256      \n",
            "_________________________________________________________________\n",
            "dense_7 (Dense)              (None, 32)                2080      \n",
            "_________________________________________________________________\n",
            "dense_8 (Dense)              (None, 16)                528       \n",
            "_________________________________________________________________\n",
            "dense_9 (Dense)              (None, 8)                 136       \n",
            "_________________________________________________________________\n",
            "dense_10 (Dense)             (None, 1)                 9         \n",
            "=================================================================\n",
            "Total params: 12,289\n",
            "Trainable params: 12,289\n",
            "Non-trainable params: 0\n",
            "_________________________________________________________________\n",
            "None\n"
          ]
        }
      ]
    },
    {
      "cell_type": "code",
      "metadata": {
        "id": "zYiInweoY7GR",
        "colab": {
          "base_uri": "https://localhost:8080/"
        },
        "outputId": "a8f846eb-3ea6-4a30-a9f4-3c3dd3387653"
      },
      "source": [
        "model_2.compile(loss='mse', optimizer = \"adam\", metrics=['mae'])\n",
        "result_2 = model_2.fit(train_X,y_train, epochs = 90, batch_size = 90, validation_data = (test_X, y_test))"
      ],
      "execution_count": 30,
      "outputs": [
        {
          "output_type": "stream",
          "name": "stdout",
          "text": [
            "Epoch 1/90\n",
            "480/480 [==============================] - 3s 4ms/step - loss: 18993652.0000 - mae: 3161.4138 - val_loss: 14943479.0000 - val_mae: 2989.7173\n",
            "Epoch 2/90\n",
            "480/480 [==============================] - 2s 4ms/step - loss: 10184062.0000 - mae: 2292.5110 - val_loss: 2751840.5000 - val_mae: 1199.7994\n",
            "Epoch 3/90\n",
            "480/480 [==============================] - 2s 4ms/step - loss: 1875944.5000 - mae: 843.0745 - val_loss: 1464082.0000 - val_mae: 708.2310\n",
            "Epoch 4/90\n",
            "480/480 [==============================] - 2s 4ms/step - loss: 1432204.8750 - mae: 672.1609 - val_loss: 1337392.5000 - val_mae: 656.0918\n",
            "Epoch 5/90\n",
            "480/480 [==============================] - 2s 4ms/step - loss: 1397629.3750 - mae: 668.1394 - val_loss: 1340198.8750 - val_mae: 657.2212\n",
            "Epoch 6/90\n",
            "480/480 [==============================] - 2s 4ms/step - loss: 1387953.3750 - mae: 667.4263 - val_loss: 1319881.3750 - val_mae: 651.8909\n",
            "Epoch 7/90\n",
            "480/480 [==============================] - 2s 4ms/step - loss: 1374658.5000 - mae: 665.5244 - val_loss: 1324436.0000 - val_mae: 655.8254\n",
            "Epoch 8/90\n",
            "480/480 [==============================] - 2s 4ms/step - loss: 1365232.3750 - mae: 664.1147 - val_loss: 1318260.0000 - val_mae: 667.7473\n",
            "Epoch 9/90\n",
            "480/480 [==============================] - 2s 4ms/step - loss: 1365184.1250 - mae: 663.7686 - val_loss: 1318264.7500 - val_mae: 659.1241\n",
            "Epoch 10/90\n",
            "480/480 [==============================] - 2s 4ms/step - loss: 1370880.1250 - mae: 667.6880 - val_loss: 1298847.6250 - val_mae: 653.3499\n",
            "Epoch 11/90\n",
            "480/480 [==============================] - 2s 4ms/step - loss: 1354934.3750 - mae: 663.3820 - val_loss: 1299639.7500 - val_mae: 650.4730\n",
            "Epoch 12/90\n",
            "480/480 [==============================] - 2s 4ms/step - loss: 1352989.2500 - mae: 664.2718 - val_loss: 1295181.5000 - val_mae: 648.3917\n",
            "Epoch 13/90\n",
            "480/480 [==============================] - 2s 4ms/step - loss: 1344199.0000 - mae: 661.8533 - val_loss: 1403365.3750 - val_mae: 697.9030\n",
            "Epoch 14/90\n",
            "480/480 [==============================] - 2s 4ms/step - loss: 1335343.3750 - mae: 659.9222 - val_loss: 1290639.7500 - val_mae: 649.2875\n",
            "Epoch 15/90\n",
            "480/480 [==============================] - 2s 4ms/step - loss: 1341381.3750 - mae: 661.6730 - val_loss: 1424964.0000 - val_mae: 679.1047\n",
            "Epoch 16/90\n",
            "480/480 [==============================] - 2s 4ms/step - loss: 1338738.3750 - mae: 660.2701 - val_loss: 1378587.2500 - val_mae: 666.4947\n",
            "Epoch 17/90\n",
            "480/480 [==============================] - 2s 4ms/step - loss: 1333549.0000 - mae: 658.6947 - val_loss: 1378053.7500 - val_mae: 664.8986\n",
            "Epoch 18/90\n",
            "480/480 [==============================] - 2s 4ms/step - loss: 1324869.6250 - mae: 656.4358 - val_loss: 1282453.5000 - val_mae: 641.4078\n",
            "Epoch 19/90\n",
            "480/480 [==============================] - 2s 4ms/step - loss: 1314446.2500 - mae: 653.5601 - val_loss: 1295079.3750 - val_mae: 669.1153\n",
            "Epoch 20/90\n",
            "480/480 [==============================] - 2s 4ms/step - loss: 1323970.6250 - mae: 657.6001 - val_loss: 1334919.3750 - val_mae: 674.5187\n",
            "Epoch 21/90\n",
            "480/480 [==============================] - 2s 4ms/step - loss: 1321435.0000 - mae: 657.0109 - val_loss: 1303252.3750 - val_mae: 644.6626\n",
            "Epoch 22/90\n",
            "480/480 [==============================] - 2s 4ms/step - loss: 1314922.0000 - mae: 654.9022 - val_loss: 1359953.1250 - val_mae: 658.5784\n",
            "Epoch 23/90\n",
            "480/480 [==============================] - 2s 4ms/step - loss: 1313603.6250 - mae: 655.1374 - val_loss: 1273747.7500 - val_mae: 643.4523\n",
            "Epoch 24/90\n",
            "480/480 [==============================] - 2s 4ms/step - loss: 1316573.6250 - mae: 657.1849 - val_loss: 1289620.0000 - val_mae: 640.6586\n",
            "Epoch 25/90\n",
            "480/480 [==============================] - 2s 4ms/step - loss: 1305944.5000 - mae: 651.2097 - val_loss: 1269274.7500 - val_mae: 638.6697\n",
            "Epoch 26/90\n",
            "480/480 [==============================] - 2s 4ms/step - loss: 1313026.1250 - mae: 657.1384 - val_loss: 1278820.7500 - val_mae: 637.6475\n",
            "Epoch 27/90\n",
            "480/480 [==============================] - 2s 5ms/step - loss: 1296438.1250 - mae: 647.5303 - val_loss: 1290164.7500 - val_mae: 672.0737\n",
            "Epoch 28/90\n",
            "480/480 [==============================] - 2s 4ms/step - loss: 1297587.1250 - mae: 649.9090 - val_loss: 1271130.6250 - val_mae: 643.4222\n",
            "Epoch 29/90\n",
            "480/480 [==============================] - 2s 4ms/step - loss: 1295106.6250 - mae: 648.4989 - val_loss: 1286194.6250 - val_mae: 655.6652\n",
            "Epoch 30/90\n",
            "480/480 [==============================] - 2s 4ms/step - loss: 1300382.7500 - mae: 651.2598 - val_loss: 1275727.6250 - val_mae: 641.7059\n",
            "Epoch 31/90\n",
            "480/480 [==============================] - 2s 4ms/step - loss: 1296078.2500 - mae: 648.9939 - val_loss: 1320137.7500 - val_mae: 646.2852\n",
            "Epoch 32/90\n",
            "480/480 [==============================] - 2s 4ms/step - loss: 1296313.0000 - mae: 649.5925 - val_loss: 1266647.6250 - val_mae: 640.5447\n",
            "Epoch 33/90\n",
            "480/480 [==============================] - 2s 5ms/step - loss: 1287706.7500 - mae: 646.0280 - val_loss: 1290251.6250 - val_mae: 639.3917\n",
            "Epoch 34/90\n",
            "480/480 [==============================] - 2s 4ms/step - loss: 1296112.2500 - mae: 649.4142 - val_loss: 1276860.0000 - val_mae: 643.2568\n",
            "Epoch 35/90\n",
            "480/480 [==============================] - 2s 4ms/step - loss: 1289226.8750 - mae: 646.6607 - val_loss: 1284361.0000 - val_mae: 646.7899\n",
            "Epoch 36/90\n",
            "480/480 [==============================] - 2s 4ms/step - loss: 1288569.7500 - mae: 645.6876 - val_loss: 1278263.2500 - val_mae: 657.0278\n",
            "Epoch 37/90\n",
            "480/480 [==============================] - 2s 4ms/step - loss: 1281289.7500 - mae: 644.6911 - val_loss: 1259638.1250 - val_mae: 639.6850\n",
            "Epoch 38/90\n",
            "480/480 [==============================] - 2s 4ms/step - loss: 1286898.3750 - mae: 644.6412 - val_loss: 1272973.0000 - val_mae: 642.5840\n",
            "Epoch 39/90\n",
            "480/480 [==============================] - 2s 4ms/step - loss: 1278984.3750 - mae: 644.1078 - val_loss: 1280636.2500 - val_mae: 648.8717\n",
            "Epoch 40/90\n",
            "480/480 [==============================] - 2s 4ms/step - loss: 1282778.6250 - mae: 644.0272 - val_loss: 1272651.8750 - val_mae: 643.0827\n",
            "Epoch 41/90\n",
            "480/480 [==============================] - 2s 4ms/step - loss: 1275095.8750 - mae: 641.4508 - val_loss: 1295350.7500 - val_mae: 653.0040\n",
            "Epoch 42/90\n",
            "480/480 [==============================] - 2s 4ms/step - loss: 1285211.6250 - mae: 645.4149 - val_loss: 1261992.2500 - val_mae: 640.4981\n",
            "Epoch 43/90\n",
            "480/480 [==============================] - 2s 4ms/step - loss: 1277249.2500 - mae: 641.2071 - val_loss: 1279539.1250 - val_mae: 639.6345\n",
            "Epoch 44/90\n",
            "480/480 [==============================] - 2s 4ms/step - loss: 1278997.8750 - mae: 642.7357 - val_loss: 1270355.8750 - val_mae: 630.8839\n",
            "Epoch 45/90\n",
            "480/480 [==============================] - 2s 5ms/step - loss: 1279515.1250 - mae: 641.6539 - val_loss: 1250601.6250 - val_mae: 635.4617\n",
            "Epoch 46/90\n",
            "480/480 [==============================] - 2s 5ms/step - loss: 1271559.0000 - mae: 638.6272 - val_loss: 1300346.8750 - val_mae: 639.8997\n",
            "Epoch 47/90\n",
            "480/480 [==============================] - 2s 4ms/step - loss: 1274275.3750 - mae: 642.0160 - val_loss: 1259872.6250 - val_mae: 625.8537\n",
            "Epoch 48/90\n",
            "480/480 [==============================] - 2s 4ms/step - loss: 1271065.5000 - mae: 639.2365 - val_loss: 1248410.8750 - val_mae: 625.1735\n",
            "Epoch 49/90\n",
            "480/480 [==============================] - 2s 4ms/step - loss: 1274477.0000 - mae: 639.6703 - val_loss: 1331924.6250 - val_mae: 672.3668\n",
            "Epoch 50/90\n",
            "480/480 [==============================] - 2s 4ms/step - loss: 1286365.0000 - mae: 643.7416 - val_loss: 1247499.0000 - val_mae: 635.0507\n",
            "Epoch 51/90\n",
            "480/480 [==============================] - 2s 4ms/step - loss: 1275387.0000 - mae: 639.2210 - val_loss: 1248383.6250 - val_mae: 623.9567\n",
            "Epoch 52/90\n",
            "480/480 [==============================] - 2s 4ms/step - loss: 1267739.6250 - mae: 637.3620 - val_loss: 1311512.8750 - val_mae: 638.3174\n",
            "Epoch 53/90\n",
            "480/480 [==============================] - 2s 4ms/step - loss: 1274469.1250 - mae: 638.9910 - val_loss: 1246628.2500 - val_mae: 632.4188\n",
            "Epoch 54/90\n",
            "480/480 [==============================] - 2s 4ms/step - loss: 1270765.5000 - mae: 639.7553 - val_loss: 1274477.6250 - val_mae: 633.0898\n",
            "Epoch 55/90\n",
            "480/480 [==============================] - 2s 4ms/step - loss: 1266651.0000 - mae: 634.5991 - val_loss: 1243035.3750 - val_mae: 630.0232\n",
            "Epoch 56/90\n",
            "480/480 [==============================] - 2s 4ms/step - loss: 1265544.5000 - mae: 636.1276 - val_loss: 1241300.7500 - val_mae: 625.2340\n",
            "Epoch 57/90\n",
            "480/480 [==============================] - 2s 4ms/step - loss: 1262200.1250 - mae: 633.3748 - val_loss: 1245418.2500 - val_mae: 628.1641\n",
            "Epoch 58/90\n",
            "480/480 [==============================] - 2s 4ms/step - loss: 1276793.2500 - mae: 639.8401 - val_loss: 1243014.2500 - val_mae: 627.3995\n",
            "Epoch 59/90\n",
            "480/480 [==============================] - 2s 4ms/step - loss: 1264012.0000 - mae: 634.1123 - val_loss: 1308896.7500 - val_mae: 638.1865\n",
            "Epoch 60/90\n",
            "480/480 [==============================] - 2s 4ms/step - loss: 1263126.7500 - mae: 633.4089 - val_loss: 1239155.7500 - val_mae: 620.6158\n",
            "Epoch 61/90\n",
            "480/480 [==============================] - 2s 4ms/step - loss: 1259411.8750 - mae: 632.8237 - val_loss: 1260279.5000 - val_mae: 623.2291\n",
            "Epoch 62/90\n",
            "480/480 [==============================] - 2s 4ms/step - loss: 1254726.5000 - mae: 631.0588 - val_loss: 1238475.2500 - val_mae: 626.2235\n",
            "Epoch 63/90\n",
            "480/480 [==============================] - 2s 4ms/step - loss: 1254688.2500 - mae: 632.4872 - val_loss: 1248901.5000 - val_mae: 640.9490\n",
            "Epoch 64/90\n",
            "480/480 [==============================] - 2s 4ms/step - loss: 1258844.6250 - mae: 630.0218 - val_loss: 1233789.0000 - val_mae: 619.7180\n",
            "Epoch 65/90\n",
            "480/480 [==============================] - 2s 4ms/step - loss: 1254165.0000 - mae: 631.1370 - val_loss: 1258195.7500 - val_mae: 640.6411\n",
            "Epoch 66/90\n",
            "480/480 [==============================] - 2s 4ms/step - loss: 1262236.5000 - mae: 632.8679 - val_loss: 1247206.7500 - val_mae: 617.8912\n",
            "Epoch 67/90\n",
            "480/480 [==============================] - 2s 4ms/step - loss: 1255472.7500 - mae: 629.7219 - val_loss: 1321775.0000 - val_mae: 683.1490\n",
            "Epoch 68/90\n",
            "480/480 [==============================] - 2s 4ms/step - loss: 1250201.3750 - mae: 627.7249 - val_loss: 1236193.8750 - val_mae: 619.9309\n",
            "Epoch 69/90\n",
            "480/480 [==============================] - 2s 4ms/step - loss: 1254049.2500 - mae: 630.7151 - val_loss: 1237559.8750 - val_mae: 620.1904\n",
            "Epoch 70/90\n",
            "480/480 [==============================] - 2s 4ms/step - loss: 1251882.1250 - mae: 628.7130 - val_loss: 1243712.0000 - val_mae: 629.0782\n",
            "Epoch 71/90\n",
            "480/480 [==============================] - 2s 4ms/step - loss: 1246186.0000 - mae: 626.5190 - val_loss: 1225387.3750 - val_mae: 620.8071\n",
            "Epoch 72/90\n",
            "480/480 [==============================] - 2s 4ms/step - loss: 1248596.1250 - mae: 627.7112 - val_loss: 1275508.6250 - val_mae: 625.2150\n",
            "Epoch 73/90\n",
            "480/480 [==============================] - 2s 5ms/step - loss: 1246823.1250 - mae: 626.9135 - val_loss: 1229694.3750 - val_mae: 628.9071\n",
            "Epoch 74/90\n",
            "480/480 [==============================] - 2s 4ms/step - loss: 1239335.7500 - mae: 622.5560 - val_loss: 1358954.1250 - val_mae: 655.6970\n",
            "Epoch 75/90\n",
            "480/480 [==============================] - 2s 4ms/step - loss: 1240824.1250 - mae: 624.0186 - val_loss: 1225255.3750 - val_mae: 614.4929\n",
            "Epoch 76/90\n",
            "480/480 [==============================] - 2s 4ms/step - loss: 1237590.3750 - mae: 621.6771 - val_loss: 1232678.6250 - val_mae: 613.0673\n",
            "Epoch 77/90\n",
            "480/480 [==============================] - 2s 4ms/step - loss: 1239158.1250 - mae: 624.5829 - val_loss: 1231387.7500 - val_mae: 612.0235\n",
            "Epoch 78/90\n",
            "480/480 [==============================] - 2s 4ms/step - loss: 1227938.5000 - mae: 618.2043 - val_loss: 1210088.1250 - val_mae: 606.6817\n",
            "Epoch 79/90\n",
            "480/480 [==============================] - 2s 4ms/step - loss: 1224405.2500 - mae: 617.3125 - val_loss: 1199962.8750 - val_mae: 603.3209\n",
            "Epoch 80/90\n",
            "480/480 [==============================] - 2s 4ms/step - loss: 1238234.3750 - mae: 623.2258 - val_loss: 1193971.1250 - val_mae: 603.9548\n",
            "Epoch 81/90\n",
            "480/480 [==============================] - 2s 4ms/step - loss: 1211785.5000 - mae: 611.5701 - val_loss: 1210615.3750 - val_mae: 606.8386\n",
            "Epoch 82/90\n",
            "480/480 [==============================] - 2s 4ms/step - loss: 1218901.7500 - mae: 615.7941 - val_loss: 1194413.7500 - val_mae: 611.3099\n",
            "Epoch 83/90\n",
            "480/480 [==============================] - 2s 4ms/step - loss: 1214395.1250 - mae: 612.2265 - val_loss: 1195537.2500 - val_mae: 603.4448\n",
            "Epoch 84/90\n",
            "480/480 [==============================] - 2s 4ms/step - loss: 1214978.7500 - mae: 612.5658 - val_loss: 1187132.2500 - val_mae: 602.3161\n",
            "Epoch 85/90\n",
            "480/480 [==============================] - 2s 4ms/step - loss: 1213424.8750 - mae: 615.2704 - val_loss: 1220777.1250 - val_mae: 603.3811\n",
            "Epoch 86/90\n",
            "480/480 [==============================] - 2s 4ms/step - loss: 1205212.8750 - mae: 612.1365 - val_loss: 1294614.0000 - val_mae: 624.0072\n",
            "Epoch 87/90\n",
            "480/480 [==============================] - 2s 4ms/step - loss: 1201728.6250 - mae: 609.5409 - val_loss: 1200731.0000 - val_mae: 610.4972\n",
            "Epoch 88/90\n",
            "480/480 [==============================] - 2s 4ms/step - loss: 1207572.1250 - mae: 613.0467 - val_loss: 1193953.8750 - val_mae: 604.8220\n",
            "Epoch 89/90\n",
            "480/480 [==============================] - 2s 4ms/step - loss: 1204667.3750 - mae: 610.6809 - val_loss: 1214887.5000 - val_mae: 649.8154\n",
            "Epoch 90/90\n",
            "480/480 [==============================] - 2s 4ms/step - loss: 1201385.0000 - mae: 610.5005 - val_loss: 1172109.7500 - val_mae: 595.7660\n"
          ]
        }
      ]
    },
    {
      "cell_type": "code",
      "metadata": {
        "colab": {
          "base_uri": "https://localhost:8080/",
          "height": 298
        },
        "id": "yloYSgopZhs-",
        "outputId": "c817ba63-e383-49d1-8470-72b854e40ca8"
      },
      "source": [
        "plt.plot(result_2.history['loss'],label='loss')\n",
        "plt.plot(result_2.history['val_loss'],label='val_loss')\n",
        "plt.legend()\n",
        "plt.title('elu with Linear(o/p)')"
      ],
      "execution_count": 31,
      "outputs": [
        {
          "output_type": "execute_result",
          "data": {
            "text/plain": [
              "Text(0.5, 1.0, 'elu with Linear(o/p)')"
            ]
          },
          "metadata": {},
          "execution_count": 31
        },
        {
          "output_type": "display_data",
          "data": {
            "image/png": "[encoded data removed]",
            "text/plain": [
              "<Figure size 432x288 with 1 Axes>"
            ]
          },
          "metadata": {
            "needs_background": "light"
          }
        }
      ]
    },
    {
      "cell_type": "markdown",
      "metadata": {
        "id": "8zlvLwER9uIL"
      },
      "source": [
        "# Observations :\n",
        "  Model = \"ELU\"\n",
        "\n",
        "  Exponential Linear Unit. This activation function fixes some of the problems with ReLUs and keeps some of the positive things. For this activation function, an alpha α value is picked; a common value is between 0.1 and 0.3 .\n",
        "\n",
        "  9(cols) i/p layer - 128(col)(inner layer) - 64(inner layer) - 32(inner layer) - 16(inner alyer) - 8(inner layer- 1(o/p)\n",
        "\n",
        "    loss='mse', \n",
        "    optimizer = \"adam\", \n",
        "    metrics=['mae'])\n",
        "    model.fit(train_X,y_train), \n",
        "    epochs = 90, \n",
        "    batch_size = 90, \n",
        "    validation_data = (test_X, y_test)"
      ]
    },
    {
      "cell_type": "markdown",
      "metadata": {
        "id": "cfVZqR879t0F"
      },
      "source": [
        "# model - 3"
      ]
    },
    {
      "cell_type": "code",
      "metadata": {
        "id": "E8D8IQ82acW3"
      },
      "source": [
        "model_3 = Sequential()\n",
        "# 9(col)(i/p layer) - 256(inner layer) - 128(inner layer) - 64(inner layer) - 32(inner layer) - 16(inner alyer) - 8(inner layer- 1(o/p)\n",
        "model_3.add(Dense(256, input_shape = (9, ), kernel_initializer='normal', activation = \"LeakyReLU\"))\n",
        "model_3.add(Dense(64, activation = \"LeakyReLU\"))\n",
        "model_3.add(Dense(64, activation = \"LeakyReLU\"))\n",
        "model_3.add(Dense(32, activation = \"LeakyReLU\"))\n",
        "model_3.add(Dense(16, activation = \"LeakyReLU\"))\n",
        "model_3.add(Dense(8, activation = \"LeakyReLU\"))\n",
        "model_3.add(Dense(1, activation = \"linear\"))\n"
      ],
      "execution_count": 32,
      "outputs": []
    },
    {
      "cell_type": "code",
      "metadata": {
        "colab": {
          "base_uri": "https://localhost:8080/"
        },
        "id": "NWsXA13hanZe",
        "outputId": "d682f451-1896-403b-d889-a537fc17b60d"
      },
      "source": [
        "print(model_3.summary())"
      ],
      "execution_count": 33,
      "outputs": [
        {
          "output_type": "stream",
          "name": "stdout",
          "text": [
            "Model: \"sequential_2\"\n",
            "_________________________________________________________________\n",
            "Layer (type)                 Output Shape              Param #   \n",
            "=================================================================\n",
            "dense_11 (Dense)             (None, 256)               2560      \n",
            "_________________________________________________________________\n",
            "dense_12 (Dense)             (None, 64)                16448     \n",
            "_________________________________________________________________\n",
            "dense_13 (Dense)             (None, 64)                4160      \n",
            "_________________________________________________________________\n",
            "dense_14 (Dense)             (None, 32)                2080      \n",
            "_________________________________________________________________\n",
            "dense_15 (Dense)             (None, 16)                528       \n",
            "_________________________________________________________________\n",
            "dense_16 (Dense)             (None, 8)                 136       \n",
            "_________________________________________________________________\n",
            "dense_17 (Dense)             (None, 1)                 9         \n",
            "=================================================================\n",
            "Total params: 25,921\n",
            "Trainable params: 25,921\n",
            "Non-trainable params: 0\n",
            "_________________________________________________________________\n",
            "None\n"
          ]
        }
      ]
    },
    {
      "cell_type": "code",
      "metadata": {
        "colab": {
          "base_uri": "https://localhost:8080/"
        },
        "id": "Nm6SLG3CapNJ",
        "outputId": "b62ffc9c-fc95-476e-e971-98aa359a6e03"
      },
      "source": [
        "model_3.compile(loss='mse', optimizer = \"adam\", metrics=['mae'])\n",
        "result_3 = model_3.fit(train_X,y_train, epochs = 100, batch_size = 100, validation_data = (test_X, y_test))"
      ],
      "execution_count": 34,
      "outputs": [
        {
          "output_type": "stream",
          "name": "stdout",
          "text": [
            "Epoch 1/100\n",
            "432/432 [==============================] - 3s 5ms/step - loss: 17843384.0000 - mae: 3100.6606 - val_loss: 13837028.0000 - val_mae: 2853.6411\n",
            "Epoch 2/100\n",
            "432/432 [==============================] - 2s 4ms/step - loss: 5325019.0000 - mae: 1468.4788 - val_loss: 1713956.0000 - val_mae: 800.0886\n",
            "Epoch 3/100\n",
            "432/432 [==============================] - 2s 4ms/step - loss: 1730397.5000 - mae: 763.6251 - val_loss: 1548523.3750 - val_mae: 779.1408\n",
            "Epoch 4/100\n",
            "432/432 [==============================] - 2s 5ms/step - loss: 1647998.0000 - mae: 740.1476 - val_loss: 1575442.8750 - val_mae: 743.5415\n",
            "Epoch 5/100\n",
            "432/432 [==============================] - 2s 5ms/step - loss: 1599221.2500 - mae: 725.6727 - val_loss: 1468006.0000 - val_mae: 742.6025\n",
            "Epoch 6/100\n",
            "432/432 [==============================] - 2s 5ms/step - loss: 1583691.1250 - mae: 714.7352 - val_loss: 1400148.6250 - val_mae: 682.8460\n",
            "Epoch 7/100\n",
            "432/432 [==============================] - 2s 5ms/step - loss: 1534332.8750 - mae: 687.9711 - val_loss: 1492854.8750 - val_mae: 735.9173\n",
            "Epoch 8/100\n",
            "432/432 [==============================] - 2s 4ms/step - loss: 1520055.5000 - mae: 683.2745 - val_loss: 1353310.8750 - val_mae: 663.5717\n",
            "Epoch 9/100\n",
            "432/432 [==============================] - 2s 4ms/step - loss: 1480579.3750 - mae: 668.9692 - val_loss: 1353093.6250 - val_mae: 671.0828\n",
            "Epoch 10/100\n",
            "432/432 [==============================] - 2s 4ms/step - loss: 1476271.3750 - mae: 667.2164 - val_loss: 1349837.6250 - val_mae: 657.0235\n",
            "Epoch 11/100\n",
            "432/432 [==============================] - 2s 4ms/step - loss: 1450264.5000 - mae: 658.8653 - val_loss: 1355499.3750 - val_mae: 648.6059\n",
            "Epoch 12/100\n",
            "432/432 [==============================] - 2s 5ms/step - loss: 1436915.8750 - mae: 655.3177 - val_loss: 1363561.5000 - val_mae: 680.5080\n",
            "Epoch 13/100\n",
            "432/432 [==============================] - 2s 4ms/step - loss: 1430936.7500 - mae: 653.5145 - val_loss: 1372418.6250 - val_mae: 682.8785\n",
            "Epoch 14/100\n",
            "432/432 [==============================] - 2s 4ms/step - loss: 1412875.7500 - mae: 648.0157 - val_loss: 1295895.0000 - val_mae: 626.9254\n",
            "Epoch 15/100\n",
            "432/432 [==============================] - 2s 5ms/step - loss: 1390744.5000 - mae: 640.1551 - val_loss: 1319200.8750 - val_mae: 641.3002\n",
            "Epoch 16/100\n",
            "432/432 [==============================] - 2s 4ms/step - loss: 1393554.2500 - mae: 643.4185 - val_loss: 1277876.2500 - val_mae: 620.8846\n",
            "Epoch 17/100\n",
            "432/432 [==============================] - 2s 4ms/step - loss: 1375598.2500 - mae: 638.2465 - val_loss: 1347143.2500 - val_mae: 641.1204\n",
            "Epoch 18/100\n",
            "432/432 [==============================] - 2s 5ms/step - loss: 1363189.1250 - mae: 635.7336 - val_loss: 1291423.8750 - val_mae: 621.6097\n",
            "Epoch 19/100\n",
            "432/432 [==============================] - 2s 4ms/step - loss: 1363313.0000 - mae: 638.1846 - val_loss: 1290714.7500 - val_mae: 630.0768\n",
            "Epoch 20/100\n",
            "432/432 [==============================] - 2s 4ms/step - loss: 1343678.6250 - mae: 632.4249 - val_loss: 1316882.2500 - val_mae: 625.0219\n",
            "Epoch 21/100\n",
            "432/432 [==============================] - 2s 5ms/step - loss: 1337485.3750 - mae: 629.8770 - val_loss: 1260908.8750 - val_mae: 614.0781\n",
            "Epoch 22/100\n",
            "432/432 [==============================] - 2s 4ms/step - loss: 1332043.1250 - mae: 631.7649 - val_loss: 1301041.8750 - val_mae: 647.1345\n",
            "Epoch 23/100\n",
            "432/432 [==============================] - 2s 4ms/step - loss: 1324057.3750 - mae: 629.5947 - val_loss: 1253781.7500 - val_mae: 613.3042\n",
            "Epoch 24/100\n",
            "432/432 [==============================] - 2s 4ms/step - loss: 1315101.2500 - mae: 626.9258 - val_loss: 1399867.2500 - val_mae: 660.0257\n",
            "Epoch 25/100\n",
            "432/432 [==============================] - 2s 4ms/step - loss: 1304676.5000 - mae: 623.2609 - val_loss: 1246597.2500 - val_mae: 612.7755\n",
            "Epoch 26/100\n",
            "432/432 [==============================] - 2s 4ms/step - loss: 1308075.7500 - mae: 628.3498 - val_loss: 1239047.2500 - val_mae: 607.4473\n",
            "Epoch 27/100\n",
            "432/432 [==============================] - 2s 4ms/step - loss: 1283276.2500 - mae: 617.5213 - val_loss: 1269189.1250 - val_mae: 617.7867\n",
            "Epoch 28/100\n",
            "432/432 [==============================] - 2s 4ms/step - loss: 1298957.7500 - mae: 626.4400 - val_loss: 1248756.7500 - val_mae: 617.2963\n",
            "Epoch 29/100\n",
            "432/432 [==============================] - 2s 4ms/step - loss: 1281638.7500 - mae: 620.4464 - val_loss: 1310133.8750 - val_mae: 641.9009\n",
            "Epoch 30/100\n",
            "432/432 [==============================] - 2s 4ms/step - loss: 1291613.6250 - mae: 628.2115 - val_loss: 1229655.0000 - val_mae: 607.4304\n",
            "Epoch 31/100\n",
            "432/432 [==============================] - 2s 4ms/step - loss: 1267990.2500 - mae: 618.3875 - val_loss: 1232183.2500 - val_mae: 606.5031\n",
            "Epoch 32/100\n",
            "432/432 [==============================] - 2s 4ms/step - loss: 1259972.6250 - mae: 615.4161 - val_loss: 1274965.8750 - val_mae: 624.8224\n",
            "Epoch 33/100\n",
            "432/432 [==============================] - 2s 5ms/step - loss: 1272942.7500 - mae: 624.0859 - val_loss: 1217156.0000 - val_mae: 604.7807\n",
            "Epoch 34/100\n",
            "432/432 [==============================] - 2s 4ms/step - loss: 1246231.1250 - mae: 613.1028 - val_loss: 1223333.2500 - val_mae: 600.2698\n",
            "Epoch 35/100\n",
            "432/432 [==============================] - 2s 4ms/step - loss: 1244981.8750 - mae: 612.5099 - val_loss: 1290053.5000 - val_mae: 624.9182\n",
            "Epoch 36/100\n",
            "432/432 [==============================] - 2s 4ms/step - loss: 1247594.2500 - mae: 614.5590 - val_loss: 1226970.8750 - val_mae: 604.0288\n",
            "Epoch 37/100\n",
            "432/432 [==============================] - 2s 4ms/step - loss: 1249033.5000 - mae: 617.3362 - val_loss: 1218692.0000 - val_mae: 610.8215\n",
            "Epoch 38/100\n",
            "432/432 [==============================] - 2s 4ms/step - loss: 1242158.1250 - mae: 615.4069 - val_loss: 1292244.0000 - val_mae: 637.2145\n",
            "Epoch 39/100\n",
            "432/432 [==============================] - 2s 4ms/step - loss: 1254836.1250 - mae: 621.8001 - val_loss: 1234826.7500 - val_mae: 642.9228\n",
            "Epoch 40/100\n",
            "432/432 [==============================] - 2s 4ms/step - loss: 1232393.2500 - mae: 611.2889 - val_loss: 1202961.7500 - val_mae: 600.6953\n",
            "Epoch 41/100\n",
            "432/432 [==============================] - 2s 5ms/step - loss: 1229180.8750 - mae: 610.5247 - val_loss: 1208212.5000 - val_mae: 598.7656\n",
            "Epoch 42/100\n",
            "432/432 [==============================] - 2s 5ms/step - loss: 1234220.6250 - mae: 614.0101 - val_loss: 1204714.0000 - val_mae: 597.6904\n",
            "Epoch 43/100\n",
            "432/432 [==============================] - 2s 5ms/step - loss: 1218859.3750 - mae: 610.0198 - val_loss: 1246257.1250 - val_mae: 614.5855\n",
            "Epoch 44/100\n",
            "432/432 [==============================] - 2s 4ms/step - loss: 1211773.6250 - mae: 607.0112 - val_loss: 1215260.2500 - val_mae: 617.0482\n",
            "Epoch 45/100\n",
            "432/432 [==============================] - 2s 4ms/step - loss: 1216721.5000 - mae: 610.8162 - val_loss: 1344221.1250 - val_mae: 627.7409\n",
            "Epoch 46/100\n",
            "432/432 [==============================] - 2s 4ms/step - loss: 1216061.0000 - mae: 609.8360 - val_loss: 1225894.1250 - val_mae: 626.0280\n",
            "Epoch 47/100\n",
            "432/432 [==============================] - 2s 4ms/step - loss: 1218682.8750 - mae: 613.6099 - val_loss: 1209395.8750 - val_mae: 599.0013\n",
            "Epoch 48/100\n",
            "432/432 [==============================] - 2s 5ms/step - loss: 1201234.3750 - mae: 606.5616 - val_loss: 1185365.7500 - val_mae: 598.0362\n",
            "Epoch 49/100\n",
            "432/432 [==============================] - 2s 4ms/step - loss: 1200116.2500 - mae: 607.2870 - val_loss: 1246508.0000 - val_mae: 606.6139\n",
            "Epoch 50/100\n",
            "432/432 [==============================] - 2s 4ms/step - loss: 1208460.5000 - mae: 613.5751 - val_loss: 1250510.7500 - val_mae: 649.7191\n",
            "Epoch 51/100\n",
            "432/432 [==============================] - 2s 5ms/step - loss: 1195082.7500 - mae: 608.1583 - val_loss: 1173078.6250 - val_mae: 590.7214\n",
            "Epoch 52/100\n",
            "432/432 [==============================] - 2s 5ms/step - loss: 1198040.3750 - mae: 608.0018 - val_loss: 1374213.3750 - val_mae: 724.7711\n",
            "Epoch 53/100\n",
            "432/432 [==============================] - 2s 4ms/step - loss: 1197034.7500 - mae: 611.4832 - val_loss: 1165172.2500 - val_mae: 601.7601\n",
            "Epoch 54/100\n",
            "432/432 [==============================] - 2s 4ms/step - loss: 1183133.8750 - mae: 607.3639 - val_loss: 1190023.6250 - val_mae: 600.6637\n",
            "Epoch 55/100\n",
            "432/432 [==============================] - 2s 4ms/step - loss: 1171350.2500 - mae: 605.8375 - val_loss: 1175323.2500 - val_mae: 605.8436\n",
            "Epoch 56/100\n",
            "432/432 [==============================] - 2s 4ms/step - loss: 1161912.3750 - mae: 600.7834 - val_loss: 1144652.3750 - val_mae: 583.2958\n",
            "Epoch 57/100\n",
            "432/432 [==============================] - 2s 4ms/step - loss: 1152436.0000 - mae: 596.9740 - val_loss: 1128348.1250 - val_mae: 583.8881\n",
            "Epoch 58/100\n",
            "432/432 [==============================] - 2s 4ms/step - loss: 1150598.3750 - mae: 599.5428 - val_loss: 1118828.2500 - val_mae: 577.4589\n",
            "Epoch 59/100\n",
            "432/432 [==============================] - 2s 5ms/step - loss: 1136770.0000 - mae: 594.4056 - val_loss: 1110101.8750 - val_mae: 571.7957\n",
            "Epoch 60/100\n",
            "432/432 [==============================] - 2s 4ms/step - loss: 1123954.6250 - mae: 589.7114 - val_loss: 1133288.0000 - val_mae: 585.6951\n",
            "Epoch 61/100\n",
            "432/432 [==============================] - 2s 4ms/step - loss: 1123050.1250 - mae: 590.3849 - val_loss: 1099129.2500 - val_mae: 574.2028\n",
            "Epoch 62/100\n",
            "432/432 [==============================] - 2s 4ms/step - loss: 1116279.0000 - mae: 587.3408 - val_loss: 1210575.5000 - val_mae: 649.5491\n",
            "Epoch 63/100\n",
            "432/432 [==============================] - 2s 4ms/step - loss: 1112854.3750 - mae: 586.5247 - val_loss: 1108249.3750 - val_mae: 571.7718\n",
            "Epoch 64/100\n",
            "432/432 [==============================] - 2s 4ms/step - loss: 1099433.3750 - mae: 582.1692 - val_loss: 1080446.0000 - val_mae: 575.7730\n",
            "Epoch 65/100\n",
            "432/432 [==============================] - 2s 5ms/step - loss: 1098566.7500 - mae: 581.6259 - val_loss: 1078289.7500 - val_mae: 565.3013\n",
            "Epoch 66/100\n",
            "432/432 [==============================] - 2s 5ms/step - loss: 1109613.5000 - mae: 587.5263 - val_loss: 1054434.0000 - val_mae: 558.4662\n",
            "Epoch 67/100\n",
            "432/432 [==============================] - 2s 4ms/step - loss: 1084027.6250 - mae: 578.2260 - val_loss: 1063927.8750 - val_mae: 560.2513\n",
            "Epoch 68/100\n",
            "432/432 [==============================] - 2s 4ms/step - loss: 1087235.3750 - mae: 580.1147 - val_loss: 1471551.7500 - val_mae: 755.9691\n",
            "Epoch 69/100\n",
            "432/432 [==============================] - 2s 5ms/step - loss: 1105764.7500 - mae: 587.8484 - val_loss: 1081257.7500 - val_mae: 577.4586\n",
            "Epoch 70/100\n",
            "432/432 [==============================] - 2s 4ms/step - loss: 1083939.7500 - mae: 578.5413 - val_loss: 1119306.7500 - val_mae: 595.2078\n",
            "Epoch 71/100\n",
            "432/432 [==============================] - 2s 4ms/step - loss: 1079691.7500 - mae: 577.7330 - val_loss: 1317143.5000 - val_mae: 705.5196\n",
            "Epoch 72/100\n",
            "432/432 [==============================] - 2s 5ms/step - loss: 1073790.3750 - mae: 576.1270 - val_loss: 1166210.6250 - val_mae: 603.7867\n",
            "Epoch 73/100\n",
            "432/432 [==============================] - 2s 4ms/step - loss: 1091285.1250 - mae: 584.0800 - val_loss: 1208557.8750 - val_mae: 626.7446\n",
            "Epoch 74/100\n",
            "432/432 [==============================] - 2s 4ms/step - loss: 1059716.5000 - mae: 572.0376 - val_loss: 1074918.3750 - val_mae: 571.8907\n",
            "Epoch 75/100\n",
            "432/432 [==============================] - 2s 5ms/step - loss: 1080641.2500 - mae: 579.3423 - val_loss: 1019778.1250 - val_mae: 552.8397\n",
            "Epoch 76/100\n",
            "432/432 [==============================] - 2s 4ms/step - loss: 1062679.8750 - mae: 572.0554 - val_loss: 1024580.1250 - val_mae: 560.9955\n",
            "Epoch 77/100\n",
            "432/432 [==============================] - 2s 4ms/step - loss: 1050295.3750 - mae: 567.3448 - val_loss: 1036811.7500 - val_mae: 556.6314\n",
            "Epoch 78/100\n",
            "432/432 [==============================] - 2s 4ms/step - loss: 1065288.6250 - mae: 574.4470 - val_loss: 1023351.1250 - val_mae: 550.0910\n",
            "Epoch 79/100\n",
            "432/432 [==============================] - 2s 5ms/step - loss: 1053064.6250 - mae: 569.2896 - val_loss: 1026540.7500 - val_mae: 552.1370\n",
            "Epoch 80/100\n",
            "432/432 [==============================] - 2s 4ms/step - loss: 1060550.2500 - mae: 574.0634 - val_loss: 1010132.2500 - val_mae: 547.3306\n",
            "Epoch 81/100\n",
            "432/432 [==============================] - 2s 5ms/step - loss: 1048458.5625 - mae: 566.8318 - val_loss: 1012788.1875 - val_mae: 556.6058\n",
            "Epoch 82/100\n",
            "432/432 [==============================] - 2s 4ms/step - loss: 1050708.3750 - mae: 568.7122 - val_loss: 1037453.4375 - val_mae: 559.7089\n",
            "Epoch 83/100\n",
            "432/432 [==============================] - 2s 4ms/step - loss: 1049259.6250 - mae: 567.8402 - val_loss: 1377601.3750 - val_mae: 684.2714\n",
            "Epoch 84/100\n",
            "432/432 [==============================] - 2s 5ms/step - loss: 1052519.7500 - mae: 568.1960 - val_loss: 1039333.5000 - val_mae: 570.2518\n",
            "Epoch 85/100\n",
            "432/432 [==============================] - 2s 5ms/step - loss: 1040653.6875 - mae: 565.6190 - val_loss: 1011528.6875 - val_mae: 552.1817\n",
            "Epoch 86/100\n",
            "432/432 [==============================] - 2s 5ms/step - loss: 1037033.0000 - mae: 564.7678 - val_loss: 1010489.6875 - val_mae: 545.9617\n",
            "Epoch 87/100\n",
            "432/432 [==============================] - 2s 5ms/step - loss: 1030050.3125 - mae: 559.0168 - val_loss: 1046734.5625 - val_mae: 592.7014\n",
            "Epoch 88/100\n",
            "432/432 [==============================] - 2s 5ms/step - loss: 1057544.5000 - mae: 574.2896 - val_loss: 1028039.4375 - val_mae: 576.4011\n",
            "Epoch 89/100\n",
            "432/432 [==============================] - 2s 4ms/step - loss: 1027673.8750 - mae: 558.5503 - val_loss: 1047490.5000 - val_mae: 564.3843\n",
            "Epoch 90/100\n",
            "432/432 [==============================] - 2s 4ms/step - loss: 1040083.6875 - mae: 564.3888 - val_loss: 1005465.7500 - val_mae: 545.3367\n",
            "Epoch 91/100\n",
            "432/432 [==============================] - 2s 4ms/step - loss: 1031327.5625 - mae: 562.5571 - val_loss: 987155.0625 - val_mae: 541.5950\n",
            "Epoch 92/100\n",
            "432/432 [==============================] - 2s 4ms/step - loss: 1035297.5000 - mae: 562.7453 - val_loss: 987095.3750 - val_mae: 549.5500\n",
            "Epoch 93/100\n",
            "432/432 [==============================] - 2s 5ms/step - loss: 1025754.4375 - mae: 561.3678 - val_loss: 996896.0625 - val_mae: 543.9727\n",
            "Epoch 94/100\n",
            "432/432 [==============================] - 2s 4ms/step - loss: 1017186.8125 - mae: 558.0317 - val_loss: 1004588.4375 - val_mae: 546.3479\n",
            "Epoch 95/100\n",
            "432/432 [==============================] - 2s 4ms/step - loss: 1024630.1875 - mae: 560.9058 - val_loss: 991616.4375 - val_mae: 542.6237\n",
            "Epoch 96/100\n",
            "432/432 [==============================] - 2s 4ms/step - loss: 1022761.3750 - mae: 561.8167 - val_loss: 994478.6250 - val_mae: 547.4283\n",
            "Epoch 97/100\n",
            "432/432 [==============================] - 2s 4ms/step - loss: 1024570.2500 - mae: 559.8350 - val_loss: 977745.1875 - val_mae: 547.7755\n",
            "Epoch 98/100\n",
            "432/432 [==============================] - 2s 5ms/step - loss: 1024666.6250 - mae: 562.2403 - val_loss: 1052667.8750 - val_mae: 570.4975\n",
            "Epoch 99/100\n",
            "432/432 [==============================] - 2s 5ms/step - loss: 1007856.5000 - mae: 553.9705 - val_loss: 967530.8125 - val_mae: 532.2837\n",
            "Epoch 100/100\n",
            "432/432 [==============================] - 2s 5ms/step - loss: 1023143.8125 - mae: 561.9835 - val_loss: 972601.4375 - val_mae: 540.6440\n"
          ]
        }
      ]
    },
    {
      "cell_type": "code",
      "metadata": {
        "colab": {
          "base_uri": "https://localhost:8080/",
          "height": 298
        },
        "id": "-ixZRJNuawwY",
        "outputId": "359140e3-958f-49a0-e10e-090734abfaec"
      },
      "source": [
        "plt.plot(result_3.history['loss'],label='loss')\n",
        "plt.plot(result_3.history['val_loss'],label='val_loss')\n",
        "plt.legend()\n",
        "plt.title('Leaky ReLU with Linear(o/p)')"
      ],
      "execution_count": 35,
      "outputs": [
        {
          "output_type": "execute_result",
          "data": {
            "text/plain": [
              "Text(0.5, 1.0, 'Leaky ReLU with Linear(o/p)')"
            ]
          },
          "metadata": {},
          "execution_count": 35
        },
        {
          "output_type": "display_data",
          "data": {
            "image/png": "[encoded data removed]",
            "text/plain": [
              "<Figure size 432x288 with 1 Axes>"
            ]
          },
          "metadata": {
            "needs_background": "light"
          }
        }
      ]
    },
    {
      "cell_type": "markdown",
      "metadata": {
        "id": "hsOkLPYN_d4D"
      },
      "source": [
        "# Observations:\n",
        "\n",
        "AF that introduce some small negative slope to the ReLU to sustain and keep the weight updates alive during the entire propagation process\n",
        "\n",
        "The alpha parameter was introduced as a solution to the ReLUs dead neuron problems such that the gradients will not be zero at any time during training\n",
        "\n",
        "f (x) = αx + x\n",
        "\n",
        "  9(col)(i/p layer) - 256(inner layer) - 128(inner layer) - 64(inner layer) - 32(inner layer) - 16(inner alyer) - 8(inner layer- 1(o/p)\n",
        "\n",
        "    loss='mse', \n",
        "    optimizer = \"adam\", \n",
        "    metrics=['mae'])\n",
        "    model.fit(train_X,y_train), \n",
        "    epochs = 100, \n",
        "    batch_size = 100, \n",
        "    validation_data = (test_X, y_test)"
      ]
    },
    {
      "cell_type": "markdown",
      "metadata": {
        "id": "uIooC9n_ALGU"
      },
      "source": [
        "# model - 4"
      ]
    },
    {
      "cell_type": "code",
      "metadata": {
        "id": "6GMBZtF_bmXE"
      },
      "source": [
        "model_4 = Sequential()\n",
        "# 9(col)(i/p layer) - 256(inner layer) - 128(inner layer) - 64(inner layer) - 32(inner layer) - 16(inner alyer) - 8(inner layer- 1(o/p)\n",
        "model_4.add(Dense(256, input_shape = (9, ), kernel_initializer='normal', activation = \"PReLU\"))\n",
        "model_4.add(layers.Dropout(0.2))\n",
        "model_4.add(Dense(128, activation = \"PReLU\"))\n",
        "model_4.add(layers.Dropout(0.2))\n",
        "model_4.add(Dense(64, activation = \"PReLU\"))\n",
        "model_4.add(layers.Dropout(0.2))\n",
        "model_4.add(Dense(32, activation = \"PReLU\"))\n",
        "model_4.add(layers.Dropout(0.2))\n",
        "model_4.add(Dense(16, activation = \"PReLU\"))\n",
        "model_4.add(layers.Dropout(0.2))\n",
        "model_4.add(Dense(8, activation = \"PReLU\"))\n",
        "model_4.add(layers.Dropout(0.2))\n",
        "model_4.add(Dense(1, activation = \"linear\"))\n",
        "\n"
      ],
      "execution_count": 36,
      "outputs": []
    },
    {
      "cell_type": "code",
      "metadata": {
        "colab": {
          "base_uri": "https://localhost:8080/"
        },
        "id": "UW9RFvwl1GVt",
        "outputId": "91d53071-038f-43f0-9e94-36ed08c0b517"
      },
      "source": [
        "print(model_4.summary())"
      ],
      "execution_count": 37,
      "outputs": [
        {
          "output_type": "stream",
          "name": "stdout",
          "text": [
            "Model: \"sequential_3\"\n",
            "_________________________________________________________________\n",
            "Layer (type)                 Output Shape              Param #   \n",
            "=================================================================\n",
            "dense_18 (Dense)             (None, 256)               2816      \n",
            "_________________________________________________________________\n",
            "dropout (Dropout)            (None, 256)               0         \n",
            "_________________________________________________________________\n",
            "dense_19 (Dense)             (None, 128)               33024     \n",
            "_________________________________________________________________\n",
            "dropout_1 (Dropout)          (None, 128)               0         \n",
            "_________________________________________________________________\n",
            "dense_20 (Dense)             (None, 64)                8320      \n",
            "_________________________________________________________________\n",
            "dropout_2 (Dropout)          (None, 64)                0         \n",
            "_________________________________________________________________\n",
            "dense_21 (Dense)             (None, 32)                2112      \n",
            "_________________________________________________________________\n",
            "dropout_3 (Dropout)          (None, 32)                0         \n",
            "_________________________________________________________________\n",
            "dense_22 (Dense)             (None, 16)                544       \n",
            "_________________________________________________________________\n",
            "dropout_4 (Dropout)          (None, 16)                0         \n",
            "_________________________________________________________________\n",
            "dense_23 (Dense)             (None, 8)                 144       \n",
            "_________________________________________________________________\n",
            "dropout_5 (Dropout)          (None, 8)                 0         \n",
            "_________________________________________________________________\n",
            "dense_24 (Dense)             (None, 1)                 9         \n",
            "=================================================================\n",
            "Total params: 46,969\n",
            "Trainable params: 46,969\n",
            "Non-trainable params: 0\n",
            "_________________________________________________________________\n",
            "None\n"
          ]
        }
      ]
    },
    {
      "cell_type": "code",
      "metadata": {
        "colab": {
          "base_uri": "https://localhost:8080/"
        },
        "id": "pM1ilVXE53uY",
        "outputId": "cf9c5773-d291-44fa-9ef3-f16391fb62c0"
      },
      "source": [
        "model_4.compile(loss='mse', optimizer = \"adam\", metrics=['mae'])\n",
        "result_4 = model_4.fit(train_X,y_train, epochs = 120, batch_size = 80, validation_data = (test_X, y_test))"
      ],
      "execution_count": 38,
      "outputs": [
        {
          "output_type": "stream",
          "name": "stdout",
          "text": [
            "Epoch 1/120\n",
            "540/540 [==============================] - 4s 6ms/step - loss: 17865982.0000 - mae: 2991.5469 - val_loss: 3962738.0000 - val_mae: 1265.4113\n",
            "Epoch 2/120\n",
            "540/540 [==============================] - 3s 5ms/step - loss: 4267018.0000 - mae: 1211.4537 - val_loss: 1680383.2500 - val_mae: 750.7911\n",
            "Epoch 3/120\n",
            "540/540 [==============================] - 3s 6ms/step - loss: 3472561.2500 - mae: 1079.4956 - val_loss: 1400427.1250 - val_mae: 671.7448\n",
            "Epoch 4/120\n",
            "540/540 [==============================] - 3s 5ms/step - loss: 3469127.0000 - mae: 1062.3179 - val_loss: 2234646.0000 - val_mae: 877.3129\n",
            "Epoch 5/120\n",
            "540/540 [==============================] - 4s 7ms/step - loss: 3264304.7500 - mae: 1039.5752 - val_loss: 1422476.7500 - val_mae: 653.0972\n",
            "Epoch 6/120\n",
            "540/540 [==============================] - 3s 6ms/step - loss: 3346027.0000 - mae: 1054.3196 - val_loss: 1410074.8750 - val_mae: 649.7809\n",
            "Epoch 7/120\n",
            "540/540 [==============================] - 3s 6ms/step - loss: 3345395.0000 - mae: 1043.3374 - val_loss: 1438546.1250 - val_mae: 651.4161\n",
            "Epoch 8/120\n",
            "540/540 [==============================] - 3s 5ms/step - loss: 3413510.2500 - mae: 1052.3495 - val_loss: 1973409.8750 - val_mae: 809.8271\n",
            "Epoch 9/120\n",
            "540/540 [==============================] - 3s 5ms/step - loss: 3148037.7500 - mae: 1023.1873 - val_loss: 1447285.7500 - val_mae: 675.1136\n",
            "Epoch 10/120\n",
            "540/540 [==============================] - 3s 6ms/step - loss: 3205432.5000 - mae: 1027.5081 - val_loss: 1234820.6250 - val_mae: 615.0629\n",
            "Epoch 11/120\n",
            "540/540 [==============================] - 3s 6ms/step - loss: 3175584.0000 - mae: 1022.6332 - val_loss: 1403121.6250 - val_mae: 649.0495\n",
            "Epoch 12/120\n",
            "540/540 [==============================] - 3s 5ms/step - loss: 3164985.5000 - mae: 1020.6606 - val_loss: 1281656.6250 - val_mae: 619.3806\n",
            "Epoch 13/120\n",
            "540/540 [==============================] - 3s 6ms/step - loss: 3211063.2500 - mae: 1027.3789 - val_loss: 1444075.7500 - val_mae: 689.4440\n",
            "Epoch 14/120\n",
            "540/540 [==============================] - 3s 6ms/step - loss: 3264057.5000 - mae: 1032.4861 - val_loss: 1668471.3750 - val_mae: 758.6473\n",
            "Epoch 15/120\n",
            "540/540 [==============================] - 3s 6ms/step - loss: 3119508.0000 - mae: 1018.4791 - val_loss: 1282722.5000 - val_mae: 634.1342\n",
            "Epoch 16/120\n",
            "540/540 [==============================] - 3s 6ms/step - loss: 3116262.7500 - mae: 1015.9838 - val_loss: 1531499.8750 - val_mae: 655.2569\n",
            "Epoch 17/120\n",
            "540/540 [==============================] - 3s 6ms/step - loss: 3104954.7500 - mae: 1016.7511 - val_loss: 2228658.7500 - val_mae: 913.0287\n",
            "Epoch 18/120\n",
            "540/540 [==============================] - 3s 6ms/step - loss: 3126600.5000 - mae: 1019.3955 - val_loss: 1233224.3750 - val_mae: 608.2009\n",
            "Epoch 19/120\n",
            "540/540 [==============================] - 3s 6ms/step - loss: 3143647.0000 - mae: 1016.6724 - val_loss: 1191207.0000 - val_mae: 598.3832\n",
            "Epoch 20/120\n",
            "540/540 [==============================] - 3s 6ms/step - loss: 3095128.0000 - mae: 1014.4584 - val_loss: 1240117.3750 - val_mae: 612.6363\n",
            "Epoch 21/120\n",
            "540/540 [==============================] - 3s 6ms/step - loss: 3139540.0000 - mae: 1014.9672 - val_loss: 1263155.5000 - val_mae: 613.3076\n",
            "Epoch 22/120\n",
            "540/540 [==============================] - 3s 6ms/step - loss: 3120059.2500 - mae: 1023.7343 - val_loss: 1418058.3750 - val_mae: 679.1046\n",
            "Epoch 23/120\n",
            "540/540 [==============================] - 3s 6ms/step - loss: 3067093.0000 - mae: 1006.1191 - val_loss: 1305793.8750 - val_mae: 628.4492\n",
            "Epoch 24/120\n",
            "540/540 [==============================] - 3s 5ms/step - loss: 3021517.5000 - mae: 1007.0954 - val_loss: 1282880.0000 - val_mae: 619.1690\n",
            "Epoch 25/120\n",
            "540/540 [==============================] - 3s 6ms/step - loss: 3135714.7500 - mae: 1014.7092 - val_loss: 1384564.3750 - val_mae: 636.9773\n",
            "Epoch 26/120\n",
            "540/540 [==============================] - 3s 6ms/step - loss: 3065472.0000 - mae: 1007.3463 - val_loss: 1147327.5000 - val_mae: 589.3401\n",
            "Epoch 27/120\n",
            "540/540 [==============================] - 3s 6ms/step - loss: 3055208.0000 - mae: 1004.8235 - val_loss: 1675420.3750 - val_mae: 700.6116\n",
            "Epoch 28/120\n",
            "540/540 [==============================] - 3s 6ms/step - loss: 3001901.2500 - mae: 1001.1326 - val_loss: 1131688.6250 - val_mae: 585.1238\n",
            "Epoch 29/120\n",
            "540/540 [==============================] - 3s 6ms/step - loss: 3053319.2500 - mae: 1003.6603 - val_loss: 1403990.2500 - val_mae: 668.9124\n",
            "Epoch 30/120\n",
            "540/540 [==============================] - 3s 6ms/step - loss: 3056960.0000 - mae: 1008.0080 - val_loss: 1340590.5000 - val_mae: 641.1273\n",
            "Epoch 31/120\n",
            "540/540 [==============================] - 3s 6ms/step - loss: 3056724.0000 - mae: 1001.1385 - val_loss: 1208634.6250 - val_mae: 607.9857\n",
            "Epoch 32/120\n",
            "540/540 [==============================] - 3s 6ms/step - loss: 3003316.2500 - mae: 994.0615 - val_loss: 1801141.2500 - val_mae: 776.5148\n",
            "Epoch 33/120\n",
            "540/540 [==============================] - 3s 5ms/step - loss: 2990660.0000 - mae: 995.5481 - val_loss: 1220163.1250 - val_mae: 607.3980\n",
            "Epoch 34/120\n",
            "540/540 [==============================] - 3s 5ms/step - loss: 2997598.0000 - mae: 991.4748 - val_loss: 1182733.8750 - val_mae: 589.0071\n",
            "Epoch 35/120\n",
            "540/540 [==============================] - 3s 5ms/step - loss: 2998655.0000 - mae: 989.5924 - val_loss: 1373181.5000 - val_mae: 667.7665\n",
            "Epoch 36/120\n",
            "540/540 [==============================] - 3s 6ms/step - loss: 2986469.5000 - mae: 993.4194 - val_loss: 1181928.1250 - val_mae: 593.1409\n",
            "Epoch 37/120\n",
            "540/540 [==============================] - 3s 6ms/step - loss: 2918424.7500 - mae: 983.5223 - val_loss: 1332558.3750 - val_mae: 638.9340\n",
            "Epoch 38/120\n",
            "540/540 [==============================] - 3s 6ms/step - loss: 3024446.0000 - mae: 1001.1072 - val_loss: 1118926.1250 - val_mae: 607.4240\n",
            "Epoch 39/120\n",
            "540/540 [==============================] - 3s 6ms/step - loss: 2892461.2500 - mae: 984.1585 - val_loss: 1393874.0000 - val_mae: 697.4506\n",
            "Epoch 40/120\n",
            "540/540 [==============================] - 3s 6ms/step - loss: 2969702.7500 - mae: 995.8277 - val_loss: 1387874.5000 - val_mae: 649.4151\n",
            "Epoch 41/120\n",
            "540/540 [==============================] - 3s 6ms/step - loss: 2984934.5000 - mae: 991.0500 - val_loss: 1344427.7500 - val_mae: 661.7172\n",
            "Epoch 42/120\n",
            "540/540 [==============================] - 3s 5ms/step - loss: 3022379.7500 - mae: 1000.6833 - val_loss: 1061615.0000 - val_mae: 578.8961\n",
            "Epoch 43/120\n",
            "540/540 [==============================] - 3s 6ms/step - loss: 3003200.2500 - mae: 989.6313 - val_loss: 1120779.2500 - val_mae: 615.9125\n",
            "Epoch 44/120\n",
            "540/540 [==============================] - 3s 6ms/step - loss: 2924183.0000 - mae: 987.8134 - val_loss: 1068318.6250 - val_mae: 596.6099\n",
            "Epoch 45/120\n",
            "540/540 [==============================] - 3s 6ms/step - loss: 2882542.2500 - mae: 978.0681 - val_loss: 1112870.8750 - val_mae: 574.1322\n",
            "Epoch 46/120\n",
            "540/540 [==============================] - 3s 6ms/step - loss: 2977357.0000 - mae: 983.1523 - val_loss: 1045328.1250 - val_mae: 556.0620\n",
            "Epoch 47/120\n",
            "540/540 [==============================] - 3s 6ms/step - loss: 2929418.0000 - mae: 985.8551 - val_loss: 1105041.3750 - val_mae: 571.2321\n",
            "Epoch 48/120\n",
            "540/540 [==============================] - 3s 6ms/step - loss: 2959222.5000 - mae: 989.2328 - val_loss: 1564212.6250 - val_mae: 711.1208\n",
            "Epoch 49/120\n",
            "540/540 [==============================] - 3s 6ms/step - loss: 2920627.2500 - mae: 980.1224 - val_loss: 1696738.0000 - val_mae: 780.0840\n",
            "Epoch 50/120\n",
            "540/540 [==============================] - 3s 6ms/step - loss: 2902607.7500 - mae: 976.9382 - val_loss: 1308313.2500 - val_mae: 619.2836\n",
            "Epoch 51/120\n",
            "540/540 [==============================] - 3s 6ms/step - loss: 2924378.7500 - mae: 983.8753 - val_loss: 1216934.8750 - val_mae: 590.6418\n",
            "Epoch 52/120\n",
            "540/540 [==============================] - 3s 5ms/step - loss: 3005407.0000 - mae: 992.5093 - val_loss: 1139560.7500 - val_mae: 579.7350\n",
            "Epoch 53/120\n",
            "540/540 [==============================] - 3s 6ms/step - loss: 2873092.5000 - mae: 972.6036 - val_loss: 1038830.9375 - val_mae: 571.3464\n",
            "Epoch 54/120\n",
            "540/540 [==============================] - 3s 6ms/step - loss: 2924542.2500 - mae: 979.5184 - val_loss: 1307293.6250 - val_mae: 649.1381\n",
            "Epoch 55/120\n",
            "540/540 [==============================] - 3s 6ms/step - loss: 2952294.0000 - mae: 986.6996 - val_loss: 1150692.7500 - val_mae: 573.8115\n",
            "Epoch 56/120\n",
            "540/540 [==============================] - 3s 6ms/step - loss: 2871538.5000 - mae: 970.0598 - val_loss: 1063754.6250 - val_mae: 563.9329\n",
            "Epoch 57/120\n",
            "540/540 [==============================] - 3s 6ms/step - loss: 2952234.2500 - mae: 982.0986 - val_loss: 1171807.2500 - val_mae: 585.6028\n",
            "Epoch 58/120\n",
            "540/540 [==============================] - 4s 7ms/step - loss: 2880836.2500 - mae: 977.9366 - val_loss: 1138032.7500 - val_mae: 592.3862\n",
            "Epoch 59/120\n",
            "540/540 [==============================] - 3s 5ms/step - loss: 2847324.0000 - mae: 973.4961 - val_loss: 1107556.0000 - val_mae: 581.7516\n",
            "Epoch 60/120\n",
            "540/540 [==============================] - 3s 6ms/step - loss: 2853174.2500 - mae: 971.2782 - val_loss: 1067793.3750 - val_mae: 556.3167\n",
            "Epoch 61/120\n",
            "540/540 [==============================] - 3s 6ms/step - loss: 2856385.5000 - mae: 971.6465 - val_loss: 1150541.1250 - val_mae: 618.9175\n",
            "Epoch 62/120\n",
            "540/540 [==============================] - 3s 6ms/step - loss: 2831269.5000 - mae: 967.9800 - val_loss: 1003977.8750 - val_mae: 554.5232\n",
            "Epoch 63/120\n",
            "540/540 [==============================] - 3s 6ms/step - loss: 2770279.2500 - mae: 957.5214 - val_loss: 1038642.0000 - val_mae: 582.4567\n",
            "Epoch 64/120\n",
            "540/540 [==============================] - 3s 6ms/step - loss: 2832689.0000 - mae: 963.8682 - val_loss: 1322949.3750 - val_mae: 612.0305\n",
            "Epoch 65/120\n",
            "540/540 [==============================] - 3s 6ms/step - loss: 2763724.0000 - mae: 960.1559 - val_loss: 1108852.5000 - val_mae: 572.5629\n",
            "Epoch 66/120\n",
            "540/540 [==============================] - 3s 6ms/step - loss: 2775204.0000 - mae: 956.5897 - val_loss: 1023682.1250 - val_mae: 601.8712\n",
            "Epoch 67/120\n",
            "540/540 [==============================] - 3s 6ms/step - loss: 2778815.0000 - mae: 953.4041 - val_loss: 1657285.0000 - val_mae: 743.0716\n",
            "Epoch 68/120\n",
            "540/540 [==============================] - 3s 6ms/step - loss: 2763820.5000 - mae: 959.0470 - val_loss: 1040988.6250 - val_mae: 567.3261\n",
            "Epoch 69/120\n",
            "540/540 [==============================] - 3s 6ms/step - loss: 2675182.5000 - mae: 949.0228 - val_loss: 1164721.8750 - val_mae: 578.0313\n",
            "Epoch 70/120\n",
            "540/540 [==============================] - 3s 6ms/step - loss: 2681509.5000 - mae: 947.5909 - val_loss: 1088426.6250 - val_mae: 591.3450\n",
            "Epoch 71/120\n",
            "540/540 [==============================] - 3s 5ms/step - loss: 2687043.2500 - mae: 946.0905 - val_loss: 1091925.7500 - val_mae: 570.0875\n",
            "Epoch 72/120\n",
            "540/540 [==============================] - 3s 6ms/step - loss: 2758810.2500 - mae: 957.1789 - val_loss: 1029225.1875 - val_mae: 560.0472\n",
            "Epoch 73/120\n",
            "540/540 [==============================] - 3s 5ms/step - loss: 2680769.2500 - mae: 946.3157 - val_loss: 876669.1250 - val_mae: 537.3720\n",
            "Epoch 74/120\n",
            "540/540 [==============================] - 3s 6ms/step - loss: 2647901.5000 - mae: 940.7173 - val_loss: 912680.9375 - val_mae: 557.4163\n",
            "Epoch 75/120\n",
            "540/540 [==============================] - 3s 6ms/step - loss: 2729961.7500 - mae: 955.0377 - val_loss: 1191248.0000 - val_mae: 635.5403\n",
            "Epoch 76/120\n",
            "540/540 [==============================] - 4s 6ms/step - loss: 2595111.0000 - mae: 935.4059 - val_loss: 996263.7500 - val_mae: 569.0350\n",
            "Epoch 77/120\n",
            "540/540 [==============================] - 3s 6ms/step - loss: 2617084.7500 - mae: 936.1387 - val_loss: 805396.1875 - val_mae: 507.3740\n",
            "Epoch 78/120\n",
            "540/540 [==============================] - 3s 6ms/step - loss: 2629215.7500 - mae: 935.9500 - val_loss: 1130738.7500 - val_mae: 577.3901\n",
            "Epoch 79/120\n",
            "540/540 [==============================] - 3s 6ms/step - loss: 2637337.0000 - mae: 934.7405 - val_loss: 1069345.8750 - val_mae: 562.1153\n",
            "Epoch 80/120\n",
            "540/540 [==============================] - 4s 7ms/step - loss: 2594801.2500 - mae: 932.1565 - val_loss: 947532.8750 - val_mae: 548.2836\n",
            "Epoch 81/120\n",
            "540/540 [==============================] - 3s 6ms/step - loss: 2604913.7500 - mae: 933.7902 - val_loss: 747432.2500 - val_mae: 478.7911\n",
            "Epoch 82/120\n",
            "540/540 [==============================] - 3s 6ms/step - loss: 2580008.5000 - mae: 931.3231 - val_loss: 1349158.0000 - val_mae: 653.8582\n",
            "Epoch 83/120\n",
            "540/540 [==============================] - 3s 6ms/step - loss: 2667687.2500 - mae: 943.5513 - val_loss: 937649.8125 - val_mae: 530.4747\n",
            "Epoch 84/120\n",
            "540/540 [==============================] - 3s 6ms/step - loss: 2629982.0000 - mae: 933.8587 - val_loss: 1103141.5000 - val_mae: 563.9719\n",
            "Epoch 85/120\n",
            "540/540 [==============================] - 3s 6ms/step - loss: 2580010.2500 - mae: 930.6863 - val_loss: 759294.5000 - val_mae: 508.9972\n",
            "Epoch 86/120\n",
            "540/540 [==============================] - 3s 6ms/step - loss: 2482677.0000 - mae: 916.4155 - val_loss: 2059330.2500 - val_mae: 924.3193\n",
            "Epoch 87/120\n",
            "540/540 [==============================] - 3s 6ms/step - loss: 2613613.2500 - mae: 933.5500 - val_loss: 813286.9375 - val_mae: 520.0344\n",
            "Epoch 88/120\n",
            "540/540 [==============================] - 3s 6ms/step - loss: 2549403.0000 - mae: 923.4147 - val_loss: 891826.0000 - val_mae: 521.0152\n",
            "Epoch 89/120\n",
            "540/540 [==============================] - 3s 6ms/step - loss: 2568161.0000 - mae: 929.1085 - val_loss: 840314.0625 - val_mae: 542.4510\n",
            "Epoch 90/120\n",
            "540/540 [==============================] - 3s 6ms/step - loss: 2536482.0000 - mae: 919.9677 - val_loss: 733918.1875 - val_mae: 498.4875\n",
            "Epoch 91/120\n",
            "540/540 [==============================] - 3s 6ms/step - loss: 2516091.7500 - mae: 925.9452 - val_loss: 791497.7500 - val_mae: 502.5239\n",
            "Epoch 92/120\n",
            "540/540 [==============================] - 3s 6ms/step - loss: 2605021.0000 - mae: 934.0824 - val_loss: 722111.1875 - val_mae: 474.7950\n",
            "Epoch 93/120\n",
            "540/540 [==============================] - 3s 5ms/step - loss: 2457796.7500 - mae: 906.9119 - val_loss: 830237.6250 - val_mae: 507.8429\n",
            "Epoch 94/120\n",
            "540/540 [==============================] - 3s 5ms/step - loss: 2555310.2500 - mae: 919.7607 - val_loss: 933164.4375 - val_mae: 547.7513\n",
            "Epoch 95/120\n",
            "540/540 [==============================] - 3s 6ms/step - loss: 2468023.7500 - mae: 907.8492 - val_loss: 1096671.3750 - val_mae: 572.6378\n",
            "Epoch 96/120\n",
            "540/540 [==============================] - 3s 6ms/step - loss: 2566376.2500 - mae: 925.5702 - val_loss: 918292.1875 - val_mae: 527.2108\n",
            "Epoch 97/120\n",
            "540/540 [==============================] - 3s 5ms/step - loss: 2533713.2500 - mae: 917.3297 - val_loss: 1002871.2500 - val_mae: 573.0234\n",
            "Epoch 98/120\n",
            "540/540 [==============================] - 4s 6ms/step - loss: 2465594.2500 - mae: 912.0265 - val_loss: 711381.5625 - val_mae: 474.7920\n",
            "Epoch 99/120\n",
            "540/540 [==============================] - 3s 6ms/step - loss: 2469168.0000 - mae: 910.8956 - val_loss: 760537.8125 - val_mae: 485.7385\n",
            "Epoch 100/120\n",
            "540/540 [==============================] - 3s 6ms/step - loss: 2587818.5000 - mae: 924.8500 - val_loss: 1160499.5000 - val_mae: 589.7283\n",
            "Epoch 101/120\n",
            "540/540 [==============================] - 3s 6ms/step - loss: 2540068.5000 - mae: 917.2703 - val_loss: 738826.0000 - val_mae: 504.0012\n",
            "Epoch 102/120\n",
            "540/540 [==============================] - 3s 6ms/step - loss: 2510043.7500 - mae: 918.6662 - val_loss: 981595.4375 - val_mae: 568.3258\n",
            "Epoch 103/120\n",
            "540/540 [==============================] - 3s 6ms/step - loss: 2500801.0000 - mae: 910.8181 - val_loss: 850839.5625 - val_mae: 537.7339\n",
            "Epoch 104/120\n",
            "540/540 [==============================] - 3s 6ms/step - loss: 2465896.5000 - mae: 908.2568 - val_loss: 696185.1875 - val_mae: 493.0347\n",
            "Epoch 105/120\n",
            "540/540 [==============================] - 3s 6ms/step - loss: 2476009.5000 - mae: 913.1094 - val_loss: 810135.6875 - val_mae: 509.8550\n",
            "Epoch 106/120\n",
            "540/540 [==============================] - 3s 6ms/step - loss: 2433587.0000 - mae: 901.5544 - val_loss: 910158.8750 - val_mae: 541.8570\n",
            "Epoch 107/120\n",
            "540/540 [==============================] - 3s 6ms/step - loss: 2465678.0000 - mae: 904.6077 - val_loss: 744444.6250 - val_mae: 493.2863\n",
            "Epoch 108/120\n",
            "540/540 [==============================] - 3s 6ms/step - loss: 2438386.2500 - mae: 900.8272 - val_loss: 765949.1250 - val_mae: 489.8577\n",
            "Epoch 109/120\n",
            "540/540 [==============================] - 3s 6ms/step - loss: 2467502.0000 - mae: 904.0900 - val_loss: 894720.3750 - val_mae: 513.0193\n",
            "Epoch 110/120\n",
            "540/540 [==============================] - 3s 6ms/step - loss: 2475763.7500 - mae: 904.2455 - val_loss: 665435.4375 - val_mae: 469.2737\n",
            "Epoch 111/120\n",
            "540/540 [==============================] - 3s 6ms/step - loss: 2439872.2500 - mae: 904.3408 - val_loss: 930762.5625 - val_mae: 589.9328\n",
            "Epoch 112/120\n",
            "540/540 [==============================] - 3s 5ms/step - loss: 2479115.5000 - mae: 905.0860 - val_loss: 846712.1875 - val_mae: 517.7848\n",
            "Epoch 113/120\n",
            "540/540 [==============================] - 3s 6ms/step - loss: 2469043.5000 - mae: 908.7979 - val_loss: 669273.0000 - val_mae: 457.2927\n",
            "Epoch 114/120\n",
            "540/540 [==============================] - 3s 6ms/step - loss: 2452949.0000 - mae: 903.1212 - val_loss: 810460.1250 - val_mae: 513.2656\n",
            "Epoch 115/120\n",
            "540/540 [==============================] - 3s 6ms/step - loss: 2401729.2500 - mae: 897.0444 - val_loss: 709337.6250 - val_mae: 489.2332\n",
            "Epoch 116/120\n",
            "540/540 [==============================] - 3s 6ms/step - loss: 2418410.0000 - mae: 905.6127 - val_loss: 742834.1875 - val_mae: 521.8142\n",
            "Epoch 117/120\n",
            "540/540 [==============================] - 3s 6ms/step - loss: 2420536.0000 - mae: 895.4047 - val_loss: 1008871.2500 - val_mae: 557.2940\n",
            "Epoch 118/120\n",
            "540/540 [==============================] - 4s 7ms/step - loss: 2373445.5000 - mae: 890.9205 - val_loss: 1038947.3750 - val_mae: 564.4446\n",
            "Epoch 119/120\n",
            "540/540 [==============================] - 3s 6ms/step - loss: 2430578.0000 - mae: 896.0039 - val_loss: 688481.6875 - val_mae: 469.8293\n",
            "Epoch 120/120\n",
            "540/540 [==============================] - 3s 6ms/step - loss: 2386258.5000 - mae: 894.1390 - val_loss: 1320843.7500 - val_mae: 644.6120\n"
          ]
        }
      ]
    },
    {
      "cell_type": "code",
      "metadata": {
        "colab": {
          "base_uri": "https://localhost:8080/",
          "height": 298
        },
        "id": "QIgZ-1D26kAB",
        "outputId": "56f52daa-bf5d-452a-8eba-1e09ca35caba"
      },
      "source": [
        "plt.plot(result_4.history['loss'],label='loss')\n",
        "plt.plot(result_4.history['val_loss'],label='val_loss')\n",
        "plt.legend()\n",
        "plt.title('PReLU with Linear(o/p)')\n"
      ],
      "execution_count": 39,
      "outputs": [
        {
          "output_type": "execute_result",
          "data": {
            "text/plain": [
              "Text(0.5, 1.0, 'PReLU with Linear(o/p)')"
            ]
          },
          "metadata": {},
          "execution_count": 39
        },
        {
          "output_type": "display_data",
          "data": {
            "image/png": "[encoded data removed]",
            "text/plain": [
              "<Figure size 432x288 with 1 Axes>"
            ]
          },
          "metadata": {
            "needs_background": "light"
          }
        }
      ]
    },
    {
      "cell_type": "markdown",
      "metadata": {
        "id": "k4vS-AROAkat"
      },
      "source": [
        "# Observations :\n",
        "  Parametric leaky ReLU (PReLU) is a variation of Leaky ReLU, where α is authorized to be learned during training. This was reported to strongly outperform ReLU on large image datasets, but on smaller datasets it runs the risk of overfitting the training set\n",
        "\n",
        "  9(col)(i/p layer) - 256(inner layer) - 128(inner layer) - 64(inner layer) - 32(inner layer) - 16(inner alyer) - 8(inner layer- 1(o/p)\n",
        "\n",
        "    loss='mse', \n",
        "    optimizer = \"adam\", \n",
        "    metrics=['mae'])\n",
        "    model.fit(train_X,y_train), \n",
        "    epochs = 120, \n",
        "    batch_size = 80, \n",
        "    validation_data = (test_X, y_test)."
      ]
    },
    {
      "cell_type": "markdown",
      "metadata": {
        "id": "bx-AlGYOAkMe"
      },
      "source": [
        "# model - 5"
      ]
    },
    {
      "cell_type": "code",
      "metadata": {
        "id": "UxTGDStcAaEy"
      },
      "source": [
        "model_5 = Sequential()\n",
        "# 128(col)(i/p layer) - 64(inner layer) - 32(inner layer) - 16(inner alyer) - 8(inner layer- 1(o/p)\n",
        "\n",
        "model_5.add(Dense(256, input_shape = (9, ), kernel_initializer='normal', activation = \"tanh\"))\n",
        "\n",
        "model_5.add(Dense(128, activation = \"tanh\"))\n",
        "model_5.add(Dense(64, activation = \"tanh\"))\n",
        "model_5.add(Dense(32, activation = \"tanh\"))\n",
        "model_5.add(Dense(16, activation = \"tanh\"))\n",
        "model_5.add(Dense(8, activation = \"tanh\"))\n",
        "model_5.add(Dense(1, activation = \"linear\"))"
      ],
      "execution_count": 40,
      "outputs": []
    },
    {
      "cell_type": "code",
      "metadata": {
        "colab": {
          "base_uri": "https://localhost:8080/"
        },
        "id": "mjZZmd1lAaIQ",
        "outputId": "43525d2b-4467-48fc-ff88-9cc0bcc0ae74"
      },
      "source": [
        "print(model_5.summary())"
      ],
      "execution_count": 41,
      "outputs": [
        {
          "output_type": "stream",
          "name": "stdout",
          "text": [
            "Model: \"sequential_4\"\n",
            "_________________________________________________________________\n",
            "Layer (type)                 Output Shape              Param #   \n",
            "=================================================================\n",
            "dense_25 (Dense)             (None, 256)               2560      \n",
            "_________________________________________________________________\n",
            "dense_26 (Dense)             (None, 128)               32896     \n",
            "_________________________________________________________________\n",
            "dense_27 (Dense)             (None, 64)                8256      \n",
            "_________________________________________________________________\n",
            "dense_28 (Dense)             (None, 32)                2080      \n",
            "_________________________________________________________________\n",
            "dense_29 (Dense)             (None, 16)                528       \n",
            "_________________________________________________________________\n",
            "dense_30 (Dense)             (None, 8)                 136       \n",
            "_________________________________________________________________\n",
            "dense_31 (Dense)             (None, 1)                 9         \n",
            "=================================================================\n",
            "Total params: 46,465\n",
            "Trainable params: 46,465\n",
            "Non-trainable params: 0\n",
            "_________________________________________________________________\n",
            "None\n"
          ]
        }
      ]
    },
    {
      "cell_type": "code",
      "metadata": {
        "colab": {
          "base_uri": "https://localhost:8080/"
        },
        "id": "H6diIv9-AaPW",
        "outputId": "3103f4ac-5368-4ff3-9fbf-31a8b93f2932"
      },
      "source": [
        "model_5.compile(loss='mse', optimizer = \"adam\", metrics=['mae'])\n",
        "result_5 = model_5.fit(train_X,y_train, epochs = 120, batch_size = 80, validation_data = (test_X, y_test))"
      ],
      "execution_count": 42,
      "outputs": [
        {
          "output_type": "stream",
          "name": "stdout",
          "text": [
            "Epoch 1/120\n",
            "540/540 [==============================] - 3s 5ms/step - loss: 31415160.0000 - mae: 3935.6506 - val_loss: 31009348.0000 - val_mae: 3890.7520\n",
            "Epoch 2/120\n",
            "540/540 [==============================] - 2s 5ms/step - loss: 31375970.0000 - mae: 3930.6428 - val_loss: 30971558.0000 - val_mae: 3885.8972\n",
            "Epoch 3/120\n",
            "540/540 [==============================] - 2s 4ms/step - loss: 31337842.0000 - mae: 3925.7913 - val_loss: 30933918.0000 - val_mae: 3881.0481\n",
            "Epoch 4/120\n",
            "540/540 [==============================] - 2s 4ms/step - loss: 31299918.0000 - mae: 3920.9626 - val_loss: 30896484.0000 - val_mae: 3876.2251\n",
            "Epoch 5/120\n",
            "540/540 [==============================] - 2s 4ms/step - loss: 31262084.0000 - mae: 3916.1338 - val_loss: 30859090.0000 - val_mae: 3871.3979\n",
            "Epoch 6/120\n",
            "540/540 [==============================] - 2s 4ms/step - loss: 31224386.0000 - mae: 3911.3115 - val_loss: 30821812.0000 - val_mae: 3866.5789\n",
            "Epoch 7/120\n",
            "540/540 [==============================] - 2s 4ms/step - loss: 31186652.0000 - mae: 3906.5020 - val_loss: 30784540.0000 - val_mae: 3861.7576\n",
            "Epoch 8/120\n",
            "540/540 [==============================] - 2s 5ms/step - loss: 31149016.0000 - mae: 3901.6753 - val_loss: 30747324.0000 - val_mae: 3856.9373\n",
            "Epoch 9/120\n",
            "540/540 [==============================] - 2s 4ms/step - loss: 31111482.0000 - mae: 3896.8464 - val_loss: 30710222.0000 - val_mae: 3852.1250\n",
            "Epoch 10/120\n",
            "540/540 [==============================] - 2s 4ms/step - loss: 31073954.0000 - mae: 3892.0349 - val_loss: 30673102.0000 - val_mae: 3847.3008\n",
            "Epoch 11/120\n",
            "540/540 [==============================] - 2s 4ms/step - loss: 31036494.0000 - mae: 3887.2046 - val_loss: 30636106.0000 - val_mae: 3842.4910\n",
            "Epoch 12/120\n",
            "540/540 [==============================] - 2s 4ms/step - loss: 30999068.0000 - mae: 3882.4080 - val_loss: 30599092.0000 - val_mae: 3837.6741\n",
            "Epoch 13/120\n",
            "540/540 [==============================] - 2s 4ms/step - loss: 30961696.0000 - mae: 3877.5798 - val_loss: 30562162.0000 - val_mae: 3832.8521\n",
            "Epoch 14/120\n",
            "540/540 [==============================] - 2s 4ms/step - loss: 30924332.0000 - mae: 3872.7690 - val_loss: 30525218.0000 - val_mae: 3828.0364\n",
            "Epoch 15/120\n",
            "540/540 [==============================] - 2s 4ms/step - loss: 30887050.0000 - mae: 3867.9478 - val_loss: 30488356.0000 - val_mae: 3823.2151\n",
            "Epoch 16/120\n",
            "540/540 [==============================] - 2s 4ms/step - loss: 30849836.0000 - mae: 3863.1223 - val_loss: 30451608.0000 - val_mae: 3818.4102\n",
            "Epoch 17/120\n",
            "540/540 [==============================] - 2s 4ms/step - loss: 30812634.0000 - mae: 3858.3110 - val_loss: 30414842.0000 - val_mae: 3813.5903\n",
            "Epoch 18/120\n",
            "540/540 [==============================] - 2s 5ms/step - loss: 30775498.0000 - mae: 3853.5125 - val_loss: 30378104.0000 - val_mae: 3808.7739\n",
            "Epoch 19/120\n",
            "540/540 [==============================] - 2s 4ms/step - loss: 30738338.0000 - mae: 3848.6853 - val_loss: 30341364.0000 - val_mae: 3803.9458\n",
            "Epoch 20/120\n",
            "540/540 [==============================] - 2s 4ms/step - loss: 30701256.0000 - mae: 3843.8679 - val_loss: 30304756.0000 - val_mae: 3799.1328\n",
            "Epoch 21/120\n",
            "540/540 [==============================] - 2s 4ms/step - loss: 30664274.0000 - mae: 3839.0488 - val_loss: 30268164.0000 - val_mae: 3794.3110\n",
            "Epoch 22/120\n",
            "540/540 [==============================] - 2s 4ms/step - loss: 30627310.0000 - mae: 3834.2280 - val_loss: 30231658.0000 - val_mae: 3789.4976\n",
            "Epoch 23/120\n",
            "540/540 [==============================] - 3s 5ms/step - loss: 30590368.0000 - mae: 3829.4175 - val_loss: 30195110.0000 - val_mae: 3784.6748\n",
            "Epoch 24/120\n",
            "540/540 [==============================] - 2s 5ms/step - loss: 30553512.0000 - mae: 3824.5933 - val_loss: 30158740.0000 - val_mae: 3779.8640\n",
            "Epoch 25/120\n",
            "540/540 [==============================] - 3s 5ms/step - loss: 30516694.0000 - mae: 3819.7705 - val_loss: 30122376.0000 - val_mae: 3775.0486\n",
            "Epoch 26/120\n",
            "540/540 [==============================] - 2s 4ms/step - loss: 30479954.0000 - mae: 3814.9644 - val_loss: 30086020.0000 - val_mae: 3770.2361\n",
            "Epoch 27/120\n",
            "540/540 [==============================] - 2s 4ms/step - loss: 30443204.0000 - mae: 3810.1553 - val_loss: 30049738.0000 - val_mae: 3765.4148\n",
            "Epoch 28/120\n",
            "540/540 [==============================] - 2s 4ms/step - loss: 30406544.0000 - mae: 3805.3333 - val_loss: 30013474.0000 - val_mae: 3760.5981\n",
            "Epoch 29/120\n",
            "540/540 [==============================] - 2s 4ms/step - loss: 30369900.0000 - mae: 3800.5283 - val_loss: 29977276.0000 - val_mae: 3755.7861\n",
            "Epoch 30/120\n",
            "540/540 [==============================] - 2s 4ms/step - loss: 30333318.0000 - mae: 3795.7012 - val_loss: 29941104.0000 - val_mae: 3750.9641\n",
            "Epoch 31/120\n",
            "540/540 [==============================] - 2s 4ms/step - loss: 30296792.0000 - mae: 3790.8943 - val_loss: 29905012.0000 - val_mae: 3746.1514\n",
            "Epoch 32/120\n",
            "540/540 [==============================] - 2s 4ms/step - loss: 30260266.0000 - mae: 3786.0742 - val_loss: 29868932.0000 - val_mae: 3741.3359\n",
            "Epoch 33/120\n",
            "540/540 [==============================] - 2s 4ms/step - loss: 30223830.0000 - mae: 3781.2578 - val_loss: 29832958.0000 - val_mae: 3736.5234\n",
            "Epoch 34/120\n",
            "540/540 [==============================] - 2s 4ms/step - loss: 30187434.0000 - mae: 3776.4380 - val_loss: 29796976.0000 - val_mae: 3731.7019\n",
            "Epoch 35/120\n",
            "540/540 [==============================] - 2s 4ms/step - loss: 30151076.0000 - mae: 3771.6248 - val_loss: 29761016.0000 - val_mae: 3726.8787\n",
            "Epoch 36/120\n",
            "540/540 [==============================] - 2s 4ms/step - loss: 30114804.0000 - mae: 3766.8008 - val_loss: 29725186.0000 - val_mae: 3722.0735\n",
            "Epoch 37/120\n",
            "540/540 [==============================] - 2s 4ms/step - loss: 30078566.0000 - mae: 3761.9795 - val_loss: 29689372.0000 - val_mae: 3717.2607\n",
            "Epoch 38/120\n",
            "540/540 [==============================] - 3s 5ms/step - loss: 30042340.0000 - mae: 3757.1799 - val_loss: 29653570.0000 - val_mae: 3712.4402\n",
            "Epoch 39/120\n",
            "540/540 [==============================] - 2s 4ms/step - loss: 30006208.0000 - mae: 3752.3538 - val_loss: 29617908.0000 - val_mae: 3707.6328\n",
            "Epoch 40/120\n",
            "540/540 [==============================] - 2s 4ms/step - loss: 29970102.0000 - mae: 3747.5427 - val_loss: 29582232.0000 - val_mae: 3702.8184\n",
            "Epoch 41/120\n",
            "540/540 [==============================] - 2s 4ms/step - loss: 29934044.0000 - mae: 3742.7400 - val_loss: 29546554.0000 - val_mae: 3697.9973\n",
            "Epoch 42/120\n",
            "540/540 [==============================] - 2s 4ms/step - loss: 29898026.0000 - mae: 3737.9229 - val_loss: 29510996.0000 - val_mae: 3693.1873\n",
            "Epoch 43/120\n",
            "540/540 [==============================] - 2s 4ms/step - loss: 29862024.0000 - mae: 3733.1028 - val_loss: 29475438.0000 - val_mae: 3688.3694\n",
            "Epoch 44/120\n",
            "540/540 [==============================] - 2s 4ms/step - loss: 29826088.0000 - mae: 3728.2966 - val_loss: 29439934.0000 - val_mae: 3683.5518\n",
            "Epoch 45/120\n",
            "540/540 [==============================] - 2s 4ms/step - loss: 29790246.0000 - mae: 3723.4705 - val_loss: 29404502.0000 - val_mae: 3678.7405\n",
            "Epoch 46/120\n",
            "540/540 [==============================] - 2s 4ms/step - loss: 29754438.0000 - mae: 3718.6619 - val_loss: 29369146.0000 - val_mae: 3673.9343\n",
            "Epoch 47/120\n",
            "540/540 [==============================] - 2s 4ms/step - loss: 29718656.0000 - mae: 3713.8557 - val_loss: 29333754.0000 - val_mae: 3669.1143\n",
            "Epoch 48/120\n",
            "540/540 [==============================] - 2s 4ms/step - loss: 29682920.0000 - mae: 3709.0305 - val_loss: 29298462.0000 - val_mae: 3664.2981\n",
            "Epoch 49/120\n",
            "540/540 [==============================] - 2s 4ms/step - loss: 29647230.0000 - mae: 3704.2188 - val_loss: 29263218.0000 - val_mae: 3659.4890\n",
            "Epoch 50/120\n",
            "540/540 [==============================] - 2s 4ms/step - loss: 29611568.0000 - mae: 3699.4124 - val_loss: 29227974.0000 - val_mae: 3654.6719\n",
            "Epoch 51/120\n",
            "540/540 [==============================] - 2s 5ms/step - loss: 29575970.0000 - mae: 3694.5869 - val_loss: 29192834.0000 - val_mae: 3649.8601\n",
            "Epoch 52/120\n",
            "540/540 [==============================] - 3s 5ms/step - loss: 29540464.0000 - mae: 3689.7715 - val_loss: 29157718.0000 - val_mae: 3645.0474\n",
            "Epoch 53/120\n",
            "540/540 [==============================] - 2s 4ms/step - loss: 29504908.0000 - mae: 3684.9644 - val_loss: 29122630.0000 - val_mae: 3640.2273\n",
            "Epoch 54/120\n",
            "540/540 [==============================] - 2s 4ms/step - loss: 29469460.0000 - mae: 3680.1458 - val_loss: 29087590.0000 - val_mae: 3635.4116\n",
            "Epoch 55/120\n",
            "540/540 [==============================] - 2s 4ms/step - loss: 29434032.0000 - mae: 3675.3267 - val_loss: 29052590.0000 - val_mae: 3630.5969\n",
            "Epoch 56/120\n",
            "540/540 [==============================] - 2s 5ms/step - loss: 29398670.0000 - mae: 3670.5142 - val_loss: 29017664.0000 - val_mae: 3625.7861\n",
            "Epoch 57/120\n",
            "540/540 [==============================] - 2s 4ms/step - loss: 29363348.0000 - mae: 3665.7021 - val_loss: 28982764.0000 - val_mae: 3620.9656\n",
            "Epoch 58/120\n",
            "540/540 [==============================] - 2s 4ms/step - loss: 29328064.0000 - mae: 3660.8784 - val_loss: 28947912.0000 - val_mae: 3616.1494\n",
            "Epoch 59/120\n",
            "540/540 [==============================] - 2s 4ms/step - loss: 29292872.0000 - mae: 3656.0657 - val_loss: 28913174.0000 - val_mae: 3611.3416\n",
            "Epoch 60/120\n",
            "540/540 [==============================] - 2s 5ms/step - loss: 29257700.0000 - mae: 3651.2603 - val_loss: 28878400.0000 - val_mae: 3606.5269\n",
            "Epoch 61/120\n",
            "540/540 [==============================] - 2s 5ms/step - loss: 29222550.0000 - mae: 3646.4546 - val_loss: 28843686.0000 - val_mae: 3601.7107\n",
            "Epoch 62/120\n",
            "540/540 [==============================] - 2s 5ms/step - loss: 29187392.0000 - mae: 3641.6392 - val_loss: 28808970.0000 - val_mae: 3596.8870\n",
            "Epoch 63/120\n",
            "540/540 [==============================] - 2s 4ms/step - loss: 29152330.0000 - mae: 3636.8164 - val_loss: 28774358.0000 - val_mae: 3592.0737\n",
            "Epoch 64/120\n",
            "540/540 [==============================] - 2s 4ms/step - loss: 29117368.0000 - mae: 3631.9819 - val_loss: 28739884.0000 - val_mae: 3587.2732\n",
            "Epoch 65/120\n",
            "540/540 [==============================] - 2s 4ms/step - loss: 29082472.0000 - mae: 3627.1887 - val_loss: 28705390.0000 - val_mae: 3582.4617\n",
            "Epoch 66/120\n",
            "540/540 [==============================] - 2s 4ms/step - loss: 29047586.0000 - mae: 3622.3826 - val_loss: 28670904.0000 - val_mae: 3577.6453\n",
            "Epoch 67/120\n",
            "540/540 [==============================] - 2s 4ms/step - loss: 29012744.0000 - mae: 3617.5613 - val_loss: 28636520.0000 - val_mae: 3572.8362\n",
            "Epoch 68/120\n",
            "540/540 [==============================] - 2s 4ms/step - loss: 28977974.0000 - mae: 3612.7412 - val_loss: 28602162.0000 - val_mae: 3568.0251\n",
            "Epoch 69/120\n",
            "540/540 [==============================] - 2s 4ms/step - loss: 28943236.0000 - mae: 3607.9458 - val_loss: 28567848.0000 - val_mae: 3563.2139\n",
            "Epoch 70/120\n",
            "540/540 [==============================] - 2s 4ms/step - loss: 28908532.0000 - mae: 3603.1316 - val_loss: 28533572.0000 - val_mae: 3558.4023\n",
            "Epoch 71/120\n",
            "540/540 [==============================] - 2s 5ms/step - loss: 28873882.0000 - mae: 3598.3230 - val_loss: 28499318.0000 - val_mae: 3553.5913\n",
            "Epoch 72/120\n",
            "540/540 [==============================] - 2s 4ms/step - loss: 28839226.0000 - mae: 3593.5127 - val_loss: 28465146.0000 - val_mae: 3548.7820\n",
            "Epoch 73/120\n",
            "540/540 [==============================] - 2s 4ms/step - loss: 28804718.0000 - mae: 3588.7014 - val_loss: 28431054.0000 - val_mae: 3543.9780\n",
            "Epoch 74/120\n",
            "540/540 [==============================] - 2s 4ms/step - loss: 28770226.0000 - mae: 3583.8833 - val_loss: 28397008.0000 - val_mae: 3539.1792\n",
            "Epoch 75/120\n",
            "540/540 [==============================] - 2s 4ms/step - loss: 28735802.0000 - mae: 3579.0898 - val_loss: 28363010.0000 - val_mae: 3534.3789\n",
            "Epoch 76/120\n",
            "540/540 [==============================] - 2s 4ms/step - loss: 28701366.0000 - mae: 3574.3088 - val_loss: 28328978.0000 - val_mae: 3529.5767\n",
            "Epoch 77/120\n",
            "540/540 [==============================] - 3s 5ms/step - loss: 28666986.0000 - mae: 3569.4976 - val_loss: 28295044.0000 - val_mae: 3524.7825\n",
            "Epoch 78/120\n",
            "540/540 [==============================] - 2s 4ms/step - loss: 28632666.0000 - mae: 3564.7048 - val_loss: 28261158.0000 - val_mae: 3519.9941\n",
            "Epoch 79/120\n",
            "540/540 [==============================] - 3s 5ms/step - loss: 28598388.0000 - mae: 3559.9192 - val_loss: 28227302.0000 - val_mae: 3515.2080\n",
            "Epoch 80/120\n",
            "540/540 [==============================] - 2s 4ms/step - loss: 28564156.0000 - mae: 3555.1228 - val_loss: 28193520.0000 - val_mae: 3510.4302\n",
            "Epoch 81/120\n",
            "540/540 [==============================] - 2s 4ms/step - loss: 28529996.0000 - mae: 3550.3374 - val_loss: 28159808.0000 - val_mae: 3505.6597\n",
            "Epoch 82/120\n",
            "540/540 [==============================] - 2s 4ms/step - loss: 28495870.0000 - mae: 3545.5806 - val_loss: 28126070.0000 - val_mae: 3500.8921\n",
            "Epoch 83/120\n",
            "540/540 [==============================] - 2s 4ms/step - loss: 28461782.0000 - mae: 3540.7993 - val_loss: 28092436.0000 - val_mae: 3496.1372\n",
            "Epoch 84/120\n",
            "540/540 [==============================] - 2s 5ms/step - loss: 28427720.0000 - mae: 3536.0479 - val_loss: 28058794.0000 - val_mae: 3491.3804\n",
            "Epoch 85/120\n",
            "540/540 [==============================] - 3s 5ms/step - loss: 28393764.0000 - mae: 3531.2739 - val_loss: 28025282.0000 - val_mae: 3486.6445\n",
            "Epoch 86/120\n",
            "540/540 [==============================] - 2s 4ms/step - loss: 28359830.0000 - mae: 3526.5396 - val_loss: 27991766.0000 - val_mae: 3481.9043\n",
            "Epoch 87/120\n",
            "540/540 [==============================] - 2s 4ms/step - loss: 28325932.0000 - mae: 3521.8025 - val_loss: 27958300.0000 - val_mae: 3477.1765\n",
            "Epoch 88/120\n",
            "540/540 [==============================] - 2s 4ms/step - loss: 28292060.0000 - mae: 3517.0706 - val_loss: 27924846.0000 - val_mae: 3472.4541\n",
            "Epoch 89/120\n",
            "540/540 [==============================] - 3s 5ms/step - loss: 28258266.0000 - mae: 3512.3486 - val_loss: 27891492.0000 - val_mae: 3467.7419\n",
            "Epoch 90/120\n",
            "540/540 [==============================] - 2s 4ms/step - loss: 28224502.0000 - mae: 3507.6526 - val_loss: 27858122.0000 - val_mae: 3463.0435\n",
            "Epoch 91/120\n",
            "540/540 [==============================] - 2s 5ms/step - loss: 28190774.0000 - mae: 3502.9500 - val_loss: 27824852.0000 - val_mae: 3458.3594\n",
            "Epoch 92/120\n",
            "540/540 [==============================] - 2s 4ms/step - loss: 28157110.0000 - mae: 3498.2622 - val_loss: 27791616.0000 - val_mae: 3453.6763\n",
            "Epoch 93/120\n",
            "540/540 [==============================] - 2s 5ms/step - loss: 28123482.0000 - mae: 3493.5977 - val_loss: 27758456.0000 - val_mae: 3449.0193\n",
            "Epoch 94/120\n",
            "540/540 [==============================] - 2s 4ms/step - loss: 28089906.0000 - mae: 3488.9519 - val_loss: 27725310.0000 - val_mae: 3444.3701\n",
            "Epoch 95/120\n",
            "540/540 [==============================] - 2s 4ms/step - loss: 28056392.0000 - mae: 3484.3062 - val_loss: 27692228.0000 - val_mae: 3439.7385\n",
            "Epoch 96/120\n",
            "540/540 [==============================] - 2s 4ms/step - loss: 28022904.0000 - mae: 3479.6938 - val_loss: 27659162.0000 - val_mae: 3435.1174\n",
            "Epoch 97/120\n",
            "540/540 [==============================] - 2s 4ms/step - loss: 27989452.0000 - mae: 3475.0752 - val_loss: 27626154.0000 - val_mae: 3430.5105\n",
            "Epoch 98/120\n",
            "540/540 [==============================] - 2s 4ms/step - loss: 27956082.0000 - mae: 3470.4819 - val_loss: 27593204.0000 - val_mae: 3425.9185\n",
            "Epoch 99/120\n",
            "540/540 [==============================] - 2s 5ms/step - loss: 27922792.0000 - mae: 3465.8977 - val_loss: 27560340.0000 - val_mae: 3421.3540\n",
            "Epoch 100/120\n",
            "540/540 [==============================] - 3s 5ms/step - loss: 27889528.0000 - mae: 3461.3396 - val_loss: 27527532.0000 - val_mae: 3416.8057\n",
            "Epoch 101/120\n",
            "540/540 [==============================] - 2s 4ms/step - loss: 27856280.0000 - mae: 3456.7898 - val_loss: 27494696.0000 - val_mae: 3412.2644\n",
            "Epoch 102/120\n",
            "540/540 [==============================] - 2s 4ms/step - loss: 27823112.0000 - mae: 3452.2532 - val_loss: 27461938.0000 - val_mae: 3407.7456\n",
            "Epoch 103/120\n",
            "540/540 [==============================] - 2s 4ms/step - loss: 27789992.0000 - mae: 3447.7478 - val_loss: 27429268.0000 - val_mae: 3403.2446\n",
            "Epoch 104/120\n",
            "540/540 [==============================] - 2s 4ms/step - loss: 27756892.0000 - mae: 3443.2522 - val_loss: 27396572.0000 - val_mae: 3398.7520\n",
            "Epoch 105/120\n",
            "540/540 [==============================] - 3s 5ms/step - loss: 27723894.0000 - mae: 3438.7542 - val_loss: 27364010.0000 - val_mae: 3394.2959\n",
            "Epoch 106/120\n",
            "540/540 [==============================] - 3s 5ms/step - loss: 27690876.0000 - mae: 3434.3210 - val_loss: 27331422.0000 - val_mae: 3389.8513\n",
            "Epoch 107/120\n",
            "540/540 [==============================] - 2s 5ms/step - loss: 27657956.0000 - mae: 3429.8650 - val_loss: 27298928.0000 - val_mae: 3385.4194\n",
            "Epoch 108/120\n",
            "540/540 [==============================] - 2s 5ms/step - loss: 27625056.0000 - mae: 3425.4224 - val_loss: 27266496.0000 - val_mae: 3381.0015\n",
            "Epoch 109/120\n",
            "540/540 [==============================] - 2s 4ms/step - loss: 27592224.0000 - mae: 3420.9929 - val_loss: 27234084.0000 - val_mae: 3376.6099\n",
            "Epoch 110/120\n",
            "540/540 [==============================] - 2s 4ms/step - loss: 27559434.0000 - mae: 3416.6033 - val_loss: 27201710.0000 - val_mae: 3372.2400\n",
            "Epoch 111/120\n",
            "540/540 [==============================] - 3s 5ms/step - loss: 27526670.0000 - mae: 3412.2209 - val_loss: 27169390.0000 - val_mae: 3367.8887\n",
            "Epoch 112/120\n",
            "540/540 [==============================] - 2s 4ms/step - loss: 27493916.0000 - mae: 3407.8618 - val_loss: 27137044.0000 - val_mae: 3363.5576\n",
            "Epoch 113/120\n",
            "540/540 [==============================] - 2s 4ms/step - loss: 27461248.0000 - mae: 3403.5051 - val_loss: 27104792.0000 - val_mae: 3359.2668\n",
            "Epoch 114/120\n",
            "540/540 [==============================] - 2s 4ms/step - loss: 27428638.0000 - mae: 3399.1924 - val_loss: 27072638.0000 - val_mae: 3355.0015\n",
            "Epoch 115/120\n",
            "540/540 [==============================] - 3s 5ms/step - loss: 27396032.0000 - mae: 3394.8965 - val_loss: 27040456.0000 - val_mae: 3350.7571\n",
            "Epoch 116/120\n",
            "540/540 [==============================] - 2s 4ms/step - loss: 27363464.0000 - mae: 3390.6235 - val_loss: 27008310.0000 - val_mae: 3346.5298\n",
            "Epoch 117/120\n",
            "540/540 [==============================] - 2s 4ms/step - loss: 27330976.0000 - mae: 3386.3647 - val_loss: 26976244.0000 - val_mae: 3342.3247\n",
            "Epoch 118/120\n",
            "540/540 [==============================] - 2s 4ms/step - loss: 27298526.0000 - mae: 3382.1274 - val_loss: 26944250.0000 - val_mae: 3338.1360\n",
            "Epoch 119/120\n",
            "540/540 [==============================] - 2s 4ms/step - loss: 27266168.0000 - mae: 3377.9084 - val_loss: 26912320.0000 - val_mae: 3333.9822\n",
            "Epoch 120/120\n",
            "540/540 [==============================] - 2s 4ms/step - loss: 27233838.0000 - mae: 3373.7246 - val_loss: 26880406.0000 - val_mae: 3329.8535\n"
          ]
        }
      ]
    },
    {
      "cell_type": "code",
      "metadata": {
        "colab": {
          "base_uri": "https://localhost:8080/",
          "height": 298
        },
        "id": "1cteoa4KChvR",
        "outputId": "0a2f3d6f-06e3-46f3-f3e9-1ea5a55f646d"
      },
      "source": [
        "plt.plot(result_5.history['loss'],label='loss')\n",
        "plt.plot(result_5.history['val_loss'],label='val_loss')\n",
        "plt.legend()\n",
        "plt.title('tanh with Linear(o/p)')"
      ],
      "execution_count": 43,
      "outputs": [
        {
          "output_type": "execute_result",
          "data": {
            "text/plain": [
              "Text(0.5, 1.0, 'tanh with Linear(o/p)')"
            ]
          },
          "metadata": {},
          "execution_count": 43
        },
        {
          "output_type": "display_data",
          "data": {
            "image/png": "[encoded data removed]",
            "text/plain": [
              "<Figure size 432x288 with 1 Axes>"
            ]
          },
          "metadata": {
            "needs_background": "light"
          }
        }
      ]
    },
    {
      "cell_type": "markdown",
      "metadata": {
        "id": "nbxNJyNkCY2t"
      },
      "source": [
        "# Observations:\n",
        "The hyperbolic tangent function is another type of AF used in DL and it has some variants used in DL applications. The hyperbolic tangent function known as tanh function, whose range lies between -1 to 1,\n",
        "\n",
        "  9(col)(i/p layer) - 256(inner layer) - 128(inner layer) - 64(inner layer) - 32(inner layer) - 16(inner alyer) - 8(inner layer- 1(o/p)\n",
        "\n",
        "    loss='mse', \n",
        "    optimizer = \"adam\", \n",
        "    metrics=['mae'])\n",
        "    model.fit(train_X,y_train), \n",
        "    epochs = 120, \n",
        "    batch_size = 80, \n",
        "    validation_data = (test_X, y_test)."
      ]
    },
    {
      "cell_type": "code",
      "metadata": {
        "colab": {
          "base_uri": "https://localhost:8080/",
          "height": 298
        },
        "id": "CRpe2ggYI_S-",
        "outputId": "53e8fc43-96b9-4e4a-9787-5d13977f90ca"
      },
      "source": [
        "import matplotlib.pyplot as plt\n",
        "\n",
        "plt.plot(result_5.history['loss'],label='loss_Tanh')\n",
        "plt.plot(result_4.history['loss'],label='loss_PReLU')\n",
        "plt.plot(result_3.history['loss'],label='loss_LeakyRELU')\n",
        "plt.plot(result_2.history['loss'],label='loss_ELU')\n",
        "plt.plot(result_1.history['loss'],label='loss_RELU')\n",
        "plt.legend()\n",
        "plt.title('AF WITH LINEAR O/P')"
      ],
      "execution_count": 44,
      "outputs": [
        {
          "output_type": "execute_result",
          "data": {
            "text/plain": [
              "Text(0.5, 1.0, 'AF WITH LINEAR O/P')"
            ]
          },
          "metadata": {},
          "execution_count": 44
        },
        {
          "output_type": "display_data",
          "data": {
            "image/png": "[encoded data removed]",
            "text/plain": [
              "<Figure size 432x288 with 1 Axes>"
            ]
          },
          "metadata": {
            "needs_background": "light"
          }
        }
      ]
    },
    {
      "cell_type": "markdown",
      "metadata": {
        "id": "94xDTPFvFYq3"
      },
      "source": [
        "# Observations :\n",
        "\n",
        "  As we can see there is limit in tan of (-1 to 1)\n",
        "\n",
        "  so we got output as less and not similar to other while others are in similar.\n",
        "\n",
        "While otehr relu, leaky_relu, parametric_relu, elu all  range's are good compared to tan. "
      ]
    },
    {
      "cell_type": "code",
      "metadata": {
        "id": "ol9XA6H_ZHU6"
      },
      "source": [
        ""
      ],
      "execution_count": null,
      "outputs": []
    }
  ]
}